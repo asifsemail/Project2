{
 "cells": [
  {
   "cell_type": "code",
   "execution_count": 1,
   "metadata": {
    "colab": {
     "base_uri": "https://localhost:8080/",
     "height": 17
    },
    "id": "Oi0s0trMhUKc",
    "outputId": "41d612ae-dcd0-4548-d827-e9c298987c8c"
   },
   "outputs": [],
   "source": [
    "# Import the required libraries and dependencies\n",
    "from sklearn.ensemble import IsolationForest\n",
    "from sklearn.preprocessing import StandardScaler\n",
    "from sklearn.metrics import recall_score\n",
    "import category_encoders as ce\n",
    "from sklearn.ensemble import AdaBoostClassifier\n",
    "from sklearn.ensemble import IsolationForest\n",
    "from sklearn.model_selection import train_test_split, GridSearchCV\n",
    "import numpy as np\n",
    "import pandas as pd\n",
    "import matplotlib.pyplot as plt\n",
    "import plotly.graph_objects as go"
   ]
  },
  {
   "cell_type": "code",
   "execution_count": 2,
   "metadata": {
    "colab": {
     "base_uri": "https://localhost:8080/",
     "height": 235
    },
    "id": "3bDBwAD1hUKe",
    "outputId": "3384d622-a793-4817-f3d1-496d807ab299"
   },
   "outputs": [],
   "source": [
    "# Read csv file as DataFrame, with the first column as row index\n",
    "data = pd.read_csv(\"./Resources/credit_card_transactions.csv\")"
   ]
  },
  {
   "cell_type": "code",
   "execution_count": null,
   "metadata": {},
   "outputs": [
    {
     "data": {
      "text/plain": [
       "Index(['merchant', 'category', 'amt', 'gender', 'city', 'state', 'city_pop',\n",
       "       'job', 'ft_age_group', 'ft_trans_hour', 'ft_time_of_day',\n",
       "       'ft_trans_day', 'ft_trans_day_of_year', 'ft_trans_month',\n",
       "       'ft_trans_year', 'ft_day_of_week', 'ft_distance_user_merchant',\n",
       "       'ft_merchant_distance_from_user_mean', 'ft_merchant_popularity',\n",
       "       'ft_mean_amt_per_user', 'ft_amt_deviation',\n",
       "       'ft_transaction_count_per_user', 'ft_state_fraud_rate',\n",
       "       'ft_transaction_is_recurring'],\n",
       "      dtype='object')"
      ]
     },
     "execution_count": 3,
     "metadata": {},
     "output_type": "execute_result"
    }
   ],
   "source": [
    "df2 = data.copy()\n",
    "# Convert trans_date_trans_time to to datetime and use that to create extra feature columns\n",
    "# Added columns like dob, ft_age,ft_age_group, etc\n",
    "df2['trans_date_trans_time'] = pd.to_datetime(df2['trans_date_trans_time'])\n",
    "df2['dob'] = pd.to_datetime(df2['dob'])\n",
    "df2['ft_age'] = df2['trans_date_trans_time'].dt.year - df2['dob'].dt.year\n",
    "def age_segment(age):\n",
    "    if age < 18:\n",
    "        return 'Under 18'\n",
    "    elif 19 <= age <= 28:\n",
    "        return '19-28'\n",
    "    elif 29 <= age <= 38:\n",
    "        return '29-38'\n",
    "    elif 39 <= age <= 48:\n",
    "        return '39-48'\n",
    "    elif 49 <= age <= 58:\n",
    "        return '49-58'\n",
    "    elif 59 <= age <= 68:\n",
    "        return '59-68'\n",
    "    elif 69 <= age <= 78:\n",
    "        return '69-78'\n",
    "    else:\n",
    "        return '79+'\n",
    "\n",
    "# Apply age segmentation\n",
    "df2['ft_age_group'] = df2['ft_age'].apply(age_segment)\n",
    "df2['ft_trans_hour'] = df2['trans_date_trans_time'].dt.hour\n",
    "df2['ft_time_of_day'] = df2['trans_date_trans_time'].dt.hour.apply(\n",
    "    lambda hour: 'Morning' if 6 <= hour < 12 else\n",
    "    ('Afternoon' if 12 <= hour < 18 else\n",
    "    ('Evening' if 18 <= hour < 24 else 'Night'))\n",
    ")\n",
    "df2['ft_trans_day'] = df2['trans_date_trans_time'].dt.day\n",
    "\n",
    "# TRANSACTION DAY OF YEAR\n",
    "df2['ft_trans_day_of_year'] = df2['trans_date_trans_time'].dt.dayofyear\n",
    "\n",
    "# TRANSACTION MONTH\n",
    "df2['ft_trans_month'] = df2['trans_date_trans_time'].dt.month\n",
    "\n",
    "# TRANSACTION YEAR - Add a new column 'ft_trans_year' to represent the year of the transaction\n",
    "df2['ft_trans_year'] = df2['trans_date_trans_time'].dt.year\n",
    "\n",
    "# DAY OF WEEK - Add a new column 'day_of_week' to represent the day of the week (0=Monday, 6=Sunday)\n",
    "df2['ft_day_of_week'] = df2['trans_date_trans_time'].dt.day_name()\n",
    "\n",
    "# Define the Haversine Formula function that calculates the distance given two latitude/longitude points\n",
    "def haversine(lat1, lon1, lat2, lon2):\n",
    "    # Convert latitude and longitude from degrees to radians\n",
    "    lat1, lon1, lat2, lon2 = map(np.radians, [lat1, lon1, lat2, lon2])\n",
    "\n",
    "    # Haversine formula\n",
    "    dlat = lat2 - lat1\n",
    "    dlon = lon2 - lon1\n",
    "    a = np.sin(dlat / 2)**2 + np.cos(lat1) * np.cos(lat2) * np.sin(dlon / 2)**2\n",
    "    c = 2 * np.arctan2(np.sqrt(a), np.sqrt(1 - a))\n",
    "    radius = 6371  # Radius of Earth in kilometers\n",
    "    return radius * c\n",
    "\n",
    "# Create a new column for distance\n",
    "df2['ft_distance_user_merchant'] = haversine(\n",
    "    df2['lat'], df2['long'],\n",
    "    df2['merch_lat'], df2['merch_long']\n",
    ")\n",
    "\n",
    "# Calculate the average distance of previous transactions for a user and compare the current transaction distance\n",
    "user_avg_distance = df2.groupby('cc_num')['ft_distance_user_merchant'].transform('mean')\n",
    "df2['ft_merchant_distance_from_user_mean'] = df2['ft_distance_user_merchant'] - user_avg_distance\n",
    "\n",
    "merchant_transaction_counts = df2['merchant'].value_counts()\n",
    "df2['ft_merchant_popularity'] = df2['merchant'].map(merchant_transaction_counts)\n",
    "\n",
    "user_mean_amt = df2.groupby('cc_num')['amt'].transform('mean')\n",
    "df2['ft_mean_amt_per_user'] = user_mean_amt\n",
    "\n",
    "df2['ft_amt_deviation'] = df2['amt'] - df2['ft_mean_amt_per_user']\n",
    "\n",
    "user_transaction_count = df2['cc_num'].value_counts()\n",
    "df2['ft_transaction_count_per_user'] = df2['cc_num'].map(user_transaction_count)\n",
    "\n",
    "fraud_rate_by_state = df2.groupby('state')['is_fraud'].mean()\n",
    "df2['ft_state_fraud_rate'] = df2['state'].map(fraud_rate_by_state)\n",
    "\n",
    "df2['ft_transaction_is_recurring'] = df2.duplicated(subset=['cc_num', 'merchant'], keep=False).astype(int)\n",
    "\n",
    "# Define columns to drop\n",
    "columns_to_drop = [\n",
    "    'Unnamed: 0', 'trans_date_trans_time', 'cc_num', 'first', 'last', 'street', 'trans_num', 'lat', \n",
    "    'long', 'merch_zipcode', 'ft_age', 'merch_lat', 'merch_long', 'trans_num', 'unix_time', 'zip', 'dob'\n",
    "]\n",
    "df2_cleaned = df2.drop(columns=columns_to_drop)\n",
    "\n",
    "# Step 1: Define the split points\n",
    "train_val_size = 0.85  # 85% for train + validation\n",
    "test_size = 0.15       # 15% for testing\n",
    "# Compute the number of rows for train-validation and test sets\n",
    "train_val_end = int(len(df2_cleaned) * train_val_size)\n",
    "# Step 2: Split the data into train-validation and test sets\n",
    "train_val_data = df2_cleaned.iloc[:train_val_end]\n",
    "test_data = df2_cleaned.iloc[train_val_end:]\n",
    "# Step 3: Separate features and target for each set\n",
    "X_train_val = train_val_data.drop(columns=['is_fraud'])\n",
    "y_train_val = train_val_data['is_fraud']\n",
    "X_test = test_data.drop(columns=['is_fraud'])\n",
    "y_test = test_data['is_fraud']\n",
    "\n",
    "# Split the data into training and testing sets\n",
    "X_train, X_val, y_train, y_val = train_test_split(X_train_val, y_train_val, random_state=42, stratify = y_train_val)\n",
    "\n",
    "# Define categorical columns to encode\n",
    "categorical_columns = ['merchant', 'category', 'gender', 'city', 'state', \n",
    "                       'job', 'ft_time_of_day', 'ft_age_group', 'ft_day_of_week']\n",
    "\n",
    "# Initialize the target encoder\n",
    "encoder = ce.TargetEncoder(cols=categorical_columns)\n",
    "\n",
    "# Fit the encoder on X_train using y_train\n",
    "X_train_encoded = encoder.fit_transform(X_train, y_train)\n",
    "\n",
    "# Transform X_test using the already fitted encoder\n",
    "X_val_encoded = encoder.transform(X_val)\n",
    "X_test_encoded = encoder.transform(X_test)\n",
    "# Initialize the StandardScaler\n",
    "scaler = StandardScaler()\n",
    "\n",
    "# Fit the scaler on X_train_encoded and transform it\n",
    "X_train_scaled = scaler.fit_transform(X_train_encoded)\n",
    "\n",
    "# Transform X_test_encoded using the fitted scaler\n",
    "X_val_scaled = scaler.transform(X_val_encoded)\n",
    "\n",
    "X_test_encoded.columns"
   ]
  },
  {
   "cell_type": "code",
   "execution_count": null,
   "metadata": {},
   "outputs": [
    {
     "name": "stdout",
     "output_type": "stream",
     "text": [
      "['amt', 'ft_merchant_popularity', 'category', 'city', 'ft_trans_hour', 'ft_amt_deviation', 'ft_mean_amt_per_user', 'ft_age_group', 'merchant', 'city_pop', 'ft_transaction_count_per_user', 'job', 'ft_trans_day_of_year', 'ft_trans_day', 'gender', 'ft_distance_user_merchant', 'ft_time_of_day', 'ft_day_of_week', 'ft_merchant_distance_from_user_mean', 'state', 'ft_state_fraud_rate', 'ft_trans_month', 'ft_trans_year', 'ft_transaction_is_recurring']\n",
      "Recall Score Train: 0.8345188284518829\n",
      "Recall Score Validation: 0.8198367859384809\n",
      "Recall Score Test: 0.884377758164166\n",
      "\n",
      "['amt', 'ft_merchant_popularity', 'category', 'city', 'ft_trans_hour', 'ft_amt_deviation', 'ft_mean_amt_per_user', 'ft_age_group', 'merchant', 'city_pop', 'ft_transaction_count_per_user', 'job', 'ft_trans_day_of_year', 'ft_trans_day', 'gender', 'ft_distance_user_merchant', 'ft_time_of_day', 'ft_day_of_week', 'ft_merchant_distance_from_user_mean', 'state', 'ft_state_fraud_rate', 'ft_trans_month', 'ft_trans_year']\n",
      "Recall Score Train: 0.8361924686192469\n",
      "Recall Score Validation: 0.8242310106716887\n",
      "Recall Score Test: 0.8428949691085613\n",
      "\n",
      "['amt', 'ft_merchant_popularity', 'category', 'city', 'ft_trans_hour', 'ft_amt_deviation', 'ft_mean_amt_per_user', 'ft_age_group', 'merchant', 'city_pop', 'ft_transaction_count_per_user', 'job', 'ft_trans_day_of_year', 'ft_trans_day', 'gender', 'ft_distance_user_merchant', 'ft_time_of_day', 'ft_day_of_week', 'ft_merchant_distance_from_user_mean', 'state', 'ft_state_fraud_rate', 'ft_trans_month']\n",
      "Recall Score Train: 0.8100418410041841\n",
      "Recall Score Validation: 0.7991211550533585\n",
      "Recall Score Test: 0.7511032656663724\n",
      "\n",
      "['amt', 'ft_merchant_popularity', 'category', 'city', 'ft_trans_hour', 'ft_amt_deviation', 'ft_mean_amt_per_user', 'ft_age_group', 'merchant', 'city_pop', 'ft_transaction_count_per_user', 'job', 'ft_trans_day_of_year', 'ft_trans_day', 'gender', 'ft_distance_user_merchant', 'ft_time_of_day', 'ft_day_of_week', 'ft_merchant_distance_from_user_mean', 'state', 'ft_state_fraud_rate']\n",
      "Recall Score Train: 0.8050209205020921\n",
      "Recall Score Validation: 0.7922159447583177\n",
      "Recall Score Test: 0.7555163283318623\n",
      "\n",
      "['amt', 'ft_merchant_popularity', 'category', 'city', 'ft_trans_hour', 'ft_amt_deviation', 'ft_mean_amt_per_user', 'ft_age_group', 'merchant', 'city_pop', 'ft_transaction_count_per_user', 'job', 'ft_trans_day_of_year', 'ft_trans_day', 'gender', 'ft_distance_user_merchant', 'ft_time_of_day', 'ft_day_of_week', 'ft_merchant_distance_from_user_mean', 'state']\n",
      "Recall Score Train: 0.8322175732217573\n",
      "Recall Score Validation: 0.8129315756434401\n",
      "Recall Score Test: 0.7802294792586054\n",
      "\n",
      "['amt', 'ft_merchant_popularity', 'category', 'city', 'ft_trans_hour', 'ft_amt_deviation', 'ft_mean_amt_per_user', 'ft_age_group', 'merchant', 'city_pop', 'ft_transaction_count_per_user', 'job', 'ft_trans_day_of_year', 'ft_trans_day', 'gender', 'ft_distance_user_merchant', 'ft_time_of_day', 'ft_day_of_week', 'ft_merchant_distance_from_user_mean']\n",
      "Recall Score Train: 0.8460251046025105\n",
      "Recall Score Validation: 0.834902699309479\n",
      "Recall Score Test: 0.8128861429832304\n",
      "\n",
      "['amt', 'ft_merchant_popularity', 'category', 'city', 'ft_trans_hour', 'ft_amt_deviation', 'ft_mean_amt_per_user', 'ft_age_group', 'merchant', 'city_pop', 'ft_transaction_count_per_user', 'job', 'ft_trans_day_of_year', 'ft_trans_day', 'gender', 'ft_distance_user_merchant', 'ft_time_of_day', 'ft_day_of_week']\n",
      "Recall Score Train: 0.8309623430962343\n",
      "Recall Score Validation: 0.8198367859384809\n",
      "Recall Score Test: 0.7908208296557812\n",
      "\n",
      "['amt', 'ft_merchant_popularity', 'category', 'city', 'ft_trans_hour', 'ft_amt_deviation', 'ft_mean_amt_per_user', 'ft_age_group', 'merchant', 'city_pop', 'ft_transaction_count_per_user', 'job', 'ft_trans_day_of_year', 'ft_trans_day', 'gender', 'ft_distance_user_merchant', 'ft_time_of_day']\n",
      "Recall Score Train: 0.8150627615062761\n",
      "Recall Score Validation: 0.8041431261770244\n",
      "Recall Score Test: 0.7678729037952339\n",
      "\n",
      "['amt', 'ft_merchant_popularity', 'category', 'city', 'ft_trans_hour', 'ft_amt_deviation', 'ft_mean_amt_per_user', 'ft_age_group', 'merchant', 'city_pop', 'ft_transaction_count_per_user', 'job', 'ft_trans_day_of_year', 'ft_trans_day', 'gender', 'ft_distance_user_merchant']\n",
      "Recall Score Train: 0.8200836820083682\n",
      "Recall Score Validation: 0.8097928436911488\n",
      "Recall Score Test: 0.7793468667255075\n",
      "\n",
      "['amt', 'ft_merchant_popularity', 'category', 'city', 'ft_trans_hour', 'ft_amt_deviation', 'ft_mean_amt_per_user', 'ft_age_group', 'merchant', 'city_pop', 'ft_transaction_count_per_user', 'job', 'ft_trans_day_of_year', 'ft_trans_day', 'gender']\n",
      "Recall Score Train: 0.8307531380753138\n",
      "Recall Score Validation: 0.8242310106716887\n",
      "Recall Score Test: 0.7890556045895851\n",
      "\n",
      "['amt', 'ft_merchant_popularity', 'category', 'city', 'ft_trans_hour', 'ft_amt_deviation', 'ft_mean_amt_per_user', 'ft_age_group', 'merchant', 'city_pop', 'ft_transaction_count_per_user', 'job', 'ft_trans_day_of_year', 'ft_trans_day']\n",
      "Recall Score Train: 0.8148535564853556\n",
      "Recall Score Validation: 0.807909604519774\n",
      "Recall Score Test: 0.7802294792586054\n",
      "\n",
      "['amt', 'ft_merchant_popularity', 'category', 'city', 'ft_trans_hour', 'ft_amt_deviation', 'ft_mean_amt_per_user', 'ft_age_group', 'merchant', 'city_pop', 'ft_transaction_count_per_user', 'job', 'ft_trans_day_of_year']\n",
      "Recall Score Train: 0.7951882845188285\n",
      "Recall Score Validation: 0.7897049591964846\n",
      "Recall Score Test: 0.7696381288614298\n",
      "\n",
      "['amt', 'ft_merchant_popularity', 'category', 'city', 'ft_trans_hour', 'ft_amt_deviation', 'ft_mean_amt_per_user', 'ft_age_group', 'merchant', 'city_pop', 'ft_transaction_count_per_user', 'job']\n",
      "Recall Score Train: 0.803347280334728\n",
      "Recall Score Validation: 0.7934714375392341\n",
      "Recall Score Test: 0.7775816416593115\n",
      "\n",
      "['amt', 'ft_merchant_popularity', 'category', 'city', 'ft_trans_hour', 'ft_amt_deviation', 'ft_mean_amt_per_user', 'ft_age_group', 'merchant', 'city_pop', 'ft_transaction_count_per_user']\n",
      "Recall Score Train: 0.8158995815899581\n",
      "Recall Score Validation: 0.8060263653483992\n",
      "Recall Score Test: 0.7987643424536628\n",
      "\n",
      "['amt', 'ft_merchant_popularity', 'category', 'city', 'ft_trans_hour', 'ft_amt_deviation', 'ft_mean_amt_per_user', 'ft_age_group', 'merchant', 'city_pop']\n",
      "Recall Score Train: 0.8002092050209205\n",
      "Recall Score Validation: 0.7934714375392341\n",
      "Recall Score Test: 0.7669902912621359\n",
      "\n",
      "['amt', 'ft_merchant_popularity', 'category', 'city', 'ft_trans_hour', 'ft_amt_deviation', 'ft_mean_amt_per_user', 'ft_age_group', 'merchant']\n",
      "Recall Score Train: 0.8240585774058578\n",
      "Recall Score Validation: 0.8148148148148148\n",
      "Recall Score Test: 0.8005295675198588\n",
      "\n",
      "['amt', 'ft_merchant_popularity', 'category', 'city', 'ft_trans_hour', 'ft_amt_deviation', 'ft_mean_amt_per_user', 'ft_age_group']\n",
      "Recall Score Train: 0.8357740585774058\n",
      "Recall Score Validation: 0.8305084745762712\n",
      "Recall Score Test: 0.8084730803177406\n",
      "\n",
      "['amt', 'ft_merchant_popularity', 'category', 'city', 'ft_trans_hour', 'ft_amt_deviation', 'ft_mean_amt_per_user']\n",
      "Recall Score Train: 0.8269874476987448\n",
      "Recall Score Validation: 0.8192090395480226\n",
      "Recall Score Test: 0.8058252427184466\n",
      "\n",
      "['amt', 'ft_merchant_popularity', 'category', 'city', 'ft_trans_hour', 'ft_amt_deviation']\n",
      "Recall Score Train: 0.8359832635983263\n",
      "Recall Score Validation: 0.8210922787193974\n",
      "Recall Score Test: 0.7811120917917035\n",
      "\n",
      "['amt', 'ft_merchant_popularity', 'category', 'city', 'ft_trans_hour']\n",
      "Recall Score Train: 0.8564853556485356\n",
      "Recall Score Validation: 0.8468298807281858\n",
      "Recall Score Test: 0.8005295675198588\n",
      "\n",
      "['amt', 'ft_merchant_popularity', 'category', 'city']\n",
      "Recall Score Train: 0.8284518828451883\n",
      "Recall Score Validation: 0.8198367859384809\n",
      "Recall Score Test: 0.7784642541924095\n",
      "\n",
      "['amt', 'ft_merchant_popularity', 'category']\n",
      "Recall Score Train: 0.7947698744769874\n",
      "Recall Score Validation: 0.8022598870056498\n",
      "Recall Score Test: 0.793468667255075\n",
      "\n",
      "['amt', 'ft_merchant_popularity']\n",
      "Recall Score Train: 0.8096234309623431\n",
      "Recall Score Validation: 0.8192090395480226\n",
      "Recall Score Test: 0.8058252427184466\n",
      "\n",
      "['amt']\n",
      "Recall Score Train: 0.7631799163179916\n",
      "Recall Score Validation: 0.7633396107972379\n",
      "Recall Score Test: 0.7705207413945278\n",
      "\n",
      "Train Scores: \n",
      "0.8345188284518829\n",
      "0.8361924686192469\n",
      "0.8100418410041841\n",
      "0.8050209205020921\n",
      "0.8322175732217573\n",
      "0.8460251046025105\n",
      "0.8309623430962343\n",
      "0.8150627615062761\n",
      "0.8200836820083682\n",
      "0.8307531380753138\n",
      "0.8148535564853556\n",
      "0.7951882845188285\n",
      "0.803347280334728\n",
      "0.8158995815899581\n",
      "0.8002092050209205\n",
      "0.8240585774058578\n",
      "0.8357740585774058\n",
      "0.8269874476987448\n",
      "0.8359832635983263\n",
      "0.8564853556485356\n",
      "0.8284518828451883\n",
      "0.7947698744769874\n",
      "0.8096234309623431\n",
      "0.7631799163179916\n",
      "\n",
      "Val Scores: \n",
      "0.8198367859384809\n",
      "0.8242310106716887\n",
      "0.7991211550533585\n",
      "0.7922159447583177\n",
      "0.8129315756434401\n",
      "0.834902699309479\n",
      "0.8198367859384809\n",
      "0.8041431261770244\n",
      "0.8097928436911488\n",
      "0.8242310106716887\n",
      "0.807909604519774\n",
      "0.7897049591964846\n",
      "0.7934714375392341\n",
      "0.8060263653483992\n",
      "0.7934714375392341\n",
      "0.8148148148148148\n",
      "0.8305084745762712\n",
      "0.8192090395480226\n",
      "0.8210922787193974\n",
      "0.8468298807281858\n",
      "0.8198367859384809\n",
      "0.8022598870056498\n",
      "0.8192090395480226\n",
      "0.7633396107972379\n",
      "\n",
      "Test Scores: \n",
      "0.884377758164166\n",
      "0.8428949691085613\n",
      "0.7511032656663724\n",
      "0.7555163283318623\n",
      "0.7802294792586054\n",
      "0.8128861429832304\n",
      "0.7908208296557812\n",
      "0.7678729037952339\n",
      "0.7793468667255075\n",
      "0.7890556045895851\n",
      "0.7802294792586054\n",
      "0.7696381288614298\n",
      "0.7775816416593115\n",
      "0.7987643424536628\n",
      "0.7669902912621359\n",
      "0.8005295675198588\n",
      "0.8084730803177406\n",
      "0.8058252427184466\n",
      "0.7811120917917035\n",
      "0.8005295675198588\n",
      "0.7784642541924095\n",
      "0.793468667255075\n",
      "0.8058252427184466\n",
      "0.7705207413945278\n"
     ]
    }
   ],
   "source": [
    "# Define columns in order of feature importance\n",
    "columns_to_keep_final = [\"amt\",\"ft_merchant_popularity\",\"category\",\"city\",\"ft_trans_hour\",\"ft_amt_deviation\",\"ft_mean_amt_per_user\",\"ft_age_group\",\"merchant\",\"city_pop\",\n",
    "                         \"ft_transaction_count_per_user\",\"job\",\"ft_trans_day_of_year\",\"ft_trans_day\",\"gender\",\"ft_distance_user_merchant\",\"ft_time_of_day\",\"ft_day_of_week\",\n",
    "                         \"ft_merchant_distance_from_user_mean\",\"state\",\"ft_state_fraud_rate\",\"ft_trans_month\",\"ft_trans_year\",\"ft_transaction_is_recurring\"]\n",
    "# Create copy of the ordered columns\n",
    "c = columns_to_keep_final\n",
    "\n",
    "# Create arrays to house the scores\n",
    "trainsscores = []\n",
    "valscores = []\n",
    "testscores = []\n",
    "\n",
    "# forloop to calculate the scores while dropping the features one by one\n",
    "for j in range(0, len(columns_to_keep_final)):\n",
    "    c = c[0:len(columns_to_keep_final)-j]\n",
    "    X_train_encoded_final = X_train_encoded.drop(columns=[col for col in X_train_encoded.columns if col not in c], errors='ignore')\n",
    "\n",
    "    X_val_encoded_final = X_val_encoded.drop(columns=[col for col in X_train_encoded.columns if col not in c], errors='ignore')\n",
    "\n",
    "    X_test_encoded_final = X_test_encoded.drop(columns=[col for col in X_train_encoded.columns if col not in c], errors='ignore')\n",
    "    \n",
    "    print(list(c))\n",
    "    # Initialize the IsolationForest and train it and predict it\n",
    "    i = IsolationForest(random_state=42)\n",
    "    i.fit(X_train_encoded_final, y_train)\n",
    "    i_train_predict = i.predict(X_train_encoded_final)\n",
    "    i_val_predict = i.predict(X_val_encoded_final)\n",
    "    i_test_predict = i.predict(X_test_encoded_final)\n",
    "    # The output of Isolation Forest are -1 and 1 where -1 is the anomaly. Converting -1 to 1 and 1 to 0.\n",
    "    for k in range(0,len(i_train_predict)):\n",
    "        if i_train_predict[k] == -1:\n",
    "            i_train_predict[k] = 1\n",
    "        else:\n",
    "            i_train_predict[k] = 0\n",
    "\n",
    "    for k in range(0,len(i_val_predict)):\n",
    "        if i_val_predict[k] == -1:\n",
    "            i_val_predict[k] = 1\n",
    "        else:\n",
    "            i_val_predict[k] = 0\n",
    "\n",
    "    for k in range(0,len(i_test_predict)):\n",
    "        if i_test_predict[k] == -1:\n",
    "            i_test_predict[k] = 1\n",
    "        else:\n",
    "            i_test_predict[k] = 0\n",
    "    # Calculate the recall score and put it in the arrays\n",
    "    trainsscores.append(recall_score(y_train,i_train_predict))\n",
    "    valscores.append(recall_score(y_val,i_val_predict))\n",
    "    testscores.append(recall_score(y_test,i_test_predict))\n",
    "\n",
    "    print(f\"Recall Score Train: {recall_score(y_train,i_train_predict)}\")\n",
    "    print(f\"Recall Score Validation: {recall_score(y_val,i_val_predict)}\")\n",
    "    print(f\"Recall Score Test: {recall_score(y_test,i_test_predict)}\")\n",
    "    print(\"\")\n",
    "\n",
    "print(\"Train Scores: \")\n",
    "for k in range(0, len(trainsscores)):\n",
    "    print(trainsscores[k])\n",
    "print(\"\")\n",
    "print(\"Val Scores: \")\n",
    "for k in range(0, len(valscores)):\n",
    "    print(valscores[k])\n",
    "print(\"\")\n",
    "print(\"Test Scores: \")\n",
    "for k in range(0, len(testscores)):\n",
    "    print(testscores[k])\n"
   ]
  },
  {
   "cell_type": "code",
   "execution_count": null,
   "metadata": {},
   "outputs": [
    {
     "data": {
      "application/vnd.plotly.v1+json": {
       "config": {
        "plotlyServerURL": "https://plot.ly"
       },
       "data": [
        {
         "line": {
          "color": "forestgreen",
          "width": 4
         },
         "marker": {
          "size": [
           10,
           10,
           10,
           10,
           10,
           10,
           10,
           10,
           10,
           10,
           10,
           10,
           10,
           10,
           10,
           10,
           10,
           10,
           10,
           10,
           10,
           10,
           10,
           10
          ]
         },
         "mode": "lines+markers",
         "name": "Train Scores",
         "type": "scatter",
         "x": [
          0,
          1,
          2,
          3,
          4,
          5,
          6,
          7,
          8,
          9,
          10,
          11,
          12,
          13,
          14,
          15,
          16,
          17,
          18,
          19,
          20,
          21,
          22,
          23
         ],
         "y": [
          0.8345188284518829,
          0.8361924686192469,
          0.8100418410041841,
          0.8050209205020921,
          0.8322175732217573,
          0.8460251046025105,
          0.8309623430962343,
          0.8150627615062761,
          0.8200836820083682,
          0.8307531380753138,
          0.8148535564853556,
          0.7951882845188285,
          0.803347280334728,
          0.8158995815899581,
          0.8002092050209205,
          0.8240585774058578,
          0.8357740585774058,
          0.8269874476987448,
          0.8359832635983263,
          0.8564853556485356,
          0.8284518828451883,
          0.7947698744769874,
          0.8096234309623431,
          0.7631799163179916
         ]
        },
        {
         "line": {
          "color": "goldenrod",
          "width": 4
         },
         "marker": {
          "size": [
           10,
           10,
           10,
           10,
           10,
           10,
           10,
           10,
           10,
           10,
           10,
           10,
           10,
           10,
           10,
           10,
           10,
           10,
           10,
           10,
           10,
           10,
           10,
           10
          ]
         },
         "mode": "lines+markers",
         "name": "Val Scores",
         "type": "scatter",
         "x": [
          0,
          1,
          2,
          3,
          4,
          5,
          6,
          7,
          8,
          9,
          10,
          11,
          12,
          13,
          14,
          15,
          16,
          17,
          18,
          19,
          20,
          21,
          22,
          23
         ],
         "y": [
          0.8198367859384809,
          0.8242310106716887,
          0.7991211550533585,
          0.7922159447583177,
          0.8129315756434401,
          0.834902699309479,
          0.8198367859384809,
          0.8041431261770244,
          0.8097928436911488,
          0.8242310106716887,
          0.807909604519774,
          0.7897049591964846,
          0.7934714375392341,
          0.8060263653483992,
          0.7934714375392341,
          0.8148148148148148,
          0.8305084745762712,
          0.8192090395480226,
          0.8210922787193974,
          0.8468298807281858,
          0.8198367859384809,
          0.8022598870056498,
          0.8192090395480226,
          0.7633396107972379
         ]
        },
        {
         "line": {
          "color": "indianred",
          "width": 4
         },
         "marker": {
          "size": [
           10,
           10,
           10,
           10,
           10,
           10,
           10,
           10,
           10,
           10,
           10,
           10,
           10,
           10,
           10,
           10,
           10,
           10,
           10,
           10,
           10,
           10,
           10,
           10
          ]
         },
         "mode": "lines+markers",
         "name": "Test Scores",
         "type": "scatter",
         "x": [
          0,
          1,
          2,
          3,
          4,
          5,
          6,
          7,
          8,
          9,
          10,
          11,
          12,
          13,
          14,
          15,
          16,
          17,
          18,
          19,
          20,
          21,
          22,
          23
         ],
         "y": [
          0.884377758164166,
          0.8428949691085613,
          0.7511032656663724,
          0.7555163283318623,
          0.7802294792586054,
          0.8128861429832304,
          0.7908208296557812,
          0.7678729037952339,
          0.7793468667255075,
          0.7890556045895851,
          0.7802294792586054,
          0.7696381288614298,
          0.7775816416593115,
          0.7987643424536628,
          0.7669902912621359,
          0.8005295675198588,
          0.8084730803177406,
          0.8058252427184466,
          0.7811120917917035,
          0.8005295675198588,
          0.7784642541924095,
          0.793468667255075,
          0.8058252427184466,
          0.7705207413945278
         ]
        }
       ],
       "layout": {
        "margin": {
         "b": 50,
         "l": 0,
         "pad": 0,
         "r": 0,
         "t": 50
        },
        "showlegend": true,
        "template": {
         "data": {
          "bar": [
           {
            "error_x": {
             "color": "#2a3f5f"
            },
            "error_y": {
             "color": "#2a3f5f"
            },
            "marker": {
             "line": {
              "color": "#E5ECF6",
              "width": 0.5
             },
             "pattern": {
              "fillmode": "overlay",
              "size": 10,
              "solidity": 0.2
             }
            },
            "type": "bar"
           }
          ],
          "barpolar": [
           {
            "marker": {
             "line": {
              "color": "#E5ECF6",
              "width": 0.5
             },
             "pattern": {
              "fillmode": "overlay",
              "size": 10,
              "solidity": 0.2
             }
            },
            "type": "barpolar"
           }
          ],
          "carpet": [
           {
            "aaxis": {
             "endlinecolor": "#2a3f5f",
             "gridcolor": "white",
             "linecolor": "white",
             "minorgridcolor": "white",
             "startlinecolor": "#2a3f5f"
            },
            "baxis": {
             "endlinecolor": "#2a3f5f",
             "gridcolor": "white",
             "linecolor": "white",
             "minorgridcolor": "white",
             "startlinecolor": "#2a3f5f"
            },
            "type": "carpet"
           }
          ],
          "choropleth": [
           {
            "colorbar": {
             "outlinewidth": 0,
             "ticks": ""
            },
            "type": "choropleth"
           }
          ],
          "contour": [
           {
            "colorbar": {
             "outlinewidth": 0,
             "ticks": ""
            },
            "colorscale": [
             [
              0,
              "#0d0887"
             ],
             [
              0.1111111111111111,
              "#46039f"
             ],
             [
              0.2222222222222222,
              "#7201a8"
             ],
             [
              0.3333333333333333,
              "#9c179e"
             ],
             [
              0.4444444444444444,
              "#bd3786"
             ],
             [
              0.5555555555555556,
              "#d8576b"
             ],
             [
              0.6666666666666666,
              "#ed7953"
             ],
             [
              0.7777777777777778,
              "#fb9f3a"
             ],
             [
              0.8888888888888888,
              "#fdca26"
             ],
             [
              1,
              "#f0f921"
             ]
            ],
            "type": "contour"
           }
          ],
          "contourcarpet": [
           {
            "colorbar": {
             "outlinewidth": 0,
             "ticks": ""
            },
            "type": "contourcarpet"
           }
          ],
          "heatmap": [
           {
            "colorbar": {
             "outlinewidth": 0,
             "ticks": ""
            },
            "colorscale": [
             [
              0,
              "#0d0887"
             ],
             [
              0.1111111111111111,
              "#46039f"
             ],
             [
              0.2222222222222222,
              "#7201a8"
             ],
             [
              0.3333333333333333,
              "#9c179e"
             ],
             [
              0.4444444444444444,
              "#bd3786"
             ],
             [
              0.5555555555555556,
              "#d8576b"
             ],
             [
              0.6666666666666666,
              "#ed7953"
             ],
             [
              0.7777777777777778,
              "#fb9f3a"
             ],
             [
              0.8888888888888888,
              "#fdca26"
             ],
             [
              1,
              "#f0f921"
             ]
            ],
            "type": "heatmap"
           }
          ],
          "heatmapgl": [
           {
            "colorbar": {
             "outlinewidth": 0,
             "ticks": ""
            },
            "colorscale": [
             [
              0,
              "#0d0887"
             ],
             [
              0.1111111111111111,
              "#46039f"
             ],
             [
              0.2222222222222222,
              "#7201a8"
             ],
             [
              0.3333333333333333,
              "#9c179e"
             ],
             [
              0.4444444444444444,
              "#bd3786"
             ],
             [
              0.5555555555555556,
              "#d8576b"
             ],
             [
              0.6666666666666666,
              "#ed7953"
             ],
             [
              0.7777777777777778,
              "#fb9f3a"
             ],
             [
              0.8888888888888888,
              "#fdca26"
             ],
             [
              1,
              "#f0f921"
             ]
            ],
            "type": "heatmapgl"
           }
          ],
          "histogram": [
           {
            "marker": {
             "pattern": {
              "fillmode": "overlay",
              "size": 10,
              "solidity": 0.2
             }
            },
            "type": "histogram"
           }
          ],
          "histogram2d": [
           {
            "colorbar": {
             "outlinewidth": 0,
             "ticks": ""
            },
            "colorscale": [
             [
              0,
              "#0d0887"
             ],
             [
              0.1111111111111111,
              "#46039f"
             ],
             [
              0.2222222222222222,
              "#7201a8"
             ],
             [
              0.3333333333333333,
              "#9c179e"
             ],
             [
              0.4444444444444444,
              "#bd3786"
             ],
             [
              0.5555555555555556,
              "#d8576b"
             ],
             [
              0.6666666666666666,
              "#ed7953"
             ],
             [
              0.7777777777777778,
              "#fb9f3a"
             ],
             [
              0.8888888888888888,
              "#fdca26"
             ],
             [
              1,
              "#f0f921"
             ]
            ],
            "type": "histogram2d"
           }
          ],
          "histogram2dcontour": [
           {
            "colorbar": {
             "outlinewidth": 0,
             "ticks": ""
            },
            "colorscale": [
             [
              0,
              "#0d0887"
             ],
             [
              0.1111111111111111,
              "#46039f"
             ],
             [
              0.2222222222222222,
              "#7201a8"
             ],
             [
              0.3333333333333333,
              "#9c179e"
             ],
             [
              0.4444444444444444,
              "#bd3786"
             ],
             [
              0.5555555555555556,
              "#d8576b"
             ],
             [
              0.6666666666666666,
              "#ed7953"
             ],
             [
              0.7777777777777778,
              "#fb9f3a"
             ],
             [
              0.8888888888888888,
              "#fdca26"
             ],
             [
              1,
              "#f0f921"
             ]
            ],
            "type": "histogram2dcontour"
           }
          ],
          "mesh3d": [
           {
            "colorbar": {
             "outlinewidth": 0,
             "ticks": ""
            },
            "type": "mesh3d"
           }
          ],
          "parcoords": [
           {
            "line": {
             "colorbar": {
              "outlinewidth": 0,
              "ticks": ""
             }
            },
            "type": "parcoords"
           }
          ],
          "pie": [
           {
            "automargin": true,
            "type": "pie"
           }
          ],
          "scatter": [
           {
            "fillpattern": {
             "fillmode": "overlay",
             "size": 10,
             "solidity": 0.2
            },
            "type": "scatter"
           }
          ],
          "scatter3d": [
           {
            "line": {
             "colorbar": {
              "outlinewidth": 0,
              "ticks": ""
             }
            },
            "marker": {
             "colorbar": {
              "outlinewidth": 0,
              "ticks": ""
             }
            },
            "type": "scatter3d"
           }
          ],
          "scattercarpet": [
           {
            "marker": {
             "colorbar": {
              "outlinewidth": 0,
              "ticks": ""
             }
            },
            "type": "scattercarpet"
           }
          ],
          "scattergeo": [
           {
            "marker": {
             "colorbar": {
              "outlinewidth": 0,
              "ticks": ""
             }
            },
            "type": "scattergeo"
           }
          ],
          "scattergl": [
           {
            "marker": {
             "colorbar": {
              "outlinewidth": 0,
              "ticks": ""
             }
            },
            "type": "scattergl"
           }
          ],
          "scattermapbox": [
           {
            "marker": {
             "colorbar": {
              "outlinewidth": 0,
              "ticks": ""
             }
            },
            "type": "scattermapbox"
           }
          ],
          "scatterpolar": [
           {
            "marker": {
             "colorbar": {
              "outlinewidth": 0,
              "ticks": ""
             }
            },
            "type": "scatterpolar"
           }
          ],
          "scatterpolargl": [
           {
            "marker": {
             "colorbar": {
              "outlinewidth": 0,
              "ticks": ""
             }
            },
            "type": "scatterpolargl"
           }
          ],
          "scatterternary": [
           {
            "marker": {
             "colorbar": {
              "outlinewidth": 0,
              "ticks": ""
             }
            },
            "type": "scatterternary"
           }
          ],
          "surface": [
           {
            "colorbar": {
             "outlinewidth": 0,
             "ticks": ""
            },
            "colorscale": [
             [
              0,
              "#0d0887"
             ],
             [
              0.1111111111111111,
              "#46039f"
             ],
             [
              0.2222222222222222,
              "#7201a8"
             ],
             [
              0.3333333333333333,
              "#9c179e"
             ],
             [
              0.4444444444444444,
              "#bd3786"
             ],
             [
              0.5555555555555556,
              "#d8576b"
             ],
             [
              0.6666666666666666,
              "#ed7953"
             ],
             [
              0.7777777777777778,
              "#fb9f3a"
             ],
             [
              0.8888888888888888,
              "#fdca26"
             ],
             [
              1,
              "#f0f921"
             ]
            ],
            "type": "surface"
           }
          ],
          "table": [
           {
            "cells": {
             "fill": {
              "color": "#EBF0F8"
             },
             "line": {
              "color": "white"
             }
            },
            "header": {
             "fill": {
              "color": "#C8D4E3"
             },
             "line": {
              "color": "white"
             }
            },
            "type": "table"
           }
          ]
         },
         "layout": {
          "annotationdefaults": {
           "arrowcolor": "#2a3f5f",
           "arrowhead": 0,
           "arrowwidth": 1
          },
          "autotypenumbers": "strict",
          "coloraxis": {
           "colorbar": {
            "outlinewidth": 0,
            "ticks": ""
           }
          },
          "colorscale": {
           "diverging": [
            [
             0,
             "#8e0152"
            ],
            [
             0.1,
             "#c51b7d"
            ],
            [
             0.2,
             "#de77ae"
            ],
            [
             0.3,
             "#f1b6da"
            ],
            [
             0.4,
             "#fde0ef"
            ],
            [
             0.5,
             "#f7f7f7"
            ],
            [
             0.6,
             "#e6f5d0"
            ],
            [
             0.7,
             "#b8e186"
            ],
            [
             0.8,
             "#7fbc41"
            ],
            [
             0.9,
             "#4d9221"
            ],
            [
             1,
             "#276419"
            ]
           ],
           "sequential": [
            [
             0,
             "#0d0887"
            ],
            [
             0.1111111111111111,
             "#46039f"
            ],
            [
             0.2222222222222222,
             "#7201a8"
            ],
            [
             0.3333333333333333,
             "#9c179e"
            ],
            [
             0.4444444444444444,
             "#bd3786"
            ],
            [
             0.5555555555555556,
             "#d8576b"
            ],
            [
             0.6666666666666666,
             "#ed7953"
            ],
            [
             0.7777777777777778,
             "#fb9f3a"
            ],
            [
             0.8888888888888888,
             "#fdca26"
            ],
            [
             1,
             "#f0f921"
            ]
           ],
           "sequentialminus": [
            [
             0,
             "#0d0887"
            ],
            [
             0.1111111111111111,
             "#46039f"
            ],
            [
             0.2222222222222222,
             "#7201a8"
            ],
            [
             0.3333333333333333,
             "#9c179e"
            ],
            [
             0.4444444444444444,
             "#bd3786"
            ],
            [
             0.5555555555555556,
             "#d8576b"
            ],
            [
             0.6666666666666666,
             "#ed7953"
            ],
            [
             0.7777777777777778,
             "#fb9f3a"
            ],
            [
             0.8888888888888888,
             "#fdca26"
            ],
            [
             1,
             "#f0f921"
            ]
           ]
          },
          "colorway": [
           "#636efa",
           "#EF553B",
           "#00cc96",
           "#ab63fa",
           "#FFA15A",
           "#19d3f3",
           "#FF6692",
           "#B6E880",
           "#FF97FF",
           "#FECB52"
          ],
          "font": {
           "color": "#2a3f5f"
          },
          "geo": {
           "bgcolor": "white",
           "lakecolor": "white",
           "landcolor": "#E5ECF6",
           "showlakes": true,
           "showland": true,
           "subunitcolor": "white"
          },
          "hoverlabel": {
           "align": "left"
          },
          "hovermode": "closest",
          "mapbox": {
           "style": "light"
          },
          "paper_bgcolor": "white",
          "plot_bgcolor": "#E5ECF6",
          "polar": {
           "angularaxis": {
            "gridcolor": "white",
            "linecolor": "white",
            "ticks": ""
           },
           "bgcolor": "#E5ECF6",
           "radialaxis": {
            "gridcolor": "white",
            "linecolor": "white",
            "ticks": ""
           }
          },
          "scene": {
           "xaxis": {
            "backgroundcolor": "#E5ECF6",
            "gridcolor": "white",
            "gridwidth": 2,
            "linecolor": "white",
            "showbackground": true,
            "ticks": "",
            "zerolinecolor": "white"
           },
           "yaxis": {
            "backgroundcolor": "#E5ECF6",
            "gridcolor": "white",
            "gridwidth": 2,
            "linecolor": "white",
            "showbackground": true,
            "ticks": "",
            "zerolinecolor": "white"
           },
           "zaxis": {
            "backgroundcolor": "#E5ECF6",
            "gridcolor": "white",
            "gridwidth": 2,
            "linecolor": "white",
            "showbackground": true,
            "ticks": "",
            "zerolinecolor": "white"
           }
          },
          "shapedefaults": {
           "line": {
            "color": "#2a3f5f"
           }
          },
          "ternary": {
           "aaxis": {
            "gridcolor": "white",
            "linecolor": "white",
            "ticks": ""
           },
           "baxis": {
            "gridcolor": "white",
            "linecolor": "white",
            "ticks": ""
           },
           "bgcolor": "#E5ECF6",
           "caxis": {
            "gridcolor": "white",
            "linecolor": "white",
            "ticks": ""
           }
          },
          "title": {
           "x": 0.05
          },
          "xaxis": {
           "automargin": true,
           "gridcolor": "white",
           "linecolor": "white",
           "ticks": "",
           "title": {
            "standoff": 15
           },
           "zerolinecolor": "white",
           "zerolinewidth": 2
          },
          "yaxis": {
           "automargin": true,
           "gridcolor": "white",
           "linecolor": "white",
           "ticks": "",
           "title": {
            "standoff": 15
           },
           "zerolinecolor": "white",
           "zerolinewidth": 2
          }
         }
        },
        "title": {
         "text": "Isolation Forest"
        },
        "width": 700,
        "xaxis": {
         "range": [
          0,
          23
         ],
         "tickvals": [
          0,
          1,
          2,
          3,
          4,
          5,
          6,
          7,
          8,
          9,
          10,
          11,
          12,
          13,
          14,
          15,
          16,
          17,
          18,
          19,
          20,
          21,
          22,
          23
         ],
         "title": {
          "text": "Feature Dropped"
         }
        },
        "yaxis": {
         "range": [
          0.7,
          0.9
         ],
         "title": {
          "text": "Score"
         }
        }
       }
      }
     },
     "metadata": {},
     "output_type": "display_data"
    }
   ],
   "source": [
    "# Create plot\n",
    "fig = go.Figure()\n",
    "\n",
    "fig.add_trace(go.Scatter(x=np.arange(0, len(trainsscores), 1),\n",
    "                         y=trainsscores,mode=\"lines+markers\",\n",
    "                         marker = dict(size=[10,10,10,10,10,10,10,10,10,10,10,10,10,10,10,10,10,10,10,10,10,10,10,10]),\n",
    "                         name=\"Train Scores\",\n",
    "                         line=dict(color=\"forestgreen\",width=4)))\n",
    "\n",
    "fig.add_trace(go.Scatter(x=np.arange(0, len(valscores), 1),\n",
    "                         y=valscores,mode=\"lines+markers\",\n",
    "                         marker = dict(size=[10,10,10,10,10,10,10,10,10,10,10,10,10,10,10,10,10,10,10,10,10,10,10,10]),\n",
    "                         name=\"Val Scores\",\n",
    "                         line=dict(color=\"goldenrod\",width=4)))\n",
    "\n",
    "fig.add_trace(go.Scatter(x=np.arange(0, len(testscores), 1),\n",
    "                         y=testscores,mode=\"lines+markers\",\n",
    "                         marker = dict(size=[10,10,10,10,10,10,10,10,10,10,10,10,10,10,10,10,10,10,10,10,10,10,10,10]),\n",
    "                         name=\"Test Scores\",\n",
    "                         line=dict(color=\"indianred\",width=4)))\n",
    "\n",
    "fig.update_layout(title=\"Isolation Forest\",\n",
    "                  xaxis=dict(tickvals=np.arange(0, len(trainsscores), 1)),\n",
    "                  xaxis_range = [0,23],\n",
    "                  yaxis_range=[0.70, 0.90],\n",
    "                  xaxis_title=\"Feature Dropped\",\n",
    "                  yaxis_title=\"Score\",\n",
    "                  width = 700,\n",
    "                  margin=dict(l=0, r=0, b=50, t=50, pad=0),\n",
    "                  showlegend=True)\n",
    "\n",
    "fig.show()"
   ]
  },
  {
   "cell_type": "code",
   "execution_count": null,
   "metadata": {},
   "outputs": [],
   "source": [
    "# This code is similar to the code for the isolation forest but is used for AdaBoost.\n",
    "# It takes a while to run so it was run once and the data was recorded and the code was commented out.\n",
    "\n",
    "# columns_to_keep_final = [\"amt\",\"ft_merchant_popularity\",\"category\",\"city\",\"ft_trans_hour\",\"ft_amt_deviation\",\"ft_mean_amt_per_user\",\"ft_age_group\",\"merchant\",\"city_pop\",\n",
    "#                          \"ft_transaction_count_per_user\",\"job\",\"ft_trans_day_of_year\",\"ft_trans_day\",\"gender\",\"ft_distance_user_merchant\",\"ft_time_of_day\",\"ft_day_of_week\",\n",
    "#                          \"ft_merchant_distance_from_user_mean\",\"state\",\"ft_state_fraud_rate\",\"ft_trans_month\",\"ft_trans_year\",\"ft_transaction_is_recurring\"]\n",
    "\n",
    "# c = columns_to_keep_final\n",
    "\n",
    "# atrainsscores = []\n",
    "# avalscores = []\n",
    "# atestscores = []\n",
    "\n",
    "# for j in range(0, len(columns_to_keep_final)):\n",
    "#     c = c[0:len(columns_to_keep_final)-j]\n",
    "#     X_train_encoded_final = X_train_encoded.drop(columns=[col for col in X_train_encoded.columns if col not in c], errors='ignore')\n",
    "\n",
    "#     X_val_encoded_final = X_val_encoded.drop(columns=[col for col in X_train_encoded.columns if col not in c], errors='ignore')\n",
    "\n",
    "#     X_test_encoded_final = X_test_encoded.drop(columns=[col for col in X_train_encoded.columns if col not in c], errors='ignore')\n",
    "\n",
    "\n",
    "\n",
    "#     print(list(X_train_encoded_final.columns))\n",
    "#     a = AdaBoostClassifier(random_state=42)\n",
    "#     a.fit(X_train_encoded_final, y_train)\n",
    "#     a_train_predict = a.predict(X_train_encoded_final)\n",
    "#     a_val_predict = a.predict(X_val_encoded_final)\n",
    "#     a_test_predict = a.predict(X_test_encoded_final)\n",
    "\n",
    "#     print(f\"Recall Score Train: {recall_score(y_train,a_train_predict)}\")\n",
    "#     print(f\"Recall Score Validation: {recall_score(y_val,a_val_predict)}\")\n",
    "#     print(f\"Recall Score Test: {recall_score(y_test,a_test_predict)}\")\n",
    "\n",
    "#     atrainsscores.append(recall_score(y_train,a_train_predict))\n",
    "#     avalscores.append(recall_score(y_val,a_val_predict))\n",
    "#     atestscores.append(recall_score(y_test,a_test_predict))\n",
    "#     print(\"\")\n",
    "\n",
    "# print(\"Train Scores: \")\n",
    "# for k in range(0, len(atrainsscores)):\n",
    "#     print(atrainsscores[k])\n",
    "\n",
    "# print(\"Val Scores: \")\n",
    "# for k in range(0, len(avalscores)):\n",
    "#     print(avalscores[k])\n",
    "\n",
    "# print(\"Test Scores: \")\n",
    "# for k in range(0, len(atestscores)):\n",
    "#     print(atestscores[k])"
   ]
  },
  {
   "cell_type": "code",
   "execution_count": null,
   "metadata": {},
   "outputs": [
    {
     "data": {
      "application/vnd.plotly.v1+json": {
       "config": {
        "plotlyServerURL": "https://plot.ly"
       },
       "data": [
        {
         "line": {
          "color": "forestgreen",
          "width": 4
         },
         "marker": {
          "size": [
           10,
           10,
           10,
           10,
           10,
           10,
           10,
           10,
           10,
           10,
           10,
           10,
           10,
           10,
           10,
           10,
           10,
           10,
           10,
           10,
           10,
           10,
           10,
           10
          ]
         },
         "mode": "lines+markers",
         "name": "Train Scores",
         "type": "scatter",
         "x": [
          0,
          1,
          2,
          3,
          4,
          5,
          6,
          7,
          8,
          9,
          10,
          11,
          12,
          13,
          14,
          15,
          16,
          17,
          18,
          19,
          20,
          21,
          22,
          23
         ],
         "y": [
          0.520083682,
          0.520083682,
          0.520083682,
          0.520083682,
          0.520083682,
          0.520083682,
          0.520083682,
          0.520083682,
          0.5035564854,
          0.5035564854,
          0.5035564854,
          0.5190376569,
          0.4991631799,
          0.5056485356,
          0.5056485356,
          0.5010460251,
          0.4780334728,
          0.4780334728,
          0.480125523,
          0.4723849372,
          0.2571129707,
          0.1014644351,
          0.1577405858,
          0.3064853556
         ]
        },
        {
         "line": {
          "color": "goldenrod",
          "width": 4
         },
         "marker": {
          "size": [
           10,
           10,
           10,
           10,
           10,
           10,
           10,
           10,
           10,
           10,
           10,
           10,
           10,
           10,
           10,
           10,
           10,
           10,
           10,
           10,
           10,
           10,
           10,
           10
          ]
         },
         "mode": "lines+markers",
         "name": "Val Scores",
         "type": "scatter",
         "x": [
          0,
          1,
          2,
          3,
          4,
          5,
          6,
          7,
          8,
          9,
          10,
          11,
          12,
          13,
          14,
          15,
          16,
          17,
          18,
          19,
          20,
          21,
          22,
          23
         ],
         "y": [
          0.5065913371,
          0.5065913371,
          0.5065913371,
          0.5065913371,
          0.5065913371,
          0.5065913371,
          0.5065913371,
          0.5065913371,
          0.4877589454,
          0.4877589454,
          0.4877589454,
          0.5009416196,
          0.475831764,
          0.4821092279,
          0.4821092279,
          0.4733207784,
          0.4651600753,
          0.4651600753,
          0.4626490898,
          0.4450721908,
          0.2190834903,
          0.1155053358,
          0.1519146265,
          0.3145009416
         ]
        },
        {
         "line": {
          "color": "indianred",
          "width": 4
         },
         "marker": {
          "size": [
           10,
           10,
           10,
           10,
           10,
           10,
           10,
           10,
           10,
           10,
           10,
           10,
           10,
           10,
           10,
           10,
           10,
           10,
           10,
           10,
           10,
           10,
           10,
           10
          ]
         },
         "mode": "lines+markers",
         "name": "Test Scores",
         "type": "scatter",
         "x": [
          0,
          1,
          2,
          3,
          4,
          5,
          6,
          7,
          8,
          9,
          10,
          11,
          12,
          13,
          14,
          15,
          16,
          17,
          18,
          19,
          20,
          21,
          22,
          23
         ],
         "y": [
          0.1385701677,
          0.1385701677,
          0.1385701677,
          0.1385701677,
          0.1385701677,
          0.1385701677,
          0.1385701677,
          0.1385701677,
          0.1350397176,
          0.1350397176,
          0.1350397176,
          0.1359223301,
          0.1350397176,
          0.1438658429,
          0.1438658429,
          0.1394527802,
          0.1429832304,
          0.1429832304,
          0.1253309797,
          0.07325684025,
          0.0158870256,
          0.1226831421,
          0.1712268314,
          0.3053839365
         ]
        }
       ],
       "layout": {
        "margin": {
         "b": 50,
         "l": 0,
         "pad": 0,
         "r": 0,
         "t": 50
        },
        "showlegend": true,
        "template": {
         "data": {
          "bar": [
           {
            "error_x": {
             "color": "#2a3f5f"
            },
            "error_y": {
             "color": "#2a3f5f"
            },
            "marker": {
             "line": {
              "color": "#E5ECF6",
              "width": 0.5
             },
             "pattern": {
              "fillmode": "overlay",
              "size": 10,
              "solidity": 0.2
             }
            },
            "type": "bar"
           }
          ],
          "barpolar": [
           {
            "marker": {
             "line": {
              "color": "#E5ECF6",
              "width": 0.5
             },
             "pattern": {
              "fillmode": "overlay",
              "size": 10,
              "solidity": 0.2
             }
            },
            "type": "barpolar"
           }
          ],
          "carpet": [
           {
            "aaxis": {
             "endlinecolor": "#2a3f5f",
             "gridcolor": "white",
             "linecolor": "white",
             "minorgridcolor": "white",
             "startlinecolor": "#2a3f5f"
            },
            "baxis": {
             "endlinecolor": "#2a3f5f",
             "gridcolor": "white",
             "linecolor": "white",
             "minorgridcolor": "white",
             "startlinecolor": "#2a3f5f"
            },
            "type": "carpet"
           }
          ],
          "choropleth": [
           {
            "colorbar": {
             "outlinewidth": 0,
             "ticks": ""
            },
            "type": "choropleth"
           }
          ],
          "contour": [
           {
            "colorbar": {
             "outlinewidth": 0,
             "ticks": ""
            },
            "colorscale": [
             [
              0,
              "#0d0887"
             ],
             [
              0.1111111111111111,
              "#46039f"
             ],
             [
              0.2222222222222222,
              "#7201a8"
             ],
             [
              0.3333333333333333,
              "#9c179e"
             ],
             [
              0.4444444444444444,
              "#bd3786"
             ],
             [
              0.5555555555555556,
              "#d8576b"
             ],
             [
              0.6666666666666666,
              "#ed7953"
             ],
             [
              0.7777777777777778,
              "#fb9f3a"
             ],
             [
              0.8888888888888888,
              "#fdca26"
             ],
             [
              1,
              "#f0f921"
             ]
            ],
            "type": "contour"
           }
          ],
          "contourcarpet": [
           {
            "colorbar": {
             "outlinewidth": 0,
             "ticks": ""
            },
            "type": "contourcarpet"
           }
          ],
          "heatmap": [
           {
            "colorbar": {
             "outlinewidth": 0,
             "ticks": ""
            },
            "colorscale": [
             [
              0,
              "#0d0887"
             ],
             [
              0.1111111111111111,
              "#46039f"
             ],
             [
              0.2222222222222222,
              "#7201a8"
             ],
             [
              0.3333333333333333,
              "#9c179e"
             ],
             [
              0.4444444444444444,
              "#bd3786"
             ],
             [
              0.5555555555555556,
              "#d8576b"
             ],
             [
              0.6666666666666666,
              "#ed7953"
             ],
             [
              0.7777777777777778,
              "#fb9f3a"
             ],
             [
              0.8888888888888888,
              "#fdca26"
             ],
             [
              1,
              "#f0f921"
             ]
            ],
            "type": "heatmap"
           }
          ],
          "heatmapgl": [
           {
            "colorbar": {
             "outlinewidth": 0,
             "ticks": ""
            },
            "colorscale": [
             [
              0,
              "#0d0887"
             ],
             [
              0.1111111111111111,
              "#46039f"
             ],
             [
              0.2222222222222222,
              "#7201a8"
             ],
             [
              0.3333333333333333,
              "#9c179e"
             ],
             [
              0.4444444444444444,
              "#bd3786"
             ],
             [
              0.5555555555555556,
              "#d8576b"
             ],
             [
              0.6666666666666666,
              "#ed7953"
             ],
             [
              0.7777777777777778,
              "#fb9f3a"
             ],
             [
              0.8888888888888888,
              "#fdca26"
             ],
             [
              1,
              "#f0f921"
             ]
            ],
            "type": "heatmapgl"
           }
          ],
          "histogram": [
           {
            "marker": {
             "pattern": {
              "fillmode": "overlay",
              "size": 10,
              "solidity": 0.2
             }
            },
            "type": "histogram"
           }
          ],
          "histogram2d": [
           {
            "colorbar": {
             "outlinewidth": 0,
             "ticks": ""
            },
            "colorscale": [
             [
              0,
              "#0d0887"
             ],
             [
              0.1111111111111111,
              "#46039f"
             ],
             [
              0.2222222222222222,
              "#7201a8"
             ],
             [
              0.3333333333333333,
              "#9c179e"
             ],
             [
              0.4444444444444444,
              "#bd3786"
             ],
             [
              0.5555555555555556,
              "#d8576b"
             ],
             [
              0.6666666666666666,
              "#ed7953"
             ],
             [
              0.7777777777777778,
              "#fb9f3a"
             ],
             [
              0.8888888888888888,
              "#fdca26"
             ],
             [
              1,
              "#f0f921"
             ]
            ],
            "type": "histogram2d"
           }
          ],
          "histogram2dcontour": [
           {
            "colorbar": {
             "outlinewidth": 0,
             "ticks": ""
            },
            "colorscale": [
             [
              0,
              "#0d0887"
             ],
             [
              0.1111111111111111,
              "#46039f"
             ],
             [
              0.2222222222222222,
              "#7201a8"
             ],
             [
              0.3333333333333333,
              "#9c179e"
             ],
             [
              0.4444444444444444,
              "#bd3786"
             ],
             [
              0.5555555555555556,
              "#d8576b"
             ],
             [
              0.6666666666666666,
              "#ed7953"
             ],
             [
              0.7777777777777778,
              "#fb9f3a"
             ],
             [
              0.8888888888888888,
              "#fdca26"
             ],
             [
              1,
              "#f0f921"
             ]
            ],
            "type": "histogram2dcontour"
           }
          ],
          "mesh3d": [
           {
            "colorbar": {
             "outlinewidth": 0,
             "ticks": ""
            },
            "type": "mesh3d"
           }
          ],
          "parcoords": [
           {
            "line": {
             "colorbar": {
              "outlinewidth": 0,
              "ticks": ""
             }
            },
            "type": "parcoords"
           }
          ],
          "pie": [
           {
            "automargin": true,
            "type": "pie"
           }
          ],
          "scatter": [
           {
            "fillpattern": {
             "fillmode": "overlay",
             "size": 10,
             "solidity": 0.2
            },
            "type": "scatter"
           }
          ],
          "scatter3d": [
           {
            "line": {
             "colorbar": {
              "outlinewidth": 0,
              "ticks": ""
             }
            },
            "marker": {
             "colorbar": {
              "outlinewidth": 0,
              "ticks": ""
             }
            },
            "type": "scatter3d"
           }
          ],
          "scattercarpet": [
           {
            "marker": {
             "colorbar": {
              "outlinewidth": 0,
              "ticks": ""
             }
            },
            "type": "scattercarpet"
           }
          ],
          "scattergeo": [
           {
            "marker": {
             "colorbar": {
              "outlinewidth": 0,
              "ticks": ""
             }
            },
            "type": "scattergeo"
           }
          ],
          "scattergl": [
           {
            "marker": {
             "colorbar": {
              "outlinewidth": 0,
              "ticks": ""
             }
            },
            "type": "scattergl"
           }
          ],
          "scattermapbox": [
           {
            "marker": {
             "colorbar": {
              "outlinewidth": 0,
              "ticks": ""
             }
            },
            "type": "scattermapbox"
           }
          ],
          "scatterpolar": [
           {
            "marker": {
             "colorbar": {
              "outlinewidth": 0,
              "ticks": ""
             }
            },
            "type": "scatterpolar"
           }
          ],
          "scatterpolargl": [
           {
            "marker": {
             "colorbar": {
              "outlinewidth": 0,
              "ticks": ""
             }
            },
            "type": "scatterpolargl"
           }
          ],
          "scatterternary": [
           {
            "marker": {
             "colorbar": {
              "outlinewidth": 0,
              "ticks": ""
             }
            },
            "type": "scatterternary"
           }
          ],
          "surface": [
           {
            "colorbar": {
             "outlinewidth": 0,
             "ticks": ""
            },
            "colorscale": [
             [
              0,
              "#0d0887"
             ],
             [
              0.1111111111111111,
              "#46039f"
             ],
             [
              0.2222222222222222,
              "#7201a8"
             ],
             [
              0.3333333333333333,
              "#9c179e"
             ],
             [
              0.4444444444444444,
              "#bd3786"
             ],
             [
              0.5555555555555556,
              "#d8576b"
             ],
             [
              0.6666666666666666,
              "#ed7953"
             ],
             [
              0.7777777777777778,
              "#fb9f3a"
             ],
             [
              0.8888888888888888,
              "#fdca26"
             ],
             [
              1,
              "#f0f921"
             ]
            ],
            "type": "surface"
           }
          ],
          "table": [
           {
            "cells": {
             "fill": {
              "color": "#EBF0F8"
             },
             "line": {
              "color": "white"
             }
            },
            "header": {
             "fill": {
              "color": "#C8D4E3"
             },
             "line": {
              "color": "white"
             }
            },
            "type": "table"
           }
          ]
         },
         "layout": {
          "annotationdefaults": {
           "arrowcolor": "#2a3f5f",
           "arrowhead": 0,
           "arrowwidth": 1
          },
          "autotypenumbers": "strict",
          "coloraxis": {
           "colorbar": {
            "outlinewidth": 0,
            "ticks": ""
           }
          },
          "colorscale": {
           "diverging": [
            [
             0,
             "#8e0152"
            ],
            [
             0.1,
             "#c51b7d"
            ],
            [
             0.2,
             "#de77ae"
            ],
            [
             0.3,
             "#f1b6da"
            ],
            [
             0.4,
             "#fde0ef"
            ],
            [
             0.5,
             "#f7f7f7"
            ],
            [
             0.6,
             "#e6f5d0"
            ],
            [
             0.7,
             "#b8e186"
            ],
            [
             0.8,
             "#7fbc41"
            ],
            [
             0.9,
             "#4d9221"
            ],
            [
             1,
             "#276419"
            ]
           ],
           "sequential": [
            [
             0,
             "#0d0887"
            ],
            [
             0.1111111111111111,
             "#46039f"
            ],
            [
             0.2222222222222222,
             "#7201a8"
            ],
            [
             0.3333333333333333,
             "#9c179e"
            ],
            [
             0.4444444444444444,
             "#bd3786"
            ],
            [
             0.5555555555555556,
             "#d8576b"
            ],
            [
             0.6666666666666666,
             "#ed7953"
            ],
            [
             0.7777777777777778,
             "#fb9f3a"
            ],
            [
             0.8888888888888888,
             "#fdca26"
            ],
            [
             1,
             "#f0f921"
            ]
           ],
           "sequentialminus": [
            [
             0,
             "#0d0887"
            ],
            [
             0.1111111111111111,
             "#46039f"
            ],
            [
             0.2222222222222222,
             "#7201a8"
            ],
            [
             0.3333333333333333,
             "#9c179e"
            ],
            [
             0.4444444444444444,
             "#bd3786"
            ],
            [
             0.5555555555555556,
             "#d8576b"
            ],
            [
             0.6666666666666666,
             "#ed7953"
            ],
            [
             0.7777777777777778,
             "#fb9f3a"
            ],
            [
             0.8888888888888888,
             "#fdca26"
            ],
            [
             1,
             "#f0f921"
            ]
           ]
          },
          "colorway": [
           "#636efa",
           "#EF553B",
           "#00cc96",
           "#ab63fa",
           "#FFA15A",
           "#19d3f3",
           "#FF6692",
           "#B6E880",
           "#FF97FF",
           "#FECB52"
          ],
          "font": {
           "color": "#2a3f5f"
          },
          "geo": {
           "bgcolor": "white",
           "lakecolor": "white",
           "landcolor": "#E5ECF6",
           "showlakes": true,
           "showland": true,
           "subunitcolor": "white"
          },
          "hoverlabel": {
           "align": "left"
          },
          "hovermode": "closest",
          "mapbox": {
           "style": "light"
          },
          "paper_bgcolor": "white",
          "plot_bgcolor": "#E5ECF6",
          "polar": {
           "angularaxis": {
            "gridcolor": "white",
            "linecolor": "white",
            "ticks": ""
           },
           "bgcolor": "#E5ECF6",
           "radialaxis": {
            "gridcolor": "white",
            "linecolor": "white",
            "ticks": ""
           }
          },
          "scene": {
           "xaxis": {
            "backgroundcolor": "#E5ECF6",
            "gridcolor": "white",
            "gridwidth": 2,
            "linecolor": "white",
            "showbackground": true,
            "ticks": "",
            "zerolinecolor": "white"
           },
           "yaxis": {
            "backgroundcolor": "#E5ECF6",
            "gridcolor": "white",
            "gridwidth": 2,
            "linecolor": "white",
            "showbackground": true,
            "ticks": "",
            "zerolinecolor": "white"
           },
           "zaxis": {
            "backgroundcolor": "#E5ECF6",
            "gridcolor": "white",
            "gridwidth": 2,
            "linecolor": "white",
            "showbackground": true,
            "ticks": "",
            "zerolinecolor": "white"
           }
          },
          "shapedefaults": {
           "line": {
            "color": "#2a3f5f"
           }
          },
          "ternary": {
           "aaxis": {
            "gridcolor": "white",
            "linecolor": "white",
            "ticks": ""
           },
           "baxis": {
            "gridcolor": "white",
            "linecolor": "white",
            "ticks": ""
           },
           "bgcolor": "#E5ECF6",
           "caxis": {
            "gridcolor": "white",
            "linecolor": "white",
            "ticks": ""
           }
          },
          "title": {
           "x": 0.05
          },
          "xaxis": {
           "automargin": true,
           "gridcolor": "white",
           "linecolor": "white",
           "ticks": "",
           "title": {
            "standoff": 15
           },
           "zerolinecolor": "white",
           "zerolinewidth": 2
          },
          "yaxis": {
           "automargin": true,
           "gridcolor": "white",
           "linecolor": "white",
           "ticks": "",
           "title": {
            "standoff": 15
           },
           "zerolinecolor": "white",
           "zerolinewidth": 2
          }
         }
        },
        "title": {
         "text": "AdaBoost"
        },
        "width": 700,
        "xaxis": {
         "range": [
          0,
          23
         ],
         "tickvals": [
          0,
          1,
          2,
          3,
          4,
          5,
          6,
          7,
          8,
          9,
          10,
          11,
          12,
          13,
          14,
          15,
          16,
          17,
          18,
          19,
          20,
          21,
          22,
          23
         ],
         "title": {
          "text": "Feature Dropped"
         }
        },
        "yaxis": {
         "range": [
          0,
          0.6
         ],
         "title": {
          "text": "Score"
         }
        }
       }
      }
     },
     "metadata": {},
     "output_type": "display_data"
    }
   ],
   "source": [
    "#This is the data generated by the above code, hardcoded in this section to prevent having the run \n",
    "# the lengthy code above to get the data again.\n",
    "atrainsscores = [0.520083682,\n",
    "0.520083682,\n",
    "0.520083682,\n",
    "0.520083682,\n",
    "0.520083682,\n",
    "0.520083682,\n",
    "0.520083682,\n",
    "0.520083682,\n",
    "0.5035564854,\n",
    "0.5035564854,\n",
    "0.5035564854,\n",
    "0.5190376569,\n",
    "0.4991631799,\n",
    "0.5056485356,\n",
    "0.5056485356,\n",
    "0.5010460251,\n",
    "0.4780334728,\n",
    "0.4780334728,\n",
    "0.480125523,\n",
    "0.4723849372,\n",
    "0.2571129707,\n",
    "0.1014644351,\n",
    "0.1577405858,\n",
    "0.3064853556]\n",
    "\n",
    "avalscores = [0.5065913371,\n",
    "0.5065913371,\n",
    "0.5065913371,\n",
    "0.5065913371,\n",
    "0.5065913371,\n",
    "0.5065913371,\n",
    "0.5065913371,\n",
    "0.5065913371,\n",
    "0.4877589454,\n",
    "0.4877589454,\n",
    "0.4877589454,\n",
    "0.5009416196,\n",
    "0.475831764,\n",
    "0.4821092279,\n",
    "0.4821092279,\n",
    "0.4733207784,\n",
    "0.4651600753,\n",
    "0.4651600753,\n",
    "0.4626490898,\n",
    "0.4450721908,\n",
    "0.2190834903,\n",
    "0.1155053358,\n",
    "0.1519146265,\n",
    "0.3145009416]\n",
    "\n",
    "atestscores = [0.1385701677,\n",
    "0.1385701677,\n",
    "0.1385701677,\n",
    "0.1385701677,\n",
    "0.1385701677,\n",
    "0.1385701677,\n",
    "0.1385701677,\n",
    "0.1385701677,\n",
    "0.1350397176,\n",
    "0.1350397176,\n",
    "0.1350397176,\n",
    "0.1359223301,\n",
    "0.1350397176,\n",
    "0.1438658429,\n",
    "0.1438658429,\n",
    "0.1394527802,\n",
    "0.1429832304,\n",
    "0.1429832304,\n",
    "0.1253309797,\n",
    "0.07325684025,\n",
    "0.0158870256,\n",
    "0.1226831421,\n",
    "0.1712268314,\n",
    "0.3053839365]\n",
    "\n",
    "# Create plot\n",
    "fig = go.Figure()\n",
    "\n",
    "fig.add_trace(go.Scatter(x=np.arange(0, len(atrainsscores), 1),\n",
    "                         y=atrainsscores,mode=\"lines+markers\",\n",
    "                         marker = dict(size=[10,10,10,10,10,10,10,10,10,10,10,10,10,10,10,10,10,10,10,10,10,10,10,10]),\n",
    "                         name=\"Train Scores\",\n",
    "                         line=dict(color=\"forestgreen\",width=4)))\n",
    "\n",
    "fig.add_trace(go.Scatter(x=np.arange(0, len(avalscores), 1),\n",
    "                         y=avalscores,mode=\"lines+markers\",\n",
    "                         marker = dict(size=[10,10,10,10,10,10,10,10,10,10,10,10,10,10,10,10,10,10,10,10,10,10,10,10]),\n",
    "                         name=\"Val Scores\",\n",
    "                         line=dict(color=\"goldenrod\",width=4)))\n",
    "\n",
    "fig.add_trace(go.Scatter(x=np.arange(0, len(atestscores), 1),\n",
    "                         y=atestscores,mode=\"lines+markers\",\n",
    "                         marker = dict(size=[10,10,10,10,10,10,10,10,10,10,10,10,10,10,10,10,10,10,10,10,10,10,10,10]),\n",
    "                         name=\"Test Scores\",\n",
    "                         line=dict(color=\"indianred\",width=4)))\n",
    "\n",
    "fig.update_layout(title=\"AdaBoost\",\n",
    "                  xaxis=dict(tickvals=np.arange(0, len(trainsscores), 1)),\n",
    "                  xaxis_range = [0,23],\n",
    "                  yaxis_range=[0, 0.60],\n",
    "                  xaxis_title=\"Feature Dropped\",\n",
    "                  yaxis_title=\"Score\",\n",
    "                  width = 700,\n",
    "                  margin=dict(l=0, r=0, b=50, t=50, pad=0),\n",
    "                  showlegend=True)\n",
    "\n",
    "fig.show()"
   ]
  },
  {
   "cell_type": "code",
   "execution_count": null,
   "metadata": {},
   "outputs": [
    {
     "data": {
      "application/vnd.plotly.v1+json": {
       "config": {
        "plotlyServerURL": "https://plot.ly"
       },
       "data": [
        {
         "line": {
          "color": "forestgreen",
          "width": 4
         },
         "marker": {
          "size": [
           10,
           10,
           10,
           10,
           10,
           10,
           10,
           10,
           10,
           10,
           10,
           10,
           10,
           10,
           10,
           10,
           10,
           10,
           10,
           10,
           10,
           10,
           10,
           10
          ]
         },
         "mode": "lines+markers",
         "name": "Isolation Forest Train Scores",
         "type": "scatter",
         "x": [
          0,
          1,
          2,
          3,
          4,
          5,
          6,
          7,
          8,
          9,
          10,
          11,
          12,
          13,
          14,
          15,
          16,
          17,
          18,
          19,
          20,
          21,
          22,
          23
         ],
         "y": [
          0.8345188284518829,
          0.8361924686192469,
          0.8100418410041841,
          0.8050209205020921,
          0.8322175732217573,
          0.8460251046025105,
          0.8309623430962343,
          0.8150627615062761,
          0.8200836820083682,
          0.8307531380753138,
          0.8148535564853556,
          0.7951882845188285,
          0.803347280334728,
          0.8158995815899581,
          0.8002092050209205,
          0.8240585774058578,
          0.8357740585774058,
          0.8269874476987448,
          0.8359832635983263,
          0.8564853556485356,
          0.8284518828451883,
          0.7947698744769874,
          0.8096234309623431,
          0.7631799163179916
         ]
        },
        {
         "line": {
          "color": "goldenrod",
          "width": 4
         },
         "marker": {
          "size": [
           10,
           10,
           10,
           10,
           10,
           10,
           10,
           10,
           10,
           10,
           10,
           10,
           10,
           10,
           10,
           10,
           10,
           10,
           10,
           10,
           10,
           10,
           10,
           10
          ]
         },
         "mode": "lines+markers",
         "name": "Isolation Forest Val Scores",
         "type": "scatter",
         "x": [
          0,
          1,
          2,
          3,
          4,
          5,
          6,
          7,
          8,
          9,
          10,
          11,
          12,
          13,
          14,
          15,
          16,
          17,
          18,
          19,
          20,
          21,
          22,
          23
         ],
         "y": [
          0.8198367859384809,
          0.8242310106716887,
          0.7991211550533585,
          0.7922159447583177,
          0.8129315756434401,
          0.834902699309479,
          0.8198367859384809,
          0.8041431261770244,
          0.8097928436911488,
          0.8242310106716887,
          0.807909604519774,
          0.7897049591964846,
          0.7934714375392341,
          0.8060263653483992,
          0.7934714375392341,
          0.8148148148148148,
          0.8305084745762712,
          0.8192090395480226,
          0.8210922787193974,
          0.8468298807281858,
          0.8198367859384809,
          0.8022598870056498,
          0.8192090395480226,
          0.7633396107972379
         ]
        },
        {
         "line": {
          "color": "indianred",
          "width": 4
         },
         "marker": {
          "size": [
           10,
           10,
           10,
           10,
           10,
           10,
           10,
           10,
           10,
           10,
           10,
           10,
           10,
           10,
           10,
           10,
           10,
           10,
           10,
           10,
           10,
           10,
           10,
           10
          ]
         },
         "mode": "lines+markers",
         "name": "Isolation Forest Test Scores",
         "type": "scatter",
         "x": [
          0,
          1,
          2,
          3,
          4,
          5,
          6,
          7,
          8,
          9,
          10,
          11,
          12,
          13,
          14,
          15,
          16,
          17,
          18,
          19,
          20,
          21,
          22,
          23
         ],
         "y": [
          0.884377758164166,
          0.8428949691085613,
          0.7511032656663724,
          0.7555163283318623,
          0.7802294792586054,
          0.8128861429832304,
          0.7908208296557812,
          0.7678729037952339,
          0.7793468667255075,
          0.7890556045895851,
          0.7802294792586054,
          0.7696381288614298,
          0.7775816416593115,
          0.7987643424536628,
          0.7669902912621359,
          0.8005295675198588,
          0.8084730803177406,
          0.8058252427184466,
          0.7811120917917035,
          0.8005295675198588,
          0.7784642541924095,
          0.793468667255075,
          0.8058252427184466,
          0.7705207413945278
         ]
        },
        {
         "line": {
          "color": "lime",
          "width": 4
         },
         "marker": {
          "size": [
           10,
           10,
           10,
           10,
           10,
           10,
           10,
           10,
           10,
           10,
           10,
           10,
           10,
           10,
           10,
           10,
           10,
           10,
           10,
           10,
           10,
           10,
           10,
           10
          ]
         },
         "mode": "lines+markers",
         "name": "AdaBoost Train Scores",
         "type": "scatter",
         "x": [
          0,
          1,
          2,
          3,
          4,
          5,
          6,
          7,
          8,
          9,
          10,
          11,
          12,
          13,
          14,
          15,
          16,
          17,
          18,
          19,
          20,
          21,
          22,
          23
         ],
         "y": [
          0.520083682,
          0.520083682,
          0.520083682,
          0.520083682,
          0.520083682,
          0.520083682,
          0.520083682,
          0.520083682,
          0.5035564854,
          0.5035564854,
          0.5035564854,
          0.5190376569,
          0.4991631799,
          0.5056485356,
          0.5056485356,
          0.5010460251,
          0.4780334728,
          0.4780334728,
          0.480125523,
          0.4723849372,
          0.2571129707,
          0.1014644351,
          0.1577405858,
          0.3064853556
         ]
        },
        {
         "line": {
          "color": "gold",
          "width": 4
         },
         "marker": {
          "size": [
           10,
           10,
           10,
           10,
           10,
           10,
           10,
           10,
           10,
           10,
           10,
           10,
           10,
           10,
           10,
           10,
           10,
           10,
           10,
           10,
           10,
           10,
           10,
           10
          ]
         },
         "mode": "lines+markers",
         "name": "AdaBoost Val Scores",
         "type": "scatter",
         "x": [
          0,
          1,
          2,
          3,
          4,
          5,
          6,
          7,
          8,
          9,
          10,
          11,
          12,
          13,
          14,
          15,
          16,
          17,
          18,
          19,
          20,
          21,
          22,
          23
         ],
         "y": [
          0.5065913371,
          0.5065913371,
          0.5065913371,
          0.5065913371,
          0.5065913371,
          0.5065913371,
          0.5065913371,
          0.5065913371,
          0.4877589454,
          0.4877589454,
          0.4877589454,
          0.5009416196,
          0.475831764,
          0.4821092279,
          0.4821092279,
          0.4733207784,
          0.4651600753,
          0.4651600753,
          0.4626490898,
          0.4450721908,
          0.2190834903,
          0.1155053358,
          0.1519146265,
          0.3145009416
         ]
        },
        {
         "line": {
          "color": "tomato",
          "width": 4
         },
         "marker": {
          "size": [
           10,
           10,
           10,
           10,
           10,
           10,
           10,
           10,
           10,
           10,
           10,
           10,
           10,
           10,
           10,
           10,
           10,
           10,
           10,
           10,
           10,
           10,
           10,
           10
          ]
         },
         "mode": "lines+markers",
         "name": "AdaBoost Test Scores",
         "type": "scatter",
         "x": [
          0,
          1,
          2,
          3,
          4,
          5,
          6,
          7,
          8,
          9,
          10,
          11,
          12,
          13,
          14,
          15,
          16,
          17,
          18,
          19,
          20,
          21,
          22,
          23
         ],
         "y": [
          0.1385701677,
          0.1385701677,
          0.1385701677,
          0.1385701677,
          0.1385701677,
          0.1385701677,
          0.1385701677,
          0.1385701677,
          0.1350397176,
          0.1350397176,
          0.1350397176,
          0.1359223301,
          0.1350397176,
          0.1438658429,
          0.1438658429,
          0.1394527802,
          0.1429832304,
          0.1429832304,
          0.1253309797,
          0.07325684025,
          0.0158870256,
          0.1226831421,
          0.1712268314,
          0.3053839365
         ]
        }
       ],
       "layout": {
        "margin": {
         "b": 50,
         "l": 0,
         "pad": 0,
         "r": 0,
         "t": 50
        },
        "showlegend": true,
        "template": {
         "data": {
          "bar": [
           {
            "error_x": {
             "color": "#2a3f5f"
            },
            "error_y": {
             "color": "#2a3f5f"
            },
            "marker": {
             "line": {
              "color": "#E5ECF6",
              "width": 0.5
             },
             "pattern": {
              "fillmode": "overlay",
              "size": 10,
              "solidity": 0.2
             }
            },
            "type": "bar"
           }
          ],
          "barpolar": [
           {
            "marker": {
             "line": {
              "color": "#E5ECF6",
              "width": 0.5
             },
             "pattern": {
              "fillmode": "overlay",
              "size": 10,
              "solidity": 0.2
             }
            },
            "type": "barpolar"
           }
          ],
          "carpet": [
           {
            "aaxis": {
             "endlinecolor": "#2a3f5f",
             "gridcolor": "white",
             "linecolor": "white",
             "minorgridcolor": "white",
             "startlinecolor": "#2a3f5f"
            },
            "baxis": {
             "endlinecolor": "#2a3f5f",
             "gridcolor": "white",
             "linecolor": "white",
             "minorgridcolor": "white",
             "startlinecolor": "#2a3f5f"
            },
            "type": "carpet"
           }
          ],
          "choropleth": [
           {
            "colorbar": {
             "outlinewidth": 0,
             "ticks": ""
            },
            "type": "choropleth"
           }
          ],
          "contour": [
           {
            "colorbar": {
             "outlinewidth": 0,
             "ticks": ""
            },
            "colorscale": [
             [
              0,
              "#0d0887"
             ],
             [
              0.1111111111111111,
              "#46039f"
             ],
             [
              0.2222222222222222,
              "#7201a8"
             ],
             [
              0.3333333333333333,
              "#9c179e"
             ],
             [
              0.4444444444444444,
              "#bd3786"
             ],
             [
              0.5555555555555556,
              "#d8576b"
             ],
             [
              0.6666666666666666,
              "#ed7953"
             ],
             [
              0.7777777777777778,
              "#fb9f3a"
             ],
             [
              0.8888888888888888,
              "#fdca26"
             ],
             [
              1,
              "#f0f921"
             ]
            ],
            "type": "contour"
           }
          ],
          "contourcarpet": [
           {
            "colorbar": {
             "outlinewidth": 0,
             "ticks": ""
            },
            "type": "contourcarpet"
           }
          ],
          "heatmap": [
           {
            "colorbar": {
             "outlinewidth": 0,
             "ticks": ""
            },
            "colorscale": [
             [
              0,
              "#0d0887"
             ],
             [
              0.1111111111111111,
              "#46039f"
             ],
             [
              0.2222222222222222,
              "#7201a8"
             ],
             [
              0.3333333333333333,
              "#9c179e"
             ],
             [
              0.4444444444444444,
              "#bd3786"
             ],
             [
              0.5555555555555556,
              "#d8576b"
             ],
             [
              0.6666666666666666,
              "#ed7953"
             ],
             [
              0.7777777777777778,
              "#fb9f3a"
             ],
             [
              0.8888888888888888,
              "#fdca26"
             ],
             [
              1,
              "#f0f921"
             ]
            ],
            "type": "heatmap"
           }
          ],
          "heatmapgl": [
           {
            "colorbar": {
             "outlinewidth": 0,
             "ticks": ""
            },
            "colorscale": [
             [
              0,
              "#0d0887"
             ],
             [
              0.1111111111111111,
              "#46039f"
             ],
             [
              0.2222222222222222,
              "#7201a8"
             ],
             [
              0.3333333333333333,
              "#9c179e"
             ],
             [
              0.4444444444444444,
              "#bd3786"
             ],
             [
              0.5555555555555556,
              "#d8576b"
             ],
             [
              0.6666666666666666,
              "#ed7953"
             ],
             [
              0.7777777777777778,
              "#fb9f3a"
             ],
             [
              0.8888888888888888,
              "#fdca26"
             ],
             [
              1,
              "#f0f921"
             ]
            ],
            "type": "heatmapgl"
           }
          ],
          "histogram": [
           {
            "marker": {
             "pattern": {
              "fillmode": "overlay",
              "size": 10,
              "solidity": 0.2
             }
            },
            "type": "histogram"
           }
          ],
          "histogram2d": [
           {
            "colorbar": {
             "outlinewidth": 0,
             "ticks": ""
            },
            "colorscale": [
             [
              0,
              "#0d0887"
             ],
             [
              0.1111111111111111,
              "#46039f"
             ],
             [
              0.2222222222222222,
              "#7201a8"
             ],
             [
              0.3333333333333333,
              "#9c179e"
             ],
             [
              0.4444444444444444,
              "#bd3786"
             ],
             [
              0.5555555555555556,
              "#d8576b"
             ],
             [
              0.6666666666666666,
              "#ed7953"
             ],
             [
              0.7777777777777778,
              "#fb9f3a"
             ],
             [
              0.8888888888888888,
              "#fdca26"
             ],
             [
              1,
              "#f0f921"
             ]
            ],
            "type": "histogram2d"
           }
          ],
          "histogram2dcontour": [
           {
            "colorbar": {
             "outlinewidth": 0,
             "ticks": ""
            },
            "colorscale": [
             [
              0,
              "#0d0887"
             ],
             [
              0.1111111111111111,
              "#46039f"
             ],
             [
              0.2222222222222222,
              "#7201a8"
             ],
             [
              0.3333333333333333,
              "#9c179e"
             ],
             [
              0.4444444444444444,
              "#bd3786"
             ],
             [
              0.5555555555555556,
              "#d8576b"
             ],
             [
              0.6666666666666666,
              "#ed7953"
             ],
             [
              0.7777777777777778,
              "#fb9f3a"
             ],
             [
              0.8888888888888888,
              "#fdca26"
             ],
             [
              1,
              "#f0f921"
             ]
            ],
            "type": "histogram2dcontour"
           }
          ],
          "mesh3d": [
           {
            "colorbar": {
             "outlinewidth": 0,
             "ticks": ""
            },
            "type": "mesh3d"
           }
          ],
          "parcoords": [
           {
            "line": {
             "colorbar": {
              "outlinewidth": 0,
              "ticks": ""
             }
            },
            "type": "parcoords"
           }
          ],
          "pie": [
           {
            "automargin": true,
            "type": "pie"
           }
          ],
          "scatter": [
           {
            "fillpattern": {
             "fillmode": "overlay",
             "size": 10,
             "solidity": 0.2
            },
            "type": "scatter"
           }
          ],
          "scatter3d": [
           {
            "line": {
             "colorbar": {
              "outlinewidth": 0,
              "ticks": ""
             }
            },
            "marker": {
             "colorbar": {
              "outlinewidth": 0,
              "ticks": ""
             }
            },
            "type": "scatter3d"
           }
          ],
          "scattercarpet": [
           {
            "marker": {
             "colorbar": {
              "outlinewidth": 0,
              "ticks": ""
             }
            },
            "type": "scattercarpet"
           }
          ],
          "scattergeo": [
           {
            "marker": {
             "colorbar": {
              "outlinewidth": 0,
              "ticks": ""
             }
            },
            "type": "scattergeo"
           }
          ],
          "scattergl": [
           {
            "marker": {
             "colorbar": {
              "outlinewidth": 0,
              "ticks": ""
             }
            },
            "type": "scattergl"
           }
          ],
          "scattermapbox": [
           {
            "marker": {
             "colorbar": {
              "outlinewidth": 0,
              "ticks": ""
             }
            },
            "type": "scattermapbox"
           }
          ],
          "scatterpolar": [
           {
            "marker": {
             "colorbar": {
              "outlinewidth": 0,
              "ticks": ""
             }
            },
            "type": "scatterpolar"
           }
          ],
          "scatterpolargl": [
           {
            "marker": {
             "colorbar": {
              "outlinewidth": 0,
              "ticks": ""
             }
            },
            "type": "scatterpolargl"
           }
          ],
          "scatterternary": [
           {
            "marker": {
             "colorbar": {
              "outlinewidth": 0,
              "ticks": ""
             }
            },
            "type": "scatterternary"
           }
          ],
          "surface": [
           {
            "colorbar": {
             "outlinewidth": 0,
             "ticks": ""
            },
            "colorscale": [
             [
              0,
              "#0d0887"
             ],
             [
              0.1111111111111111,
              "#46039f"
             ],
             [
              0.2222222222222222,
              "#7201a8"
             ],
             [
              0.3333333333333333,
              "#9c179e"
             ],
             [
              0.4444444444444444,
              "#bd3786"
             ],
             [
              0.5555555555555556,
              "#d8576b"
             ],
             [
              0.6666666666666666,
              "#ed7953"
             ],
             [
              0.7777777777777778,
              "#fb9f3a"
             ],
             [
              0.8888888888888888,
              "#fdca26"
             ],
             [
              1,
              "#f0f921"
             ]
            ],
            "type": "surface"
           }
          ],
          "table": [
           {
            "cells": {
             "fill": {
              "color": "#EBF0F8"
             },
             "line": {
              "color": "white"
             }
            },
            "header": {
             "fill": {
              "color": "#C8D4E3"
             },
             "line": {
              "color": "white"
             }
            },
            "type": "table"
           }
          ]
         },
         "layout": {
          "annotationdefaults": {
           "arrowcolor": "#2a3f5f",
           "arrowhead": 0,
           "arrowwidth": 1
          },
          "autotypenumbers": "strict",
          "coloraxis": {
           "colorbar": {
            "outlinewidth": 0,
            "ticks": ""
           }
          },
          "colorscale": {
           "diverging": [
            [
             0,
             "#8e0152"
            ],
            [
             0.1,
             "#c51b7d"
            ],
            [
             0.2,
             "#de77ae"
            ],
            [
             0.3,
             "#f1b6da"
            ],
            [
             0.4,
             "#fde0ef"
            ],
            [
             0.5,
             "#f7f7f7"
            ],
            [
             0.6,
             "#e6f5d0"
            ],
            [
             0.7,
             "#b8e186"
            ],
            [
             0.8,
             "#7fbc41"
            ],
            [
             0.9,
             "#4d9221"
            ],
            [
             1,
             "#276419"
            ]
           ],
           "sequential": [
            [
             0,
             "#0d0887"
            ],
            [
             0.1111111111111111,
             "#46039f"
            ],
            [
             0.2222222222222222,
             "#7201a8"
            ],
            [
             0.3333333333333333,
             "#9c179e"
            ],
            [
             0.4444444444444444,
             "#bd3786"
            ],
            [
             0.5555555555555556,
             "#d8576b"
            ],
            [
             0.6666666666666666,
             "#ed7953"
            ],
            [
             0.7777777777777778,
             "#fb9f3a"
            ],
            [
             0.8888888888888888,
             "#fdca26"
            ],
            [
             1,
             "#f0f921"
            ]
           ],
           "sequentialminus": [
            [
             0,
             "#0d0887"
            ],
            [
             0.1111111111111111,
             "#46039f"
            ],
            [
             0.2222222222222222,
             "#7201a8"
            ],
            [
             0.3333333333333333,
             "#9c179e"
            ],
            [
             0.4444444444444444,
             "#bd3786"
            ],
            [
             0.5555555555555556,
             "#d8576b"
            ],
            [
             0.6666666666666666,
             "#ed7953"
            ],
            [
             0.7777777777777778,
             "#fb9f3a"
            ],
            [
             0.8888888888888888,
             "#fdca26"
            ],
            [
             1,
             "#f0f921"
            ]
           ]
          },
          "colorway": [
           "#636efa",
           "#EF553B",
           "#00cc96",
           "#ab63fa",
           "#FFA15A",
           "#19d3f3",
           "#FF6692",
           "#B6E880",
           "#FF97FF",
           "#FECB52"
          ],
          "font": {
           "color": "#2a3f5f"
          },
          "geo": {
           "bgcolor": "white",
           "lakecolor": "white",
           "landcolor": "#E5ECF6",
           "showlakes": true,
           "showland": true,
           "subunitcolor": "white"
          },
          "hoverlabel": {
           "align": "left"
          },
          "hovermode": "closest",
          "mapbox": {
           "style": "light"
          },
          "paper_bgcolor": "white",
          "plot_bgcolor": "#E5ECF6",
          "polar": {
           "angularaxis": {
            "gridcolor": "white",
            "linecolor": "white",
            "ticks": ""
           },
           "bgcolor": "#E5ECF6",
           "radialaxis": {
            "gridcolor": "white",
            "linecolor": "white",
            "ticks": ""
           }
          },
          "scene": {
           "xaxis": {
            "backgroundcolor": "#E5ECF6",
            "gridcolor": "white",
            "gridwidth": 2,
            "linecolor": "white",
            "showbackground": true,
            "ticks": "",
            "zerolinecolor": "white"
           },
           "yaxis": {
            "backgroundcolor": "#E5ECF6",
            "gridcolor": "white",
            "gridwidth": 2,
            "linecolor": "white",
            "showbackground": true,
            "ticks": "",
            "zerolinecolor": "white"
           },
           "zaxis": {
            "backgroundcolor": "#E5ECF6",
            "gridcolor": "white",
            "gridwidth": 2,
            "linecolor": "white",
            "showbackground": true,
            "ticks": "",
            "zerolinecolor": "white"
           }
          },
          "shapedefaults": {
           "line": {
            "color": "#2a3f5f"
           }
          },
          "ternary": {
           "aaxis": {
            "gridcolor": "white",
            "linecolor": "white",
            "ticks": ""
           },
           "baxis": {
            "gridcolor": "white",
            "linecolor": "white",
            "ticks": ""
           },
           "bgcolor": "#E5ECF6",
           "caxis": {
            "gridcolor": "white",
            "linecolor": "white",
            "ticks": ""
           }
          },
          "title": {
           "x": 0.05
          },
          "xaxis": {
           "automargin": true,
           "gridcolor": "white",
           "linecolor": "white",
           "ticks": "",
           "title": {
            "standoff": 15
           },
           "zerolinecolor": "white",
           "zerolinewidth": 2
          },
          "yaxis": {
           "automargin": true,
           "gridcolor": "white",
           "linecolor": "white",
           "ticks": "",
           "title": {
            "standoff": 15
           },
           "zerolinecolor": "white",
           "zerolinewidth": 2
          }
         }
        },
        "title": {
         "text": "Isolation Forest vs. AdaBoost"
        },
        "width": 700,
        "xaxis": {
         "range": [
          0,
          23
         ],
         "tickvals": [
          0,
          1,
          2,
          3,
          4,
          5,
          6,
          7,
          8,
          9,
          10,
          11,
          12,
          13,
          14,
          15,
          16,
          17,
          18,
          19,
          20,
          21,
          22,
          23
         ],
         "title": {
          "text": "Feature Dropped"
         }
        },
        "yaxis": {
         "range": [
          0,
          0.9
         ],
         "title": {
          "text": "Score"
         }
        }
       }
      }
     },
     "metadata": {},
     "output_type": "display_data"
    }
   ],
   "source": [
    "# Create plot to compare the Isolation Forest and AdaBoost results in one plot\n",
    "fig = go.Figure()\n",
    "\n",
    "fig.add_trace(go.Scatter(x=np.arange(0, len(trainsscores), 1),\n",
    "                         y=trainsscores,mode=\"lines+markers\",\n",
    "                         marker = dict(size=[10,10,10,10,10,10,10,10,10,10,10,10,10,10,10,10,10,10,10,10,10,10,10,10]),\n",
    "                         name=\"Isolation Forest Train Scores\",\n",
    "                         line=dict(color=\"forestgreen\",width=4)))\n",
    "\n",
    "fig.add_trace(go.Scatter(x=np.arange(0, len(valscores), 1),\n",
    "                         y=valscores,mode=\"lines+markers\",\n",
    "                         marker = dict(size=[10,10,10,10,10,10,10,10,10,10,10,10,10,10,10,10,10,10,10,10,10,10,10,10]),\n",
    "                         name=\"Isolation Forest Val Scores\",\n",
    "                         line=dict(color=\"goldenrod\",width=4)))\n",
    "\n",
    "fig.add_trace(go.Scatter(x=np.arange(0, len(testscores), 1),\n",
    "                         y=testscores,mode=\"lines+markers\",\n",
    "                         marker = dict(size=[10,10,10,10,10,10,10,10,10,10,10,10,10,10,10,10,10,10,10,10,10,10,10,10]),\n",
    "                         name=\"Isolation Forest Test Scores\",\n",
    "                         line=dict(color=\"indianred\",width=4)))\n",
    "\n",
    "fig.add_trace(go.Scatter(x=np.arange(0, len(atrainsscores), 1),\n",
    "                         y=atrainsscores,mode=\"lines+markers\",\n",
    "                         marker = dict(size=[10,10,10,10,10,10,10,10,10,10,10,10,10,10,10,10,10,10,10,10,10,10,10,10]),\n",
    "                         name=\"AdaBoost Train Scores\",\n",
    "                         line=dict(color=\"lime\",width=4)))\n",
    "\n",
    "fig.add_trace(go.Scatter(x=np.arange(0, len(avalscores), 1),\n",
    "                         y=avalscores,mode=\"lines+markers\",\n",
    "                         marker = dict(size=[10,10,10,10,10,10,10,10,10,10,10,10,10,10,10,10,10,10,10,10,10,10,10,10]),\n",
    "                         name=\"AdaBoost Val Scores\",\n",
    "                         line=dict(color=\"gold\",width=4)))\n",
    "\n",
    "fig.add_trace(go.Scatter(x=np.arange(0, len(atestscores), 1),\n",
    "                         y=atestscores,mode=\"lines+markers\",\n",
    "                         marker = dict(size=[10,10,10,10,10,10,10,10,10,10,10,10,10,10,10,10,10,10,10,10,10,10,10,10]),\n",
    "                         name=\"AdaBoost Test Scores\",\n",
    "                         line=dict(color=\"tomato\",width=4)))\n",
    "\n",
    "fig.update_layout(title=\"Isolation Forest vs. AdaBoost\",\n",
    "                  xaxis=dict(tickvals=np.arange(0, len(trainsscores), 1)),\n",
    "                  xaxis_range = [0,23],\n",
    "                  yaxis_range=[0, 0.90],\n",
    "                  xaxis_title=\"Feature Dropped\",\n",
    "                  yaxis_title=\"Score\",\n",
    "                  width = 700,\n",
    "                  margin=dict(l=0, r=0, b=50, t=50, pad=0),\n",
    "                  showlegend=True)\n",
    "\n",
    "fig.show()"
   ]
  },
  {
   "cell_type": "code",
   "execution_count": null,
   "metadata": {},
   "outputs": [
    {
     "name": "stderr",
     "output_type": "stream",
     "text": [
      "c:\\Users\\simra\\anaconda3\\envs\\dev\\lib\\site-packages\\sklearn\\ensemble\\_weight_boosting.py:519: FutureWarning:\n",
      "\n",
      "The SAMME.R algorithm (the default) is deprecated and will be removed in 1.6. Use the SAMME algorithm to circumvent this warning.\n",
      "\n"
     ]
    },
    {
     "name": "stdout",
     "output_type": "stream",
     "text": [
      "Recall Score Train: 0.5200836820083682\n",
      "Recall Score Validation: 0.5065913370998116\n",
      "Recall Score Test: 0.13857016769638128\n"
     ]
    }
   ],
   "source": [
    "# Run the data against the adaboost to extract feature importances\n",
    "a = AdaBoostClassifier(random_state=42)\n",
    "a.fit(X_train_encoded, y_train)\n",
    "a_train_predict = a.predict(X_train_encoded)\n",
    "a_val_predict = a.predict(X_val_encoded)\n",
    "a_test_predict = a.predict(X_test_encoded)\n",
    "print(f\"Recall Score Train: {recall_score(y_train,a_train_predict)}\")\n",
    "print(f\"Recall Score Validation: {recall_score(y_val,a_val_predict)}\")\n",
    "print(f\"Recall Score Test: {recall_score(y_test,a_test_predict)}\")"
   ]
  },
  {
   "cell_type": "code",
   "execution_count": null,
   "metadata": {},
   "outputs": [
    {
     "data": {
      "text/html": [
       "<div>\n",
       "<style scoped>\n",
       "    .dataframe tbody tr th:only-of-type {\n",
       "        vertical-align: middle;\n",
       "    }\n",
       "\n",
       "    .dataframe tbody tr th {\n",
       "        vertical-align: top;\n",
       "    }\n",
       "\n",
       "    .dataframe thead th {\n",
       "        text-align: right;\n",
       "    }\n",
       "</style>\n",
       "<table border=\"1\" class=\"dataframe\">\n",
       "  <thead>\n",
       "    <tr style=\"text-align: right;\">\n",
       "      <th></th>\n",
       "      <th>Features</th>\n",
       "      <th>Values</th>\n",
       "    </tr>\n",
       "  </thead>\n",
       "  <tbody>\n",
       "    <tr>\n",
       "      <th>2</th>\n",
       "      <td>amt</td>\n",
       "      <td>0.34</td>\n",
       "    </tr>\n",
       "    <tr>\n",
       "      <th>9</th>\n",
       "      <td>ft_trans_hour</td>\n",
       "      <td>0.12</td>\n",
       "    </tr>\n",
       "    <tr>\n",
       "      <th>1</th>\n",
       "      <td>category</td>\n",
       "      <td>0.12</td>\n",
       "    </tr>\n",
       "    <tr>\n",
       "      <th>4</th>\n",
       "      <td>city</td>\n",
       "      <td>0.10</td>\n",
       "    </tr>\n",
       "    <tr>\n",
       "      <th>0</th>\n",
       "      <td>merchant</td>\n",
       "      <td>0.08</td>\n",
       "    </tr>\n",
       "    <tr>\n",
       "      <th>20</th>\n",
       "      <td>ft_amt_deviation</td>\n",
       "      <td>0.06</td>\n",
       "    </tr>\n",
       "    <tr>\n",
       "      <th>10</th>\n",
       "      <td>ft_time_of_day</td>\n",
       "      <td>0.06</td>\n",
       "    </tr>\n",
       "    <tr>\n",
       "      <th>18</th>\n",
       "      <td>ft_merchant_popularity</td>\n",
       "      <td>0.04</td>\n",
       "    </tr>\n",
       "    <tr>\n",
       "      <th>19</th>\n",
       "      <td>ft_mean_amt_per_user</td>\n",
       "      <td>0.02</td>\n",
       "    </tr>\n",
       "    <tr>\n",
       "      <th>12</th>\n",
       "      <td>ft_trans_day_of_year</td>\n",
       "      <td>0.02</td>\n",
       "    </tr>\n",
       "    <tr>\n",
       "      <th>7</th>\n",
       "      <td>job</td>\n",
       "      <td>0.02</td>\n",
       "    </tr>\n",
       "    <tr>\n",
       "      <th>6</th>\n",
       "      <td>city_pop</td>\n",
       "      <td>0.02</td>\n",
       "    </tr>\n",
       "    <tr>\n",
       "      <th>8</th>\n",
       "      <td>ft_age_group</td>\n",
       "      <td>0.00</td>\n",
       "    </tr>\n",
       "    <tr>\n",
       "      <th>11</th>\n",
       "      <td>ft_trans_day</td>\n",
       "      <td>0.00</td>\n",
       "    </tr>\n",
       "    <tr>\n",
       "      <th>13</th>\n",
       "      <td>ft_trans_month</td>\n",
       "      <td>0.00</td>\n",
       "    </tr>\n",
       "    <tr>\n",
       "      <th>14</th>\n",
       "      <td>ft_trans_year</td>\n",
       "      <td>0.00</td>\n",
       "    </tr>\n",
       "    <tr>\n",
       "      <th>15</th>\n",
       "      <td>ft_day_of_week</td>\n",
       "      <td>0.00</td>\n",
       "    </tr>\n",
       "    <tr>\n",
       "      <th>16</th>\n",
       "      <td>ft_distance_user_merchant</td>\n",
       "      <td>0.00</td>\n",
       "    </tr>\n",
       "    <tr>\n",
       "      <th>17</th>\n",
       "      <td>ft_merchant_distance_from_user_mean</td>\n",
       "      <td>0.00</td>\n",
       "    </tr>\n",
       "    <tr>\n",
       "      <th>5</th>\n",
       "      <td>state</td>\n",
       "      <td>0.00</td>\n",
       "    </tr>\n",
       "    <tr>\n",
       "      <th>3</th>\n",
       "      <td>gender</td>\n",
       "      <td>0.00</td>\n",
       "    </tr>\n",
       "    <tr>\n",
       "      <th>21</th>\n",
       "      <td>ft_transaction_count_per_user</td>\n",
       "      <td>0.00</td>\n",
       "    </tr>\n",
       "    <tr>\n",
       "      <th>22</th>\n",
       "      <td>ft_state_fraud_rate</td>\n",
       "      <td>0.00</td>\n",
       "    </tr>\n",
       "    <tr>\n",
       "      <th>23</th>\n",
       "      <td>ft_transaction_is_recurring</td>\n",
       "      <td>0.00</td>\n",
       "    </tr>\n",
       "  </tbody>\n",
       "</table>\n",
       "</div>"
      ],
      "text/plain": [
       "                               Features  Values\n",
       "2                                   amt    0.34\n",
       "9                         ft_trans_hour    0.12\n",
       "1                              category    0.12\n",
       "4                                  city    0.10\n",
       "0                              merchant    0.08\n",
       "20                     ft_amt_deviation    0.06\n",
       "10                       ft_time_of_day    0.06\n",
       "18               ft_merchant_popularity    0.04\n",
       "19                 ft_mean_amt_per_user    0.02\n",
       "12                 ft_trans_day_of_year    0.02\n",
       "7                                   job    0.02\n",
       "6                              city_pop    0.02\n",
       "8                          ft_age_group    0.00\n",
       "11                         ft_trans_day    0.00\n",
       "13                       ft_trans_month    0.00\n",
       "14                        ft_trans_year    0.00\n",
       "15                       ft_day_of_week    0.00\n",
       "16            ft_distance_user_merchant    0.00\n",
       "17  ft_merchant_distance_from_user_mean    0.00\n",
       "5                                 state    0.00\n",
       "3                                gender    0.00\n",
       "21        ft_transaction_count_per_user    0.00\n",
       "22                  ft_state_fraud_rate    0.00\n",
       "23          ft_transaction_is_recurring    0.00"
      ]
     },
     "metadata": {},
     "output_type": "display_data"
    },
    {
     "data": {
      "text/html": [
       "<div>\n",
       "<style scoped>\n",
       "    .dataframe tbody tr th:only-of-type {\n",
       "        vertical-align: middle;\n",
       "    }\n",
       "\n",
       "    .dataframe tbody tr th {\n",
       "        vertical-align: top;\n",
       "    }\n",
       "\n",
       "    .dataframe thead th {\n",
       "        text-align: right;\n",
       "    }\n",
       "</style>\n",
       "<table border=\"1\" class=\"dataframe\">\n",
       "  <thead>\n",
       "    <tr style=\"text-align: right;\">\n",
       "      <th></th>\n",
       "      <th>Features</th>\n",
       "      <th>Values</th>\n",
       "    </tr>\n",
       "  </thead>\n",
       "  <tbody>\n",
       "    <tr>\n",
       "      <th>2</th>\n",
       "      <td>amt</td>\n",
       "      <td>0.34</td>\n",
       "    </tr>\n",
       "    <tr>\n",
       "      <th>1</th>\n",
       "      <td>category</td>\n",
       "      <td>0.12</td>\n",
       "    </tr>\n",
       "    <tr>\n",
       "      <th>9</th>\n",
       "      <td>ft_trans_hour</td>\n",
       "      <td>0.12</td>\n",
       "    </tr>\n",
       "    <tr>\n",
       "      <th>4</th>\n",
       "      <td>city</td>\n",
       "      <td>0.10</td>\n",
       "    </tr>\n",
       "    <tr>\n",
       "      <th>0</th>\n",
       "      <td>merchant</td>\n",
       "      <td>0.08</td>\n",
       "    </tr>\n",
       "    <tr>\n",
       "      <th>10</th>\n",
       "      <td>ft_time_of_day</td>\n",
       "      <td>0.06</td>\n",
       "    </tr>\n",
       "    <tr>\n",
       "      <th>20</th>\n",
       "      <td>ft_amt_deviation</td>\n",
       "      <td>0.06</td>\n",
       "    </tr>\n",
       "    <tr>\n",
       "      <th>18</th>\n",
       "      <td>ft_merchant_popularity</td>\n",
       "      <td>0.04</td>\n",
       "    </tr>\n",
       "    <tr>\n",
       "      <th>6</th>\n",
       "      <td>city_pop</td>\n",
       "      <td>0.02</td>\n",
       "    </tr>\n",
       "    <tr>\n",
       "      <th>7</th>\n",
       "      <td>job</td>\n",
       "      <td>0.02</td>\n",
       "    </tr>\n",
       "    <tr>\n",
       "      <th>12</th>\n",
       "      <td>ft_trans_day_of_year</td>\n",
       "      <td>0.02</td>\n",
       "    </tr>\n",
       "    <tr>\n",
       "      <th>19</th>\n",
       "      <td>ft_mean_amt_per_user</td>\n",
       "      <td>0.02</td>\n",
       "    </tr>\n",
       "  </tbody>\n",
       "</table>\n",
       "</div>"
      ],
      "text/plain": [
       "                  Features  Values\n",
       "2                      amt    0.34\n",
       "1                 category    0.12\n",
       "9            ft_trans_hour    0.12\n",
       "4                     city    0.10\n",
       "0                 merchant    0.08\n",
       "10          ft_time_of_day    0.06\n",
       "20        ft_amt_deviation    0.06\n",
       "18  ft_merchant_popularity    0.04\n",
       "6                 city_pop    0.02\n",
       "7                      job    0.02\n",
       "12    ft_trans_day_of_year    0.02\n",
       "19    ft_mean_amt_per_user    0.02"
      ]
     },
     "execution_count": 10,
     "metadata": {},
     "output_type": "execute_result"
    }
   ],
   "source": [
    "# Extract feature importances, sort, and remove 0 value features\n",
    "f = a.feature_importances_\n",
    "features = []\n",
    "values = []\n",
    "for i,v in enumerate(f):\n",
    "\tfeatures.append(X_train_encoded.columns[i])\n",
    "\tvalues.append(v)\n",
    "\n",
    "ll = pd.DataFrame.from_dict({\"Features\":features,\"Values\":values})\n",
    "display(ll.sort_values(by=\"Values\",ascending=False))\n",
    "\n",
    "ll = pd.DataFrame(ll[ll.Values != 0]).sort_values(by=\"Values\",ascending=False)\n",
    "ll"
   ]
  },
  {
   "cell_type": "code",
   "execution_count": null,
   "metadata": {},
   "outputs": [
    {
     "name": "stdout",
     "output_type": "stream",
     "text": [
      "['amt', 'category', 'ft_trans_hour', 'city', 'merchant', 'ft_time_of_day', 'ft_amt_deviation', 'ft_merchant_popularity', 'city_pop', 'job', 'ft_trans_day_of_year', 'ft_mean_amt_per_user']\n",
      "Recall Score Train: 0.8027196652719665\n",
      "Recall Score Validation: 0.7947269303201506\n",
      "Recall Score Test: 0.7572815533980582\n",
      "\n",
      "['amt', 'category', 'ft_trans_hour', 'city', 'merchant', 'ft_time_of_day', 'ft_amt_deviation', 'ft_merchant_popularity', 'city_pop', 'job', 'ft_trans_day_of_year']\n",
      "Recall Score Train: 0.8171548117154812\n",
      "Recall Score Validation: 0.8072818581293157\n",
      "Recall Score Test: 0.7634598411297441\n",
      "\n",
      "['amt', 'category', 'ft_trans_hour', 'city', 'merchant', 'ft_time_of_day', 'ft_amt_deviation', 'ft_merchant_popularity', 'city_pop', 'job']\n",
      "Recall Score Train: 0.8071129707112971\n",
      "Recall Score Validation: 0.7903327055869429\n",
      "Recall Score Test: 0.7546337157987644\n",
      "\n",
      "['amt', 'category', 'ft_trans_hour', 'city', 'merchant', 'ft_time_of_day', 'ft_amt_deviation', 'ft_merchant_popularity', 'city_pop']\n",
      "Recall Score Train: 0.8213389121338912\n",
      "Recall Score Validation: 0.8135593220338984\n",
      "Recall Score Test: 0.7811120917917035\n",
      "\n",
      "['amt', 'category', 'ft_trans_hour', 'city', 'merchant', 'ft_time_of_day', 'ft_amt_deviation', 'ft_merchant_popularity']\n",
      "Recall Score Train: 0.8213389121338912\n",
      "Recall Score Validation: 0.8141870684243565\n",
      "Recall Score Test: 0.7793468667255075\n",
      "\n",
      "['amt', 'category', 'ft_trans_hour', 'city', 'merchant', 'ft_time_of_day', 'ft_amt_deviation']\n",
      "Recall Score Train: 0.8328451882845188\n",
      "Recall Score Validation: 0.8261142498430634\n",
      "Recall Score Test: 0.7978817299205648\n",
      "\n",
      "['amt', 'category', 'ft_trans_hour', 'city', 'merchant', 'ft_time_of_day']\n",
      "Recall Score Train: 0.858786610878661\n",
      "Recall Score Validation: 0.8531073446327684\n",
      "Recall Score Test: 0.8137687555163283\n",
      "\n",
      "['amt', 'category', 'ft_trans_hour', 'city', 'merchant']\n",
      "Recall Score Train: 0.8305439330543933\n",
      "Recall Score Validation: 0.8223477715003139\n",
      "Recall Score Test: 0.76522506619594\n",
      "\n",
      "['amt', 'category', 'ft_trans_hour', 'city']\n",
      "Recall Score Train: 0.8625523012552301\n",
      "Recall Score Validation: 0.8512241054613936\n",
      "Recall Score Test: 0.8058252427184466\n",
      "\n",
      "['amt', 'category', 'ft_trans_hour']\n",
      "Recall Score Train: 0.851673640167364\n",
      "Recall Score Validation: 0.8443188951663528\n",
      "Recall Score Test: 0.852603706972639\n",
      "\n",
      "['amt', 'category']\n",
      "Recall Score Train: 0.8435146443514644\n",
      "Recall Score Validation: 0.8430634023854363\n",
      "Recall Score Test: 0.851721094439541\n",
      "\n",
      "['amt']\n",
      "Recall Score Train: 0.7631799163179916\n",
      "Recall Score Validation: 0.7633396107972379\n",
      "Recall Score Test: 0.7705207413945278\n",
      "\n"
     ]
    }
   ],
   "source": [
    "# Calculating scores for isolation forest based on the top features from the\n",
    "# adaboost feature importance list \n",
    "columns_to_keep_adaboostomptimized = list(ll[\"Features\"])\n",
    "\n",
    "iforesttrainscores = []\n",
    "iforestvalscores = []\n",
    "iforesttestscores = []\n",
    "c = columns_to_keep_adaboostomptimized\n",
    "\n",
    "for j in range(0,len(columns_to_keep_adaboostomptimized)):\n",
    "\n",
    "    c = columns_to_keep_adaboostomptimized[0:len(columns_to_keep_adaboostomptimized)-j]\n",
    "\n",
    "    iX_train_encoded = X_train_encoded.drop(columns=[col for col in X_train_encoded.columns if col not in c], errors='ignore')\n",
    "\n",
    "\n",
    "    iX_val_encoded = X_val_encoded.drop(columns=[col for col in X_val_encoded.columns if col not in c], errors='ignore')\n",
    "\n",
    "\n",
    "    iX_test_encoded = X_test_encoded.drop(columns=[col for col in X_test_encoded.columns if col not in c], errors='ignore')\n",
    "\n",
    "\n",
    "    print(list(c))\n",
    "\n",
    "    i = IsolationForest(random_state=42)\n",
    "    i.fit(iX_train_encoded, y_train)\n",
    "    i_train_predict = i.predict(iX_train_encoded)\n",
    "    i_val_predict = i.predict(iX_val_encoded)\n",
    "    i_test_predict = i.predict(iX_test_encoded)\n",
    "    for k in range(0,len(i_train_predict)):\n",
    "        if i_train_predict[k] == -1:\n",
    "            i_train_predict[k] = 1\n",
    "        else:\n",
    "            i_train_predict[k] = 0\n",
    "\n",
    "    for k in range(0,len(i_val_predict)):\n",
    "        if i_val_predict[k] == -1:\n",
    "            i_val_predict[k] = 1\n",
    "        else:\n",
    "            i_val_predict[k] = 0\n",
    "\n",
    "    for k in range(0,len(i_test_predict)):\n",
    "        if i_test_predict[k] == -1:\n",
    "            i_test_predict[k] = 1\n",
    "        else:\n",
    "            i_test_predict[k] = 0\n",
    "\n",
    "    print(f\"Recall Score Train: {recall_score(y_train,i_train_predict)}\")\n",
    "    print(f\"Recall Score Validation: {recall_score(y_val,i_val_predict)}\")\n",
    "    print(f\"Recall Score Test: {recall_score(y_test,i_test_predict)}\")\n",
    "                \n",
    "    iforesttrainscores.append(recall_score(y_train,i_train_predict))\n",
    "    iforestvalscores.append(recall_score(y_val,i_val_predict))\n",
    "    iforesttestscores.append(recall_score(y_test,i_test_predict))\n",
    "    print(\"\")"
   ]
  },
  {
   "cell_type": "code",
   "execution_count": null,
   "metadata": {},
   "outputs": [
    {
     "data": {
      "application/vnd.plotly.v1+json": {
       "config": {
        "plotlyServerURL": "https://plot.ly"
       },
       "data": [
        {
         "line": {
          "color": "forestgreen",
          "width": 4
         },
         "marker": {
          "size": [
           10,
           10,
           10,
           10,
           10,
           10,
           10,
           10,
           10,
           10,
           10,
           10,
           10,
           10,
           10,
           10,
           10,
           10,
           10,
           10,
           10,
           10,
           10,
           10
          ]
         },
         "mode": "lines+markers",
         "name": "Train Scores",
         "type": "scatter",
         "x": [
          0,
          1,
          2,
          3,
          4,
          5,
          6,
          7,
          8,
          9,
          10,
          11
         ],
         "y": [
          0.8027196652719665,
          0.8171548117154812,
          0.8071129707112971,
          0.8213389121338912,
          0.8213389121338912,
          0.8328451882845188,
          0.858786610878661,
          0.8305439330543933,
          0.8625523012552301,
          0.851673640167364,
          0.8435146443514644,
          0.7631799163179916
         ]
        },
        {
         "line": {
          "color": "goldenrod",
          "width": 4
         },
         "marker": {
          "size": [
           10,
           10,
           10,
           10,
           10,
           10,
           10,
           10,
           10,
           10,
           10,
           10,
           10,
           10,
           10,
           10,
           10,
           10,
           10,
           10,
           10,
           10,
           10,
           10
          ]
         },
         "mode": "lines+markers",
         "name": "Val Scores",
         "type": "scatter",
         "x": [
          0,
          1,
          2,
          3,
          4,
          5,
          6,
          7,
          8,
          9,
          10,
          11
         ],
         "y": [
          0.7947269303201506,
          0.8072818581293157,
          0.7903327055869429,
          0.8135593220338984,
          0.8141870684243565,
          0.8261142498430634,
          0.8531073446327684,
          0.8223477715003139,
          0.8512241054613936,
          0.8443188951663528,
          0.8430634023854363,
          0.7633396107972379
         ]
        },
        {
         "line": {
          "color": "indianred",
          "width": 4
         },
         "marker": {
          "size": [
           10,
           10,
           10,
           10,
           10,
           10,
           10,
           10,
           10,
           10,
           10,
           10,
           10,
           10,
           10,
           10,
           10,
           10,
           10,
           10,
           10,
           10,
           10,
           10
          ]
         },
         "mode": "lines+markers",
         "name": "Test Scores",
         "type": "scatter",
         "x": [
          0,
          1,
          2,
          3,
          4,
          5,
          6,
          7,
          8,
          9,
          10,
          11
         ],
         "y": [
          0.7572815533980582,
          0.7634598411297441,
          0.7546337157987644,
          0.7811120917917035,
          0.7793468667255075,
          0.7978817299205648,
          0.8137687555163283,
          0.76522506619594,
          0.8058252427184466,
          0.852603706972639,
          0.851721094439541,
          0.7705207413945278
         ]
        }
       ],
       "layout": {
        "margin": {
         "b": 50,
         "l": 0,
         "pad": 0,
         "r": 0,
         "t": 50
        },
        "showlegend": true,
        "template": {
         "data": {
          "bar": [
           {
            "error_x": {
             "color": "#2a3f5f"
            },
            "error_y": {
             "color": "#2a3f5f"
            },
            "marker": {
             "line": {
              "color": "#E5ECF6",
              "width": 0.5
             },
             "pattern": {
              "fillmode": "overlay",
              "size": 10,
              "solidity": 0.2
             }
            },
            "type": "bar"
           }
          ],
          "barpolar": [
           {
            "marker": {
             "line": {
              "color": "#E5ECF6",
              "width": 0.5
             },
             "pattern": {
              "fillmode": "overlay",
              "size": 10,
              "solidity": 0.2
             }
            },
            "type": "barpolar"
           }
          ],
          "carpet": [
           {
            "aaxis": {
             "endlinecolor": "#2a3f5f",
             "gridcolor": "white",
             "linecolor": "white",
             "minorgridcolor": "white",
             "startlinecolor": "#2a3f5f"
            },
            "baxis": {
             "endlinecolor": "#2a3f5f",
             "gridcolor": "white",
             "linecolor": "white",
             "minorgridcolor": "white",
             "startlinecolor": "#2a3f5f"
            },
            "type": "carpet"
           }
          ],
          "choropleth": [
           {
            "colorbar": {
             "outlinewidth": 0,
             "ticks": ""
            },
            "type": "choropleth"
           }
          ],
          "contour": [
           {
            "colorbar": {
             "outlinewidth": 0,
             "ticks": ""
            },
            "colorscale": [
             [
              0,
              "#0d0887"
             ],
             [
              0.1111111111111111,
              "#46039f"
             ],
             [
              0.2222222222222222,
              "#7201a8"
             ],
             [
              0.3333333333333333,
              "#9c179e"
             ],
             [
              0.4444444444444444,
              "#bd3786"
             ],
             [
              0.5555555555555556,
              "#d8576b"
             ],
             [
              0.6666666666666666,
              "#ed7953"
             ],
             [
              0.7777777777777778,
              "#fb9f3a"
             ],
             [
              0.8888888888888888,
              "#fdca26"
             ],
             [
              1,
              "#f0f921"
             ]
            ],
            "type": "contour"
           }
          ],
          "contourcarpet": [
           {
            "colorbar": {
             "outlinewidth": 0,
             "ticks": ""
            },
            "type": "contourcarpet"
           }
          ],
          "heatmap": [
           {
            "colorbar": {
             "outlinewidth": 0,
             "ticks": ""
            },
            "colorscale": [
             [
              0,
              "#0d0887"
             ],
             [
              0.1111111111111111,
              "#46039f"
             ],
             [
              0.2222222222222222,
              "#7201a8"
             ],
             [
              0.3333333333333333,
              "#9c179e"
             ],
             [
              0.4444444444444444,
              "#bd3786"
             ],
             [
              0.5555555555555556,
              "#d8576b"
             ],
             [
              0.6666666666666666,
              "#ed7953"
             ],
             [
              0.7777777777777778,
              "#fb9f3a"
             ],
             [
              0.8888888888888888,
              "#fdca26"
             ],
             [
              1,
              "#f0f921"
             ]
            ],
            "type": "heatmap"
           }
          ],
          "heatmapgl": [
           {
            "colorbar": {
             "outlinewidth": 0,
             "ticks": ""
            },
            "colorscale": [
             [
              0,
              "#0d0887"
             ],
             [
              0.1111111111111111,
              "#46039f"
             ],
             [
              0.2222222222222222,
              "#7201a8"
             ],
             [
              0.3333333333333333,
              "#9c179e"
             ],
             [
              0.4444444444444444,
              "#bd3786"
             ],
             [
              0.5555555555555556,
              "#d8576b"
             ],
             [
              0.6666666666666666,
              "#ed7953"
             ],
             [
              0.7777777777777778,
              "#fb9f3a"
             ],
             [
              0.8888888888888888,
              "#fdca26"
             ],
             [
              1,
              "#f0f921"
             ]
            ],
            "type": "heatmapgl"
           }
          ],
          "histogram": [
           {
            "marker": {
             "pattern": {
              "fillmode": "overlay",
              "size": 10,
              "solidity": 0.2
             }
            },
            "type": "histogram"
           }
          ],
          "histogram2d": [
           {
            "colorbar": {
             "outlinewidth": 0,
             "ticks": ""
            },
            "colorscale": [
             [
              0,
              "#0d0887"
             ],
             [
              0.1111111111111111,
              "#46039f"
             ],
             [
              0.2222222222222222,
              "#7201a8"
             ],
             [
              0.3333333333333333,
              "#9c179e"
             ],
             [
              0.4444444444444444,
              "#bd3786"
             ],
             [
              0.5555555555555556,
              "#d8576b"
             ],
             [
              0.6666666666666666,
              "#ed7953"
             ],
             [
              0.7777777777777778,
              "#fb9f3a"
             ],
             [
              0.8888888888888888,
              "#fdca26"
             ],
             [
              1,
              "#f0f921"
             ]
            ],
            "type": "histogram2d"
           }
          ],
          "histogram2dcontour": [
           {
            "colorbar": {
             "outlinewidth": 0,
             "ticks": ""
            },
            "colorscale": [
             [
              0,
              "#0d0887"
             ],
             [
              0.1111111111111111,
              "#46039f"
             ],
             [
              0.2222222222222222,
              "#7201a8"
             ],
             [
              0.3333333333333333,
              "#9c179e"
             ],
             [
              0.4444444444444444,
              "#bd3786"
             ],
             [
              0.5555555555555556,
              "#d8576b"
             ],
             [
              0.6666666666666666,
              "#ed7953"
             ],
             [
              0.7777777777777778,
              "#fb9f3a"
             ],
             [
              0.8888888888888888,
              "#fdca26"
             ],
             [
              1,
              "#f0f921"
             ]
            ],
            "type": "histogram2dcontour"
           }
          ],
          "mesh3d": [
           {
            "colorbar": {
             "outlinewidth": 0,
             "ticks": ""
            },
            "type": "mesh3d"
           }
          ],
          "parcoords": [
           {
            "line": {
             "colorbar": {
              "outlinewidth": 0,
              "ticks": ""
             }
            },
            "type": "parcoords"
           }
          ],
          "pie": [
           {
            "automargin": true,
            "type": "pie"
           }
          ],
          "scatter": [
           {
            "fillpattern": {
             "fillmode": "overlay",
             "size": 10,
             "solidity": 0.2
            },
            "type": "scatter"
           }
          ],
          "scatter3d": [
           {
            "line": {
             "colorbar": {
              "outlinewidth": 0,
              "ticks": ""
             }
            },
            "marker": {
             "colorbar": {
              "outlinewidth": 0,
              "ticks": ""
             }
            },
            "type": "scatter3d"
           }
          ],
          "scattercarpet": [
           {
            "marker": {
             "colorbar": {
              "outlinewidth": 0,
              "ticks": ""
             }
            },
            "type": "scattercarpet"
           }
          ],
          "scattergeo": [
           {
            "marker": {
             "colorbar": {
              "outlinewidth": 0,
              "ticks": ""
             }
            },
            "type": "scattergeo"
           }
          ],
          "scattergl": [
           {
            "marker": {
             "colorbar": {
              "outlinewidth": 0,
              "ticks": ""
             }
            },
            "type": "scattergl"
           }
          ],
          "scattermapbox": [
           {
            "marker": {
             "colorbar": {
              "outlinewidth": 0,
              "ticks": ""
             }
            },
            "type": "scattermapbox"
           }
          ],
          "scatterpolar": [
           {
            "marker": {
             "colorbar": {
              "outlinewidth": 0,
              "ticks": ""
             }
            },
            "type": "scatterpolar"
           }
          ],
          "scatterpolargl": [
           {
            "marker": {
             "colorbar": {
              "outlinewidth": 0,
              "ticks": ""
             }
            },
            "type": "scatterpolargl"
           }
          ],
          "scatterternary": [
           {
            "marker": {
             "colorbar": {
              "outlinewidth": 0,
              "ticks": ""
             }
            },
            "type": "scatterternary"
           }
          ],
          "surface": [
           {
            "colorbar": {
             "outlinewidth": 0,
             "ticks": ""
            },
            "colorscale": [
             [
              0,
              "#0d0887"
             ],
             [
              0.1111111111111111,
              "#46039f"
             ],
             [
              0.2222222222222222,
              "#7201a8"
             ],
             [
              0.3333333333333333,
              "#9c179e"
             ],
             [
              0.4444444444444444,
              "#bd3786"
             ],
             [
              0.5555555555555556,
              "#d8576b"
             ],
             [
              0.6666666666666666,
              "#ed7953"
             ],
             [
              0.7777777777777778,
              "#fb9f3a"
             ],
             [
              0.8888888888888888,
              "#fdca26"
             ],
             [
              1,
              "#f0f921"
             ]
            ],
            "type": "surface"
           }
          ],
          "table": [
           {
            "cells": {
             "fill": {
              "color": "#EBF0F8"
             },
             "line": {
              "color": "white"
             }
            },
            "header": {
             "fill": {
              "color": "#C8D4E3"
             },
             "line": {
              "color": "white"
             }
            },
            "type": "table"
           }
          ]
         },
         "layout": {
          "annotationdefaults": {
           "arrowcolor": "#2a3f5f",
           "arrowhead": 0,
           "arrowwidth": 1
          },
          "autotypenumbers": "strict",
          "coloraxis": {
           "colorbar": {
            "outlinewidth": 0,
            "ticks": ""
           }
          },
          "colorscale": {
           "diverging": [
            [
             0,
             "#8e0152"
            ],
            [
             0.1,
             "#c51b7d"
            ],
            [
             0.2,
             "#de77ae"
            ],
            [
             0.3,
             "#f1b6da"
            ],
            [
             0.4,
             "#fde0ef"
            ],
            [
             0.5,
             "#f7f7f7"
            ],
            [
             0.6,
             "#e6f5d0"
            ],
            [
             0.7,
             "#b8e186"
            ],
            [
             0.8,
             "#7fbc41"
            ],
            [
             0.9,
             "#4d9221"
            ],
            [
             1,
             "#276419"
            ]
           ],
           "sequential": [
            [
             0,
             "#0d0887"
            ],
            [
             0.1111111111111111,
             "#46039f"
            ],
            [
             0.2222222222222222,
             "#7201a8"
            ],
            [
             0.3333333333333333,
             "#9c179e"
            ],
            [
             0.4444444444444444,
             "#bd3786"
            ],
            [
             0.5555555555555556,
             "#d8576b"
            ],
            [
             0.6666666666666666,
             "#ed7953"
            ],
            [
             0.7777777777777778,
             "#fb9f3a"
            ],
            [
             0.8888888888888888,
             "#fdca26"
            ],
            [
             1,
             "#f0f921"
            ]
           ],
           "sequentialminus": [
            [
             0,
             "#0d0887"
            ],
            [
             0.1111111111111111,
             "#46039f"
            ],
            [
             0.2222222222222222,
             "#7201a8"
            ],
            [
             0.3333333333333333,
             "#9c179e"
            ],
            [
             0.4444444444444444,
             "#bd3786"
            ],
            [
             0.5555555555555556,
             "#d8576b"
            ],
            [
             0.6666666666666666,
             "#ed7953"
            ],
            [
             0.7777777777777778,
             "#fb9f3a"
            ],
            [
             0.8888888888888888,
             "#fdca26"
            ],
            [
             1,
             "#f0f921"
            ]
           ]
          },
          "colorway": [
           "#636efa",
           "#EF553B",
           "#00cc96",
           "#ab63fa",
           "#FFA15A",
           "#19d3f3",
           "#FF6692",
           "#B6E880",
           "#FF97FF",
           "#FECB52"
          ],
          "font": {
           "color": "#2a3f5f"
          },
          "geo": {
           "bgcolor": "white",
           "lakecolor": "white",
           "landcolor": "#E5ECF6",
           "showlakes": true,
           "showland": true,
           "subunitcolor": "white"
          },
          "hoverlabel": {
           "align": "left"
          },
          "hovermode": "closest",
          "mapbox": {
           "style": "light"
          },
          "paper_bgcolor": "white",
          "plot_bgcolor": "#E5ECF6",
          "polar": {
           "angularaxis": {
            "gridcolor": "white",
            "linecolor": "white",
            "ticks": ""
           },
           "bgcolor": "#E5ECF6",
           "radialaxis": {
            "gridcolor": "white",
            "linecolor": "white",
            "ticks": ""
           }
          },
          "scene": {
           "xaxis": {
            "backgroundcolor": "#E5ECF6",
            "gridcolor": "white",
            "gridwidth": 2,
            "linecolor": "white",
            "showbackground": true,
            "ticks": "",
            "zerolinecolor": "white"
           },
           "yaxis": {
            "backgroundcolor": "#E5ECF6",
            "gridcolor": "white",
            "gridwidth": 2,
            "linecolor": "white",
            "showbackground": true,
            "ticks": "",
            "zerolinecolor": "white"
           },
           "zaxis": {
            "backgroundcolor": "#E5ECF6",
            "gridcolor": "white",
            "gridwidth": 2,
            "linecolor": "white",
            "showbackground": true,
            "ticks": "",
            "zerolinecolor": "white"
           }
          },
          "shapedefaults": {
           "line": {
            "color": "#2a3f5f"
           }
          },
          "ternary": {
           "aaxis": {
            "gridcolor": "white",
            "linecolor": "white",
            "ticks": ""
           },
           "baxis": {
            "gridcolor": "white",
            "linecolor": "white",
            "ticks": ""
           },
           "bgcolor": "#E5ECF6",
           "caxis": {
            "gridcolor": "white",
            "linecolor": "white",
            "ticks": ""
           }
          },
          "title": {
           "x": 0.05
          },
          "xaxis": {
           "automargin": true,
           "gridcolor": "white",
           "linecolor": "white",
           "ticks": "",
           "title": {
            "standoff": 15
           },
           "zerolinecolor": "white",
           "zerolinewidth": 2
          },
          "yaxis": {
           "automargin": true,
           "gridcolor": "white",
           "linecolor": "white",
           "ticks": "",
           "title": {
            "standoff": 15
           },
           "zerolinecolor": "white",
           "zerolinewidth": 2
          }
         }
        },
        "title": {
         "text": "Isolation Forest"
        },
        "width": 700,
        "xaxis": {
         "range": [
          0,
          11
         ],
         "tickvals": [
          0,
          1,
          2,
          3,
          4,
          5,
          6,
          7,
          8,
          9,
          10,
          11
         ],
         "title": {
          "text": "Feature Dropped"
         }
        },
        "yaxis": {
         "range": [
          0.7,
          0.9
         ],
         "title": {
          "text": "Score"
         }
        }
       }
      }
     },
     "metadata": {},
     "output_type": "display_data"
    }
   ],
   "source": [
    "# Create plot\n",
    "fig = go.Figure()\n",
    "\n",
    "fig.add_trace(go.Scatter(x=np.arange(0, len(iforesttrainscores), 1),\n",
    "                         y=iforesttrainscores,mode=\"lines+markers\",\n",
    "                         marker = dict(size=[10,10,10,10,10,10,10,10,10,10,10,10,10,10,10,10,10,10,10,10,10,10,10,10]),\n",
    "                         name=\"Train Scores\",\n",
    "                         line=dict(color=\"forestgreen\",width=4)))\n",
    "\n",
    "fig.add_trace(go.Scatter(x=np.arange(0, len(iforestvalscores), 1),\n",
    "                         y=iforestvalscores,mode=\"lines+markers\",\n",
    "                         marker = dict(size=[10,10,10,10,10,10,10,10,10,10,10,10,10,10,10,10,10,10,10,10,10,10,10,10]),\n",
    "                         name=\"Val Scores\",\n",
    "                         line=dict(color=\"goldenrod\",width=4)))\n",
    "\n",
    "fig.add_trace(go.Scatter(x=np.arange(0, len(iforesttestscores), 1),\n",
    "                         y=iforesttestscores,mode=\"lines+markers\",\n",
    "                         marker = dict(size=[10,10,10,10,10,10,10,10,10,10,10,10,10,10,10,10,10,10,10,10,10,10,10,10]),\n",
    "                         name=\"Test Scores\",\n",
    "                         line=dict(color=\"indianred\",width=4)))\n",
    "\n",
    "fig.update_layout(title=\"Isolation Forest\",\n",
    "                  xaxis=dict(tickvals=np.arange(0, len(iforesttrainscores), 1)),\n",
    "                  xaxis_range = [0,11],\n",
    "                  yaxis_range=[0.70, 0.90],\n",
    "                  xaxis_title=\"Feature Dropped\",\n",
    "                  yaxis_title=\"Score\",\n",
    "                  width = 700,\n",
    "                  margin=dict(l=0, r=0, b=50, t=50, pad=0),\n",
    "                  showlegend=True)\n",
    "\n",
    "fig.show()"
   ]
  },
  {
   "cell_type": "code",
   "execution_count": null,
   "metadata": {},
   "outputs": [
    {
     "data": {
      "text/html": [
       "<div>\n",
       "<style scoped>\n",
       "    .dataframe tbody tr th:only-of-type {\n",
       "        vertical-align: middle;\n",
       "    }\n",
       "\n",
       "    .dataframe tbody tr th {\n",
       "        vertical-align: top;\n",
       "    }\n",
       "\n",
       "    .dataframe thead th {\n",
       "        text-align: right;\n",
       "    }\n",
       "</style>\n",
       "<table border=\"1\" class=\"dataframe\">\n",
       "  <thead>\n",
       "    <tr style=\"text-align: right;\">\n",
       "      <th></th>\n",
       "      <th>Features</th>\n",
       "      <th>Values</th>\n",
       "    </tr>\n",
       "  </thead>\n",
       "  <tbody>\n",
       "    <tr>\n",
       "      <th>2</th>\n",
       "      <td>amt</td>\n",
       "      <td>0.34</td>\n",
       "    </tr>\n",
       "    <tr>\n",
       "      <th>9</th>\n",
       "      <td>ft_trans_hour</td>\n",
       "      <td>0.12</td>\n",
       "    </tr>\n",
       "    <tr>\n",
       "      <th>1</th>\n",
       "      <td>category</td>\n",
       "      <td>0.12</td>\n",
       "    </tr>\n",
       "    <tr>\n",
       "      <th>4</th>\n",
       "      <td>city</td>\n",
       "      <td>0.10</td>\n",
       "    </tr>\n",
       "    <tr>\n",
       "      <th>0</th>\n",
       "      <td>merchant</td>\n",
       "      <td>0.08</td>\n",
       "    </tr>\n",
       "    <tr>\n",
       "      <th>20</th>\n",
       "      <td>ft_amt_deviation</td>\n",
       "      <td>0.06</td>\n",
       "    </tr>\n",
       "    <tr>\n",
       "      <th>10</th>\n",
       "      <td>ft_time_of_day</td>\n",
       "      <td>0.06</td>\n",
       "    </tr>\n",
       "    <tr>\n",
       "      <th>18</th>\n",
       "      <td>ft_merchant_popularity</td>\n",
       "      <td>0.04</td>\n",
       "    </tr>\n",
       "    <tr>\n",
       "      <th>19</th>\n",
       "      <td>ft_mean_amt_per_user</td>\n",
       "      <td>0.02</td>\n",
       "    </tr>\n",
       "    <tr>\n",
       "      <th>12</th>\n",
       "      <td>ft_trans_day_of_year</td>\n",
       "      <td>0.02</td>\n",
       "    </tr>\n",
       "    <tr>\n",
       "      <th>7</th>\n",
       "      <td>job</td>\n",
       "      <td>0.02</td>\n",
       "    </tr>\n",
       "    <tr>\n",
       "      <th>6</th>\n",
       "      <td>city_pop</td>\n",
       "      <td>0.02</td>\n",
       "    </tr>\n",
       "    <tr>\n",
       "      <th>8</th>\n",
       "      <td>ft_age_group</td>\n",
       "      <td>0.00</td>\n",
       "    </tr>\n",
       "    <tr>\n",
       "      <th>11</th>\n",
       "      <td>ft_trans_day</td>\n",
       "      <td>0.00</td>\n",
       "    </tr>\n",
       "    <tr>\n",
       "      <th>13</th>\n",
       "      <td>ft_trans_month</td>\n",
       "      <td>0.00</td>\n",
       "    </tr>\n",
       "    <tr>\n",
       "      <th>14</th>\n",
       "      <td>ft_trans_year</td>\n",
       "      <td>0.00</td>\n",
       "    </tr>\n",
       "    <tr>\n",
       "      <th>15</th>\n",
       "      <td>ft_day_of_week</td>\n",
       "      <td>0.00</td>\n",
       "    </tr>\n",
       "    <tr>\n",
       "      <th>16</th>\n",
       "      <td>ft_distance_user_merchant</td>\n",
       "      <td>0.00</td>\n",
       "    </tr>\n",
       "    <tr>\n",
       "      <th>17</th>\n",
       "      <td>ft_merchant_distance_from_user_mean</td>\n",
       "      <td>0.00</td>\n",
       "    </tr>\n",
       "    <tr>\n",
       "      <th>5</th>\n",
       "      <td>state</td>\n",
       "      <td>0.00</td>\n",
       "    </tr>\n",
       "    <tr>\n",
       "      <th>3</th>\n",
       "      <td>gender</td>\n",
       "      <td>0.00</td>\n",
       "    </tr>\n",
       "    <tr>\n",
       "      <th>21</th>\n",
       "      <td>ft_transaction_count_per_user</td>\n",
       "      <td>0.00</td>\n",
       "    </tr>\n",
       "    <tr>\n",
       "      <th>22</th>\n",
       "      <td>ft_state_fraud_rate</td>\n",
       "      <td>0.00</td>\n",
       "    </tr>\n",
       "    <tr>\n",
       "      <th>23</th>\n",
       "      <td>ft_transaction_is_recurring</td>\n",
       "      <td>0.00</td>\n",
       "    </tr>\n",
       "  </tbody>\n",
       "</table>\n",
       "</div>"
      ],
      "text/plain": [
       "                               Features  Values\n",
       "2                                   amt    0.34\n",
       "9                         ft_trans_hour    0.12\n",
       "1                              category    0.12\n",
       "4                                  city    0.10\n",
       "0                              merchant    0.08\n",
       "20                     ft_amt_deviation    0.06\n",
       "10                       ft_time_of_day    0.06\n",
       "18               ft_merchant_popularity    0.04\n",
       "19                 ft_mean_amt_per_user    0.02\n",
       "12                 ft_trans_day_of_year    0.02\n",
       "7                                   job    0.02\n",
       "6                              city_pop    0.02\n",
       "8                          ft_age_group    0.00\n",
       "11                         ft_trans_day    0.00\n",
       "13                       ft_trans_month    0.00\n",
       "14                        ft_trans_year    0.00\n",
       "15                       ft_day_of_week    0.00\n",
       "16            ft_distance_user_merchant    0.00\n",
       "17  ft_merchant_distance_from_user_mean    0.00\n",
       "5                                 state    0.00\n",
       "3                                gender    0.00\n",
       "21        ft_transaction_count_per_user    0.00\n",
       "22                  ft_state_fraud_rate    0.00\n",
       "23          ft_transaction_is_recurring    0.00"
      ]
     },
     "metadata": {},
     "output_type": "display_data"
    },
    {
     "name": "stdout",
     "output_type": "stream",
     "text": [
      "['amt', 'category', 'ft_trans_hour', 'city', 'merchant', 'ft_time_of_day', 'ft_amt_deviation', 'ft_merchant_popularity', 'city_pop', 'job', 'ft_trans_day_of_year', 'ft_mean_amt_per_user']\n",
      "0.8027196652719665\n",
      "0.7947269303201506\n",
      "0.7572815533980582\n",
      "\n",
      "['amt', 'category', 'ft_trans_hour', 'city', 'merchant', 'ft_time_of_day', 'ft_amt_deviation', 'ft_merchant_popularity', 'city_pop', 'job', 'ft_trans_day_of_year']\n",
      "0.8171548117154812\n",
      "0.8072818581293157\n",
      "0.7634598411297441\n",
      "\n",
      "['amt', 'category', 'ft_trans_hour', 'city', 'merchant', 'ft_time_of_day', 'ft_amt_deviation', 'ft_merchant_popularity', 'city_pop', 'job']\n",
      "0.8071129707112971\n",
      "0.7903327055869429\n",
      "0.7546337157987644\n",
      "\n",
      "['amt', 'category', 'ft_trans_hour', 'city', 'merchant', 'ft_time_of_day', 'ft_amt_deviation', 'ft_merchant_popularity', 'city_pop']\n",
      "0.8213389121338912\n",
      "0.8135593220338984\n",
      "0.7811120917917035\n",
      "\n",
      "['amt', 'category', 'ft_trans_hour', 'city', 'merchant', 'ft_time_of_day', 'ft_amt_deviation', 'ft_merchant_popularity']\n",
      "0.8213389121338912\n",
      "0.8141870684243565\n",
      "0.7793468667255075\n",
      "\n",
      "['amt', 'category', 'ft_trans_hour', 'city', 'merchant', 'ft_time_of_day', 'ft_amt_deviation']\n",
      "0.8328451882845188\n",
      "0.8261142498430634\n",
      "0.7978817299205648\n",
      "\n",
      "['amt', 'category', 'ft_trans_hour', 'city', 'merchant', 'ft_time_of_day']\n",
      "0.858786610878661\n",
      "0.8531073446327684\n",
      "0.8137687555163283\n",
      "\n",
      "['amt', 'category', 'ft_trans_hour', 'city', 'merchant', 'ft_time_of_day']\n",
      "0.858786610878661\n",
      "0.8531073446327684\n",
      "0.8137687555163283\n",
      "\n",
      "['amt', 'category', 'ft_trans_hour', 'city', 'ft_time_of_day']\n",
      "0.8746861924686192\n",
      "0.8618957940991839\n",
      "0.823477493380406\n",
      "\n",
      "['amt', 'category', 'ft_trans_hour', 'ft_time_of_day']\n",
      "0.8914225941422594\n",
      "0.8857501569365976\n",
      "0.8923212709620476\n",
      "\n",
      "['amt', 'category', 'ft_time_of_day']\n",
      "0.8456066945606695\n",
      "0.8443188951663528\n",
      "0.8437775816416593\n",
      "\n",
      "['amt', 'ft_time_of_day']\n",
      "0.8857740585774059\n",
      "0.8882611424984307\n",
      "0.8879082082965578\n",
      "\n"
     ]
    }
   ],
   "source": [
    "# Calculate the scores for isolation forest, this time keeping the feature\n",
    "# that caused the major dip above. ft_time_of_day\n",
    "f = a.feature_importances_\n",
    "features = []\n",
    "values = []\n",
    "for i,v in enumerate(f):\n",
    "\tfeatures.append(X_train_encoded.columns[i])\n",
    "\tvalues.append(v)\n",
    "\n",
    "ll = pd.DataFrame.from_dict({\"Features\":features,\"Values\":values})\n",
    "display(ll.sort_values(by=\"Values\",ascending=False))\n",
    "\n",
    "ll = pd.DataFrame(ll[ll.Values != 0]).sort_values(by=\"Values\",ascending=False)\n",
    "ll\n",
    "\n",
    "columns_to_keep_adaboostomptimized = list(ll[\"Features\"])\n",
    "\n",
    "iforesttrainscores = []\n",
    "iforestvalscores = []\n",
    "iforesttestscores = []\n",
    "c = columns_to_keep_adaboostomptimized\n",
    "\n",
    "for j in range(0,len(columns_to_keep_adaboostomptimized)):\n",
    "    c = columns_to_keep_adaboostomptimized[0:len(columns_to_keep_adaboostomptimized)-j]\n",
    "    if j > 6:\n",
    "        c.append(columns_to_keep_adaboostomptimized[(5)])\n",
    "\n",
    "    iX_train_encoded = X_train_encoded.drop(columns=[col for col in X_train_encoded.columns if col not in c], errors='ignore')\n",
    "\n",
    "    iX_val_encoded = X_val_encoded.drop(columns=[col for col in X_val_encoded.columns if col not in c], errors='ignore')\n",
    "\n",
    "    iX_test_encoded = X_test_encoded.drop(columns=[col for col in X_test_encoded.columns if col not in c], errors='ignore')\n",
    "    print(c)\n",
    "    i = IsolationForest(random_state=42)\n",
    "    i.fit(iX_train_encoded, y_train)\n",
    "    i_train_predict = i.predict(iX_train_encoded)\n",
    "    i_val_predict = i.predict(iX_val_encoded)\n",
    "    i_test_predict = i.predict(iX_test_encoded)\n",
    "    for k in range(0,len(i_train_predict)):\n",
    "        if i_train_predict[k] == -1:\n",
    "            i_train_predict[k] = 1\n",
    "        else:\n",
    "            i_train_predict[k] = 0\n",
    "\n",
    "    for k in range(0,len(i_val_predict)):\n",
    "        if i_val_predict[k] == -1:\n",
    "            i_val_predict[k] = 1\n",
    "        else:\n",
    "            i_val_predict[k] = 0\n",
    "\n",
    "    for k in range(0,len(i_test_predict)):\n",
    "        if i_test_predict[k] == -1:\n",
    "            i_test_predict[k] = 1\n",
    "        else:\n",
    "            i_test_predict[k] = 0\n",
    "    \n",
    "    print(f\"Recall Score Train: {recall_score(y_train,i_train_predict)}\")\n",
    "    print(f\"Recall Score Validation: {recall_score(y_val,i_val_predict)}\")\n",
    "    print(f\"Recall Score Test: {recall_score(y_test,i_test_predict)}\")\n",
    "    print(\"\")\n",
    "                \n",
    "    iforesttrainscores.append(recall_score(y_train,i_train_predict))\n",
    "    iforestvalscores.append(recall_score(y_val,i_val_predict))\n",
    "    iforesttestscores.append(recall_score(y_test,i_test_predict))\n"
   ]
  },
  {
   "cell_type": "code",
   "execution_count": null,
   "metadata": {},
   "outputs": [
    {
     "data": {
      "application/vnd.plotly.v1+json": {
       "config": {
        "plotlyServerURL": "https://plot.ly"
       },
       "data": [
        {
         "line": {
          "color": "forestgreen",
          "width": 4
         },
         "marker": {
          "size": [
           10,
           10,
           10,
           10,
           10,
           10,
           10,
           10,
           10,
           10,
           10,
           10,
           10,
           10,
           10,
           10,
           10,
           10,
           10,
           10,
           10,
           10,
           10,
           10
          ]
         },
         "mode": "lines+markers",
         "name": "Train Scores",
         "type": "scatter",
         "x": [
          0,
          1,
          2,
          3,
          4,
          5,
          6,
          7,
          8,
          9,
          10,
          11
         ],
         "y": [
          0.8027196652719665,
          0.8171548117154812,
          0.8071129707112971,
          0.8213389121338912,
          0.8213389121338912,
          0.8328451882845188,
          0.858786610878661,
          0.858786610878661,
          0.8746861924686192,
          0.8914225941422594,
          0.8456066945606695,
          0.8857740585774059
         ]
        },
        {
         "line": {
          "color": "goldenrod",
          "width": 4
         },
         "marker": {
          "size": [
           10,
           10,
           10,
           10,
           10,
           10,
           10,
           10,
           10,
           10,
           10,
           10,
           10,
           10,
           10,
           10,
           10,
           10,
           10,
           10,
           10,
           10,
           10,
           10
          ]
         },
         "mode": "lines+markers",
         "name": "Val Scores",
         "type": "scatter",
         "x": [
          0,
          1,
          2,
          3,
          4,
          5,
          6,
          7,
          8,
          9,
          10,
          11
         ],
         "y": [
          0.7947269303201506,
          0.8072818581293157,
          0.7903327055869429,
          0.8135593220338984,
          0.8141870684243565,
          0.8261142498430634,
          0.8531073446327684,
          0.8531073446327684,
          0.8618957940991839,
          0.8857501569365976,
          0.8443188951663528,
          0.8882611424984307
         ]
        },
        {
         "line": {
          "color": "indianred",
          "width": 4
         },
         "marker": {
          "size": [
           10,
           10,
           10,
           10,
           10,
           10,
           10,
           10,
           10,
           10,
           10,
           10,
           10,
           10,
           10,
           10,
           10,
           10,
           10,
           10,
           10,
           10,
           10,
           10
          ]
         },
         "mode": "lines+markers",
         "name": "Test Scores",
         "type": "scatter",
         "x": [
          0,
          1,
          2,
          3,
          4,
          5,
          6,
          7,
          8,
          9,
          10,
          11
         ],
         "y": [
          0.7572815533980582,
          0.7634598411297441,
          0.7546337157987644,
          0.7811120917917035,
          0.7793468667255075,
          0.7978817299205648,
          0.8137687555163283,
          0.8137687555163283,
          0.823477493380406,
          0.8923212709620476,
          0.8437775816416593,
          0.8879082082965578
         ]
        }
       ],
       "layout": {
        "margin": {
         "b": 50,
         "l": 0,
         "pad": 0,
         "r": 0,
         "t": 50
        },
        "showlegend": true,
        "template": {
         "data": {
          "bar": [
           {
            "error_x": {
             "color": "#2a3f5f"
            },
            "error_y": {
             "color": "#2a3f5f"
            },
            "marker": {
             "line": {
              "color": "#E5ECF6",
              "width": 0.5
             },
             "pattern": {
              "fillmode": "overlay",
              "size": 10,
              "solidity": 0.2
             }
            },
            "type": "bar"
           }
          ],
          "barpolar": [
           {
            "marker": {
             "line": {
              "color": "#E5ECF6",
              "width": 0.5
             },
             "pattern": {
              "fillmode": "overlay",
              "size": 10,
              "solidity": 0.2
             }
            },
            "type": "barpolar"
           }
          ],
          "carpet": [
           {
            "aaxis": {
             "endlinecolor": "#2a3f5f",
             "gridcolor": "white",
             "linecolor": "white",
             "minorgridcolor": "white",
             "startlinecolor": "#2a3f5f"
            },
            "baxis": {
             "endlinecolor": "#2a3f5f",
             "gridcolor": "white",
             "linecolor": "white",
             "minorgridcolor": "white",
             "startlinecolor": "#2a3f5f"
            },
            "type": "carpet"
           }
          ],
          "choropleth": [
           {
            "colorbar": {
             "outlinewidth": 0,
             "ticks": ""
            },
            "type": "choropleth"
           }
          ],
          "contour": [
           {
            "colorbar": {
             "outlinewidth": 0,
             "ticks": ""
            },
            "colorscale": [
             [
              0,
              "#0d0887"
             ],
             [
              0.1111111111111111,
              "#46039f"
             ],
             [
              0.2222222222222222,
              "#7201a8"
             ],
             [
              0.3333333333333333,
              "#9c179e"
             ],
             [
              0.4444444444444444,
              "#bd3786"
             ],
             [
              0.5555555555555556,
              "#d8576b"
             ],
             [
              0.6666666666666666,
              "#ed7953"
             ],
             [
              0.7777777777777778,
              "#fb9f3a"
             ],
             [
              0.8888888888888888,
              "#fdca26"
             ],
             [
              1,
              "#f0f921"
             ]
            ],
            "type": "contour"
           }
          ],
          "contourcarpet": [
           {
            "colorbar": {
             "outlinewidth": 0,
             "ticks": ""
            },
            "type": "contourcarpet"
           }
          ],
          "heatmap": [
           {
            "colorbar": {
             "outlinewidth": 0,
             "ticks": ""
            },
            "colorscale": [
             [
              0,
              "#0d0887"
             ],
             [
              0.1111111111111111,
              "#46039f"
             ],
             [
              0.2222222222222222,
              "#7201a8"
             ],
             [
              0.3333333333333333,
              "#9c179e"
             ],
             [
              0.4444444444444444,
              "#bd3786"
             ],
             [
              0.5555555555555556,
              "#d8576b"
             ],
             [
              0.6666666666666666,
              "#ed7953"
             ],
             [
              0.7777777777777778,
              "#fb9f3a"
             ],
             [
              0.8888888888888888,
              "#fdca26"
             ],
             [
              1,
              "#f0f921"
             ]
            ],
            "type": "heatmap"
           }
          ],
          "heatmapgl": [
           {
            "colorbar": {
             "outlinewidth": 0,
             "ticks": ""
            },
            "colorscale": [
             [
              0,
              "#0d0887"
             ],
             [
              0.1111111111111111,
              "#46039f"
             ],
             [
              0.2222222222222222,
              "#7201a8"
             ],
             [
              0.3333333333333333,
              "#9c179e"
             ],
             [
              0.4444444444444444,
              "#bd3786"
             ],
             [
              0.5555555555555556,
              "#d8576b"
             ],
             [
              0.6666666666666666,
              "#ed7953"
             ],
             [
              0.7777777777777778,
              "#fb9f3a"
             ],
             [
              0.8888888888888888,
              "#fdca26"
             ],
             [
              1,
              "#f0f921"
             ]
            ],
            "type": "heatmapgl"
           }
          ],
          "histogram": [
           {
            "marker": {
             "pattern": {
              "fillmode": "overlay",
              "size": 10,
              "solidity": 0.2
             }
            },
            "type": "histogram"
           }
          ],
          "histogram2d": [
           {
            "colorbar": {
             "outlinewidth": 0,
             "ticks": ""
            },
            "colorscale": [
             [
              0,
              "#0d0887"
             ],
             [
              0.1111111111111111,
              "#46039f"
             ],
             [
              0.2222222222222222,
              "#7201a8"
             ],
             [
              0.3333333333333333,
              "#9c179e"
             ],
             [
              0.4444444444444444,
              "#bd3786"
             ],
             [
              0.5555555555555556,
              "#d8576b"
             ],
             [
              0.6666666666666666,
              "#ed7953"
             ],
             [
              0.7777777777777778,
              "#fb9f3a"
             ],
             [
              0.8888888888888888,
              "#fdca26"
             ],
             [
              1,
              "#f0f921"
             ]
            ],
            "type": "histogram2d"
           }
          ],
          "histogram2dcontour": [
           {
            "colorbar": {
             "outlinewidth": 0,
             "ticks": ""
            },
            "colorscale": [
             [
              0,
              "#0d0887"
             ],
             [
              0.1111111111111111,
              "#46039f"
             ],
             [
              0.2222222222222222,
              "#7201a8"
             ],
             [
              0.3333333333333333,
              "#9c179e"
             ],
             [
              0.4444444444444444,
              "#bd3786"
             ],
             [
              0.5555555555555556,
              "#d8576b"
             ],
             [
              0.6666666666666666,
              "#ed7953"
             ],
             [
              0.7777777777777778,
              "#fb9f3a"
             ],
             [
              0.8888888888888888,
              "#fdca26"
             ],
             [
              1,
              "#f0f921"
             ]
            ],
            "type": "histogram2dcontour"
           }
          ],
          "mesh3d": [
           {
            "colorbar": {
             "outlinewidth": 0,
             "ticks": ""
            },
            "type": "mesh3d"
           }
          ],
          "parcoords": [
           {
            "line": {
             "colorbar": {
              "outlinewidth": 0,
              "ticks": ""
             }
            },
            "type": "parcoords"
           }
          ],
          "pie": [
           {
            "automargin": true,
            "type": "pie"
           }
          ],
          "scatter": [
           {
            "fillpattern": {
             "fillmode": "overlay",
             "size": 10,
             "solidity": 0.2
            },
            "type": "scatter"
           }
          ],
          "scatter3d": [
           {
            "line": {
             "colorbar": {
              "outlinewidth": 0,
              "ticks": ""
             }
            },
            "marker": {
             "colorbar": {
              "outlinewidth": 0,
              "ticks": ""
             }
            },
            "type": "scatter3d"
           }
          ],
          "scattercarpet": [
           {
            "marker": {
             "colorbar": {
              "outlinewidth": 0,
              "ticks": ""
             }
            },
            "type": "scattercarpet"
           }
          ],
          "scattergeo": [
           {
            "marker": {
             "colorbar": {
              "outlinewidth": 0,
              "ticks": ""
             }
            },
            "type": "scattergeo"
           }
          ],
          "scattergl": [
           {
            "marker": {
             "colorbar": {
              "outlinewidth": 0,
              "ticks": ""
             }
            },
            "type": "scattergl"
           }
          ],
          "scattermapbox": [
           {
            "marker": {
             "colorbar": {
              "outlinewidth": 0,
              "ticks": ""
             }
            },
            "type": "scattermapbox"
           }
          ],
          "scatterpolar": [
           {
            "marker": {
             "colorbar": {
              "outlinewidth": 0,
              "ticks": ""
             }
            },
            "type": "scatterpolar"
           }
          ],
          "scatterpolargl": [
           {
            "marker": {
             "colorbar": {
              "outlinewidth": 0,
              "ticks": ""
             }
            },
            "type": "scatterpolargl"
           }
          ],
          "scatterternary": [
           {
            "marker": {
             "colorbar": {
              "outlinewidth": 0,
              "ticks": ""
             }
            },
            "type": "scatterternary"
           }
          ],
          "surface": [
           {
            "colorbar": {
             "outlinewidth": 0,
             "ticks": ""
            },
            "colorscale": [
             [
              0,
              "#0d0887"
             ],
             [
              0.1111111111111111,
              "#46039f"
             ],
             [
              0.2222222222222222,
              "#7201a8"
             ],
             [
              0.3333333333333333,
              "#9c179e"
             ],
             [
              0.4444444444444444,
              "#bd3786"
             ],
             [
              0.5555555555555556,
              "#d8576b"
             ],
             [
              0.6666666666666666,
              "#ed7953"
             ],
             [
              0.7777777777777778,
              "#fb9f3a"
             ],
             [
              0.8888888888888888,
              "#fdca26"
             ],
             [
              1,
              "#f0f921"
             ]
            ],
            "type": "surface"
           }
          ],
          "table": [
           {
            "cells": {
             "fill": {
              "color": "#EBF0F8"
             },
             "line": {
              "color": "white"
             }
            },
            "header": {
             "fill": {
              "color": "#C8D4E3"
             },
             "line": {
              "color": "white"
             }
            },
            "type": "table"
           }
          ]
         },
         "layout": {
          "annotationdefaults": {
           "arrowcolor": "#2a3f5f",
           "arrowhead": 0,
           "arrowwidth": 1
          },
          "autotypenumbers": "strict",
          "coloraxis": {
           "colorbar": {
            "outlinewidth": 0,
            "ticks": ""
           }
          },
          "colorscale": {
           "diverging": [
            [
             0,
             "#8e0152"
            ],
            [
             0.1,
             "#c51b7d"
            ],
            [
             0.2,
             "#de77ae"
            ],
            [
             0.3,
             "#f1b6da"
            ],
            [
             0.4,
             "#fde0ef"
            ],
            [
             0.5,
             "#f7f7f7"
            ],
            [
             0.6,
             "#e6f5d0"
            ],
            [
             0.7,
             "#b8e186"
            ],
            [
             0.8,
             "#7fbc41"
            ],
            [
             0.9,
             "#4d9221"
            ],
            [
             1,
             "#276419"
            ]
           ],
           "sequential": [
            [
             0,
             "#0d0887"
            ],
            [
             0.1111111111111111,
             "#46039f"
            ],
            [
             0.2222222222222222,
             "#7201a8"
            ],
            [
             0.3333333333333333,
             "#9c179e"
            ],
            [
             0.4444444444444444,
             "#bd3786"
            ],
            [
             0.5555555555555556,
             "#d8576b"
            ],
            [
             0.6666666666666666,
             "#ed7953"
            ],
            [
             0.7777777777777778,
             "#fb9f3a"
            ],
            [
             0.8888888888888888,
             "#fdca26"
            ],
            [
             1,
             "#f0f921"
            ]
           ],
           "sequentialminus": [
            [
             0,
             "#0d0887"
            ],
            [
             0.1111111111111111,
             "#46039f"
            ],
            [
             0.2222222222222222,
             "#7201a8"
            ],
            [
             0.3333333333333333,
             "#9c179e"
            ],
            [
             0.4444444444444444,
             "#bd3786"
            ],
            [
             0.5555555555555556,
             "#d8576b"
            ],
            [
             0.6666666666666666,
             "#ed7953"
            ],
            [
             0.7777777777777778,
             "#fb9f3a"
            ],
            [
             0.8888888888888888,
             "#fdca26"
            ],
            [
             1,
             "#f0f921"
            ]
           ]
          },
          "colorway": [
           "#636efa",
           "#EF553B",
           "#00cc96",
           "#ab63fa",
           "#FFA15A",
           "#19d3f3",
           "#FF6692",
           "#B6E880",
           "#FF97FF",
           "#FECB52"
          ],
          "font": {
           "color": "#2a3f5f"
          },
          "geo": {
           "bgcolor": "white",
           "lakecolor": "white",
           "landcolor": "#E5ECF6",
           "showlakes": true,
           "showland": true,
           "subunitcolor": "white"
          },
          "hoverlabel": {
           "align": "left"
          },
          "hovermode": "closest",
          "mapbox": {
           "style": "light"
          },
          "paper_bgcolor": "white",
          "plot_bgcolor": "#E5ECF6",
          "polar": {
           "angularaxis": {
            "gridcolor": "white",
            "linecolor": "white",
            "ticks": ""
           },
           "bgcolor": "#E5ECF6",
           "radialaxis": {
            "gridcolor": "white",
            "linecolor": "white",
            "ticks": ""
           }
          },
          "scene": {
           "xaxis": {
            "backgroundcolor": "#E5ECF6",
            "gridcolor": "white",
            "gridwidth": 2,
            "linecolor": "white",
            "showbackground": true,
            "ticks": "",
            "zerolinecolor": "white"
           },
           "yaxis": {
            "backgroundcolor": "#E5ECF6",
            "gridcolor": "white",
            "gridwidth": 2,
            "linecolor": "white",
            "showbackground": true,
            "ticks": "",
            "zerolinecolor": "white"
           },
           "zaxis": {
            "backgroundcolor": "#E5ECF6",
            "gridcolor": "white",
            "gridwidth": 2,
            "linecolor": "white",
            "showbackground": true,
            "ticks": "",
            "zerolinecolor": "white"
           }
          },
          "shapedefaults": {
           "line": {
            "color": "#2a3f5f"
           }
          },
          "ternary": {
           "aaxis": {
            "gridcolor": "white",
            "linecolor": "white",
            "ticks": ""
           },
           "baxis": {
            "gridcolor": "white",
            "linecolor": "white",
            "ticks": ""
           },
           "bgcolor": "#E5ECF6",
           "caxis": {
            "gridcolor": "white",
            "linecolor": "white",
            "ticks": ""
           }
          },
          "title": {
           "x": 0.05
          },
          "xaxis": {
           "automargin": true,
           "gridcolor": "white",
           "linecolor": "white",
           "ticks": "",
           "title": {
            "standoff": 15
           },
           "zerolinecolor": "white",
           "zerolinewidth": 2
          },
          "yaxis": {
           "automargin": true,
           "gridcolor": "white",
           "linecolor": "white",
           "ticks": "",
           "title": {
            "standoff": 15
           },
           "zerolinecolor": "white",
           "zerolinewidth": 2
          }
         }
        },
        "title": {
         "text": "Isolation Forest"
        },
        "width": 700,
        "xaxis": {
         "range": [
          0,
          11
         ],
         "tickvals": [
          0,
          1,
          2,
          3,
          4,
          5,
          6,
          7,
          8,
          9,
          10,
          11
         ],
         "title": {
          "text": "Feature Dropped"
         }
        },
        "yaxis": {
         "range": [
          0.75,
          0.9
         ],
         "title": {
          "text": "Score"
         }
        }
       }
      }
     },
     "metadata": {},
     "output_type": "display_data"
    }
   ],
   "source": [
    "#Create plot\n",
    "fig = go.Figure()\n",
    "\n",
    "fig.add_trace(go.Scatter(x=np.arange(0, len(iforesttrainscores), 1),\n",
    "                         y=iforesttrainscores,mode=\"lines+markers\",\n",
    "                         marker = dict(size=[10,10,10,10,10,10,10,10,10,10,10,10,10,10,10,10,10,10,10,10,10,10,10,10]),\n",
    "                         name=\"Train Scores\",\n",
    "                         line=dict(color=\"forestgreen\",width=4)))\n",
    "\n",
    "fig.add_trace(go.Scatter(x=np.arange(0, len(iforestvalscores), 1),\n",
    "                         y=iforestvalscores,mode=\"lines+markers\",\n",
    "                         marker = dict(size=[10,10,10,10,10,10,10,10,10,10,10,10,10,10,10,10,10,10,10,10,10,10,10,10]),\n",
    "                         name=\"Val Scores\",\n",
    "                         line=dict(color=\"goldenrod\",width=4)))\n",
    "\n",
    "fig.add_trace(go.Scatter(x=np.arange(0, len(iforesttestscores), 1),\n",
    "                         y=iforesttestscores,mode=\"lines+markers\",\n",
    "                         marker = dict(size=[10,10,10,10,10,10,10,10,10,10,10,10,10,10,10,10,10,10,10,10,10,10,10,10]),\n",
    "                         name=\"Test Scores\",\n",
    "                         line=dict(color=\"indianred\",width=4)))\n",
    "\n",
    "fig.update_layout(title=\"Isolation Forest\",\n",
    "                  xaxis=dict(tickvals=np.arange(0, len(iforesttrainscores), 1)),\n",
    "                  xaxis_range = [0,11],\n",
    "                  yaxis_range=[0.75, 0.90],\n",
    "                  xaxis_title=\"Feature Dropped\",\n",
    "                  yaxis_title=\"Score\",\n",
    "                  width = 700,\n",
    "                  margin=dict(l=0, r=0, b=50, t=50, pad=0),\n",
    "                  showlegend=True)\n",
    "\n",
    "fig.show()"
   ]
  },
  {
   "cell_type": "code",
   "execution_count": 27,
   "metadata": {},
   "outputs": [
    {
     "name": "stdout",
     "output_type": "stream",
     "text": [
      "Fitting 2 folds for each of 20 candidates, totalling 40 fits\n"
     ]
    },
    {
     "name": "stderr",
     "output_type": "stream",
     "text": [
      "c:\\Users\\simra\\anaconda3\\envs\\dev\\lib\\site-packages\\sklearn\\model_selection\\_validation.py:542: FitFailedWarning:\n",
      "\n",
      "\n",
      "8 fits failed out of a total of 40.\n",
      "The score on these train-test partitions for these parameters will be set to nan.\n",
      "If these failures are not expected, you can try to debug them by setting error_score='raise'.\n",
      "\n",
      "Below are more details about the failures:\n",
      "--------------------------------------------------------------------------------\n",
      "8 fits failed with the following error:\n",
      "Traceback (most recent call last):\n",
      "  File \"c:\\Users\\simra\\anaconda3\\envs\\dev\\lib\\site-packages\\sklearn\\model_selection\\_validation.py\", line 890, in _fit_and_score\n",
      "    estimator.fit(X_train, y_train, **fit_params)\n",
      "  File \"c:\\Users\\simra\\anaconda3\\envs\\dev\\lib\\site-packages\\sklearn\\base.py\", line 1344, in wrapper\n",
      "    estimator._validate_params()\n",
      "  File \"c:\\Users\\simra\\anaconda3\\envs\\dev\\lib\\site-packages\\sklearn\\base.py\", line 666, in _validate_params\n",
      "    validate_parameter_constraints(\n",
      "  File \"c:\\Users\\simra\\anaconda3\\envs\\dev\\lib\\site-packages\\sklearn\\utils\\_param_validation.py\", line 95, in validate_parameter_constraints\n",
      "    raise InvalidParameterError(\n",
      "sklearn.utils._param_validation.InvalidParameterError: The 'n_estimators' parameter of IsolationForest must be an int in the range [1, inf). Got 'auto' instead.\n",
      "\n",
      "\n",
      "c:\\Users\\simra\\anaconda3\\envs\\dev\\lib\\site-packages\\sklearn\\model_selection\\_search.py:1051: UserWarning:\n",
      "\n",
      "One or more of the test scores are non-finite: [nan nan nan nan nan nan nan nan nan nan nan nan nan nan nan nan nan nan\n",
      " nan nan]\n",
      "\n"
     ]
    },
    {
     "name": "stdout",
     "output_type": "stream",
     "text": [
      "{'max_features': 0.01, 'max_samples': 10, 'n_estimators': 10, 'random_state': 42}\n"
     ]
    }
   ],
   "source": [
    "#Hyperparameter tuning based on the highest performing columns.\n",
    "#Code was run in chunks for n_estimators ranging from 10 to 10000\n",
    "#max_samples ranging from 10 to 100000\n",
    "#max_features ranging from 0.01 to 1.0\n",
    "#the code below is just the last one ran\n",
    "best_yeild_columns = ['amt', 'category', 'ft_trans_hour', 'ft_time_of_day']\n",
    "\n",
    "X_train_encoded_final = X_train_encoded.drop(columns=[col for col in X_train_encoded.columns if col not in best_yeild_columns], errors='ignore')\n",
    "\n",
    "param_grid = {\n",
    "    \"n_estimators\" : [10,100,1000, 10000, 'auto'],\n",
    "    \"max_samples\": [10, 100, 500, 5000],\n",
    "    \"max_features\": [0.01],\n",
    "    \"random_state\" : [42]\n",
    "}\n",
    "\n",
    "grid_search = GridSearchCV(\n",
    "    estimator=IsolationForest(),\n",
    "    param_grid=param_grid,\n",
    "    scoring=\"recall\",\n",
    "    cv=2,   # 3-fold cross-validation\n",
    "    verbose=3,\n",
    "    n_jobs=-1  # Use all available cores\n",
    ")\n",
    "\n",
    "\n",
    "grid_search.fit(X_train_encoded_final,y_train)\n",
    "print(grid_search.best_params_)"
   ]
  },
  {
   "cell_type": "code",
   "execution_count": 33,
   "metadata": {},
   "outputs": [
    {
     "data": {
      "text/plain": [
       "['amt', 'category', 'ft_trans_hour', 'ft_time_of_day']"
      ]
     },
     "metadata": {},
     "output_type": "display_data"
    },
    {
     "name": "stdout",
     "output_type": "stream",
     "text": [
      "Recall Score Train: 0.9922594142259414\n",
      "Recall Score Validation: 0.9899560577526679\n",
      "Recall Score Test: 0.9894086496028244\n"
     ]
    }
   ],
   "source": [
    "# test different hyperparameter values \n",
    "c = ['amt', 'category', 'ft_trans_hour', 'ft_time_of_day']\n",
    "display(c)\n",
    "\n",
    "ifinal_train_encoded = X_train_encoded.drop(columns=[col for col in X_train_encoded.columns if col not in c], errors='ignore')\n",
    "\n",
    "ifinal_val_encoded = X_val_encoded.drop(columns=[col for col in X_val_encoded.columns if col not in c], errors='ignore')\n",
    "\n",
    "ifinal_test_encoded = X_test_encoded.drop(columns=[col for col in X_test_encoded.columns if col not in c], errors='ignore')\n",
    "\n",
    "i5 = IsolationForest(max_features=0.01, max_samples=10, n_estimators=1000, random_state=42)\n",
    "i5.fit(ifinal_train_encoded, y_train)\n",
    "i5_train_predict = i5.predict(ifinal_train_encoded)\n",
    "i5_val_predict = i5.predict(ifinal_val_encoded)\n",
    "i5_test_predict = i5.predict(ifinal_test_encoded)\n",
    "for k in range(0,len(i5_train_predict)):\n",
    "    if i5_train_predict[k] == -1:\n",
    "        i5_train_predict[k] = 1\n",
    "    else:\n",
    "        i5_train_predict[k] = 0\n",
    "\n",
    "for k in range(0,len(i5_val_predict)):\n",
    "    if i5_val_predict[k] == -1:\n",
    "        i5_val_predict[k] = 1\n",
    "    else:\n",
    "        i5_val_predict[k] = 0\n",
    "\n",
    "for k in range(0,len(i5_test_predict)):\n",
    "    if i5_test_predict[k] == -1:\n",
    "        i5_test_predict[k] = 1\n",
    "    else:\n",
    "        i5_test_predict[k] = 0\n",
    "            \n",
    "i5foresttrainscores = (recall_score(y_train,i5_train_predict))\n",
    "i5forestvalscores = (recall_score(y_val,i5_val_predict))\n",
    "i5foresttestscores = (recall_score(y_test,i5_test_predict))\n",
    "\n",
    "print(f\"Recall Score Train: {i5foresttrainscores}\")\n",
    "print(f\"Recall Score Validation: {i5forestvalscores}\")\n",
    "print(f\"Recall Score Test: {i5foresttestscores}\")\n",
    "\n",
    "# 0.9893305439330544\n",
    "# 0.9868173258003766\n",
    "# 0.9885260370697264"
   ]
  },
  {
   "cell_type": "code",
   "execution_count": null,
   "metadata": {},
   "outputs": [
    {
     "data": {
      "application/vnd.plotly.v1+json": {
       "config": {
        "plotlyServerURL": "https://plot.ly"
       },
       "data": [
        {
         "marker": {
          "color": "forestgreen"
         },
         "name": "Train Scores",
         "type": "bar",
         "x": [
          "XGBoost",
          "Stacking Classifier",
          "Logistic Regression",
          "Random Forest",
          "Keras",
          "CatBoost",
          "LightGBM",
          "IsolationForest",
          "AdaBoost"
         ],
         "y": [
          0.947,
          0.9774123242,
          0.2893,
          0.0071,
          1,
          0.978,
          0.818,
          0.8345188285,
          0.520083682
         ]
        },
        {
         "marker": {
          "color": "goldenrod"
         },
         "name": "Validation Scores",
         "type": "bar",
         "x": [
          "XGBoost",
          "Stacking Classifier",
          "Logistic Regression",
          "Random Forest",
          "Keras",
          "CatBoost",
          "LightGBM",
          "IsolationForest",
          "AdaBoost"
         ],
         "y": [
          0.833,
          0.8362989324,
          0.262,
          0.0063,
          1,
          0.838,
          0.729,
          0.8198367859,
          0.5065913371
         ]
        }
       ],
       "layout": {
        "template": {
         "data": {
          "bar": [
           {
            "error_x": {
             "color": "#2a3f5f"
            },
            "error_y": {
             "color": "#2a3f5f"
            },
            "marker": {
             "line": {
              "color": "#E5ECF6",
              "width": 0.5
             },
             "pattern": {
              "fillmode": "overlay",
              "size": 10,
              "solidity": 0.2
             }
            },
            "type": "bar"
           }
          ],
          "barpolar": [
           {
            "marker": {
             "line": {
              "color": "#E5ECF6",
              "width": 0.5
             },
             "pattern": {
              "fillmode": "overlay",
              "size": 10,
              "solidity": 0.2
             }
            },
            "type": "barpolar"
           }
          ],
          "carpet": [
           {
            "aaxis": {
             "endlinecolor": "#2a3f5f",
             "gridcolor": "white",
             "linecolor": "white",
             "minorgridcolor": "white",
             "startlinecolor": "#2a3f5f"
            },
            "baxis": {
             "endlinecolor": "#2a3f5f",
             "gridcolor": "white",
             "linecolor": "white",
             "minorgridcolor": "white",
             "startlinecolor": "#2a3f5f"
            },
            "type": "carpet"
           }
          ],
          "choropleth": [
           {
            "colorbar": {
             "outlinewidth": 0,
             "ticks": ""
            },
            "type": "choropleth"
           }
          ],
          "contour": [
           {
            "colorbar": {
             "outlinewidth": 0,
             "ticks": ""
            },
            "colorscale": [
             [
              0,
              "#0d0887"
             ],
             [
              0.1111111111111111,
              "#46039f"
             ],
             [
              0.2222222222222222,
              "#7201a8"
             ],
             [
              0.3333333333333333,
              "#9c179e"
             ],
             [
              0.4444444444444444,
              "#bd3786"
             ],
             [
              0.5555555555555556,
              "#d8576b"
             ],
             [
              0.6666666666666666,
              "#ed7953"
             ],
             [
              0.7777777777777778,
              "#fb9f3a"
             ],
             [
              0.8888888888888888,
              "#fdca26"
             ],
             [
              1,
              "#f0f921"
             ]
            ],
            "type": "contour"
           }
          ],
          "contourcarpet": [
           {
            "colorbar": {
             "outlinewidth": 0,
             "ticks": ""
            },
            "type": "contourcarpet"
           }
          ],
          "heatmap": [
           {
            "colorbar": {
             "outlinewidth": 0,
             "ticks": ""
            },
            "colorscale": [
             [
              0,
              "#0d0887"
             ],
             [
              0.1111111111111111,
              "#46039f"
             ],
             [
              0.2222222222222222,
              "#7201a8"
             ],
             [
              0.3333333333333333,
              "#9c179e"
             ],
             [
              0.4444444444444444,
              "#bd3786"
             ],
             [
              0.5555555555555556,
              "#d8576b"
             ],
             [
              0.6666666666666666,
              "#ed7953"
             ],
             [
              0.7777777777777778,
              "#fb9f3a"
             ],
             [
              0.8888888888888888,
              "#fdca26"
             ],
             [
              1,
              "#f0f921"
             ]
            ],
            "type": "heatmap"
           }
          ],
          "heatmapgl": [
           {
            "colorbar": {
             "outlinewidth": 0,
             "ticks": ""
            },
            "colorscale": [
             [
              0,
              "#0d0887"
             ],
             [
              0.1111111111111111,
              "#46039f"
             ],
             [
              0.2222222222222222,
              "#7201a8"
             ],
             [
              0.3333333333333333,
              "#9c179e"
             ],
             [
              0.4444444444444444,
              "#bd3786"
             ],
             [
              0.5555555555555556,
              "#d8576b"
             ],
             [
              0.6666666666666666,
              "#ed7953"
             ],
             [
              0.7777777777777778,
              "#fb9f3a"
             ],
             [
              0.8888888888888888,
              "#fdca26"
             ],
             [
              1,
              "#f0f921"
             ]
            ],
            "type": "heatmapgl"
           }
          ],
          "histogram": [
           {
            "marker": {
             "pattern": {
              "fillmode": "overlay",
              "size": 10,
              "solidity": 0.2
             }
            },
            "type": "histogram"
           }
          ],
          "histogram2d": [
           {
            "colorbar": {
             "outlinewidth": 0,
             "ticks": ""
            },
            "colorscale": [
             [
              0,
              "#0d0887"
             ],
             [
              0.1111111111111111,
              "#46039f"
             ],
             [
              0.2222222222222222,
              "#7201a8"
             ],
             [
              0.3333333333333333,
              "#9c179e"
             ],
             [
              0.4444444444444444,
              "#bd3786"
             ],
             [
              0.5555555555555556,
              "#d8576b"
             ],
             [
              0.6666666666666666,
              "#ed7953"
             ],
             [
              0.7777777777777778,
              "#fb9f3a"
             ],
             [
              0.8888888888888888,
              "#fdca26"
             ],
             [
              1,
              "#f0f921"
             ]
            ],
            "type": "histogram2d"
           }
          ],
          "histogram2dcontour": [
           {
            "colorbar": {
             "outlinewidth": 0,
             "ticks": ""
            },
            "colorscale": [
             [
              0,
              "#0d0887"
             ],
             [
              0.1111111111111111,
              "#46039f"
             ],
             [
              0.2222222222222222,
              "#7201a8"
             ],
             [
              0.3333333333333333,
              "#9c179e"
             ],
             [
              0.4444444444444444,
              "#bd3786"
             ],
             [
              0.5555555555555556,
              "#d8576b"
             ],
             [
              0.6666666666666666,
              "#ed7953"
             ],
             [
              0.7777777777777778,
              "#fb9f3a"
             ],
             [
              0.8888888888888888,
              "#fdca26"
             ],
             [
              1,
              "#f0f921"
             ]
            ],
            "type": "histogram2dcontour"
           }
          ],
          "mesh3d": [
           {
            "colorbar": {
             "outlinewidth": 0,
             "ticks": ""
            },
            "type": "mesh3d"
           }
          ],
          "parcoords": [
           {
            "line": {
             "colorbar": {
              "outlinewidth": 0,
              "ticks": ""
             }
            },
            "type": "parcoords"
           }
          ],
          "pie": [
           {
            "automargin": true,
            "type": "pie"
           }
          ],
          "scatter": [
           {
            "fillpattern": {
             "fillmode": "overlay",
             "size": 10,
             "solidity": 0.2
            },
            "type": "scatter"
           }
          ],
          "scatter3d": [
           {
            "line": {
             "colorbar": {
              "outlinewidth": 0,
              "ticks": ""
             }
            },
            "marker": {
             "colorbar": {
              "outlinewidth": 0,
              "ticks": ""
             }
            },
            "type": "scatter3d"
           }
          ],
          "scattercarpet": [
           {
            "marker": {
             "colorbar": {
              "outlinewidth": 0,
              "ticks": ""
             }
            },
            "type": "scattercarpet"
           }
          ],
          "scattergeo": [
           {
            "marker": {
             "colorbar": {
              "outlinewidth": 0,
              "ticks": ""
             }
            },
            "type": "scattergeo"
           }
          ],
          "scattergl": [
           {
            "marker": {
             "colorbar": {
              "outlinewidth": 0,
              "ticks": ""
             }
            },
            "type": "scattergl"
           }
          ],
          "scattermapbox": [
           {
            "marker": {
             "colorbar": {
              "outlinewidth": 0,
              "ticks": ""
             }
            },
            "type": "scattermapbox"
           }
          ],
          "scatterpolar": [
           {
            "marker": {
             "colorbar": {
              "outlinewidth": 0,
              "ticks": ""
             }
            },
            "type": "scatterpolar"
           }
          ],
          "scatterpolargl": [
           {
            "marker": {
             "colorbar": {
              "outlinewidth": 0,
              "ticks": ""
             }
            },
            "type": "scatterpolargl"
           }
          ],
          "scatterternary": [
           {
            "marker": {
             "colorbar": {
              "outlinewidth": 0,
              "ticks": ""
             }
            },
            "type": "scatterternary"
           }
          ],
          "surface": [
           {
            "colorbar": {
             "outlinewidth": 0,
             "ticks": ""
            },
            "colorscale": [
             [
              0,
              "#0d0887"
             ],
             [
              0.1111111111111111,
              "#46039f"
             ],
             [
              0.2222222222222222,
              "#7201a8"
             ],
             [
              0.3333333333333333,
              "#9c179e"
             ],
             [
              0.4444444444444444,
              "#bd3786"
             ],
             [
              0.5555555555555556,
              "#d8576b"
             ],
             [
              0.6666666666666666,
              "#ed7953"
             ],
             [
              0.7777777777777778,
              "#fb9f3a"
             ],
             [
              0.8888888888888888,
              "#fdca26"
             ],
             [
              1,
              "#f0f921"
             ]
            ],
            "type": "surface"
           }
          ],
          "table": [
           {
            "cells": {
             "fill": {
              "color": "#EBF0F8"
             },
             "line": {
              "color": "white"
             }
            },
            "header": {
             "fill": {
              "color": "#C8D4E3"
             },
             "line": {
              "color": "white"
             }
            },
            "type": "table"
           }
          ]
         },
         "layout": {
          "annotationdefaults": {
           "arrowcolor": "#2a3f5f",
           "arrowhead": 0,
           "arrowwidth": 1
          },
          "autotypenumbers": "strict",
          "coloraxis": {
           "colorbar": {
            "outlinewidth": 0,
            "ticks": ""
           }
          },
          "colorscale": {
           "diverging": [
            [
             0,
             "#8e0152"
            ],
            [
             0.1,
             "#c51b7d"
            ],
            [
             0.2,
             "#de77ae"
            ],
            [
             0.3,
             "#f1b6da"
            ],
            [
             0.4,
             "#fde0ef"
            ],
            [
             0.5,
             "#f7f7f7"
            ],
            [
             0.6,
             "#e6f5d0"
            ],
            [
             0.7,
             "#b8e186"
            ],
            [
             0.8,
             "#7fbc41"
            ],
            [
             0.9,
             "#4d9221"
            ],
            [
             1,
             "#276419"
            ]
           ],
           "sequential": [
            [
             0,
             "#0d0887"
            ],
            [
             0.1111111111111111,
             "#46039f"
            ],
            [
             0.2222222222222222,
             "#7201a8"
            ],
            [
             0.3333333333333333,
             "#9c179e"
            ],
            [
             0.4444444444444444,
             "#bd3786"
            ],
            [
             0.5555555555555556,
             "#d8576b"
            ],
            [
             0.6666666666666666,
             "#ed7953"
            ],
            [
             0.7777777777777778,
             "#fb9f3a"
            ],
            [
             0.8888888888888888,
             "#fdca26"
            ],
            [
             1,
             "#f0f921"
            ]
           ],
           "sequentialminus": [
            [
             0,
             "#0d0887"
            ],
            [
             0.1111111111111111,
             "#46039f"
            ],
            [
             0.2222222222222222,
             "#7201a8"
            ],
            [
             0.3333333333333333,
             "#9c179e"
            ],
            [
             0.4444444444444444,
             "#bd3786"
            ],
            [
             0.5555555555555556,
             "#d8576b"
            ],
            [
             0.6666666666666666,
             "#ed7953"
            ],
            [
             0.7777777777777778,
             "#fb9f3a"
            ],
            [
             0.8888888888888888,
             "#fdca26"
            ],
            [
             1,
             "#f0f921"
            ]
           ]
          },
          "colorway": [
           "#636efa",
           "#EF553B",
           "#00cc96",
           "#ab63fa",
           "#FFA15A",
           "#19d3f3",
           "#FF6692",
           "#B6E880",
           "#FF97FF",
           "#FECB52"
          ],
          "font": {
           "color": "#2a3f5f"
          },
          "geo": {
           "bgcolor": "white",
           "lakecolor": "white",
           "landcolor": "#E5ECF6",
           "showlakes": true,
           "showland": true,
           "subunitcolor": "white"
          },
          "hoverlabel": {
           "align": "left"
          },
          "hovermode": "closest",
          "mapbox": {
           "style": "light"
          },
          "paper_bgcolor": "white",
          "plot_bgcolor": "#E5ECF6",
          "polar": {
           "angularaxis": {
            "gridcolor": "white",
            "linecolor": "white",
            "ticks": ""
           },
           "bgcolor": "#E5ECF6",
           "radialaxis": {
            "gridcolor": "white",
            "linecolor": "white",
            "ticks": ""
           }
          },
          "scene": {
           "xaxis": {
            "backgroundcolor": "#E5ECF6",
            "gridcolor": "white",
            "gridwidth": 2,
            "linecolor": "white",
            "showbackground": true,
            "ticks": "",
            "zerolinecolor": "white"
           },
           "yaxis": {
            "backgroundcolor": "#E5ECF6",
            "gridcolor": "white",
            "gridwidth": 2,
            "linecolor": "white",
            "showbackground": true,
            "ticks": "",
            "zerolinecolor": "white"
           },
           "zaxis": {
            "backgroundcolor": "#E5ECF6",
            "gridcolor": "white",
            "gridwidth": 2,
            "linecolor": "white",
            "showbackground": true,
            "ticks": "",
            "zerolinecolor": "white"
           }
          },
          "shapedefaults": {
           "line": {
            "color": "#2a3f5f"
           }
          },
          "ternary": {
           "aaxis": {
            "gridcolor": "white",
            "linecolor": "white",
            "ticks": ""
           },
           "baxis": {
            "gridcolor": "white",
            "linecolor": "white",
            "ticks": ""
           },
           "bgcolor": "#E5ECF6",
           "caxis": {
            "gridcolor": "white",
            "linecolor": "white",
            "ticks": ""
           }
          },
          "title": {
           "x": 0.05
          },
          "xaxis": {
           "automargin": true,
           "gridcolor": "white",
           "linecolor": "white",
           "ticks": "",
           "title": {
            "standoff": 15
           },
           "zerolinecolor": "white",
           "zerolinewidth": 2
          },
          "yaxis": {
           "automargin": true,
           "gridcolor": "white",
           "linecolor": "white",
           "ticks": "",
           "title": {
            "standoff": 15
           },
           "zerolinecolor": "white",
           "zerolinewidth": 2
          }
         }
        },
        "title": {
         "text": "Model Scores for Train & Validation Data"
        },
        "xaxis": {
         "title": {
          "text": "Models"
         }
        },
        "yaxis": {
         "title": {
          "text": "Score"
         }
        }
       }
      }
     },
     "metadata": {},
     "output_type": "display_data"
    }
   ],
   "source": [
    "#Create plot for scores for all team models\n",
    "import plotly.graph_objects as go\n",
    "\n",
    "models = [\"XGBoost\", \"Stacking Classifier\", \"Logistic Regression\", \"Random Forest\", \"Keras\", \"CatBoost\", \"LightGBM\", \"IsolationForest\", \"AdaBoost\"]\n",
    "\n",
    "plot = go.Figure(data=[\n",
    "    go.Bar(\n",
    "    name = \"Train Scores\",\n",
    "    x = models,\n",
    "    y = [0.947, 0.9774123242, 0.2893, 0.0071, 1, 0.978, 0.818, 0.8345188285, 0.520083682],\n",
    "    marker_color = 'forestgreen'\n",
    "), go.Bar(\n",
    "    name = \"Validation Scores\",\n",
    "    x = models,\n",
    "    y = [0.833, 0.8362989324, 0.262, 0.0063, 1, 0.838, 0.729, 0.8198367859, 0.5065913371],\n",
    "    marker_color = 'goldenrod'\n",
    ")]).update_layout(xaxis_title = \"Models\", yaxis_title = \"Score\", title = \"Model Scores for Train & Validation Data\")\n",
    "\n",
    "\n",
    "\n",
    "plot.show()\n"
   ]
  },
  {
   "cell_type": "code",
   "execution_count": null,
   "metadata": {},
   "outputs": [
    {
     "data": {
      "application/vnd.plotly.v1+json": {
       "config": {
        "plotlyServerURL": "https://plot.ly"
       },
       "data": [
        {
         "marker": {
          "color": "forestgreen"
         },
         "name": "Train Scores",
         "type": "bar",
         "x": [
          "XGBoost Feature Tuned<br>(Adaboost for feature<br>importance)",
          "XGBoost Feature Tuned<br>(XGBoost for feature<br>importance) + HyperTuned",
          "Stacking Classifier<br>Feature Tuned<br>(XGBoost for<br>feature importance)",
          "CatBoost Feature Tuned<br>(XGBoost for<br>feature importance)",
          "LightGBM Feature Tuned<br>(XGBoost for<br>feature importance)",
          "IsolationForest Feature Tuned<br>(XGBoost for<br>feature importance)",
          "IsolationForest Feature Tuned<br>(Adaboost for<br>feature importance)"
         ],
         "y": [
          0.707,
          0.978,
          0.9282742223,
          0.974,
          0.838,
          0.8564853556,
          0.8914225941422594
         ]
        },
        {
         "marker": {
          "color": "goldenrod"
         },
         "name": "Validation Scores",
         "type": "bar",
         "x": [
          "XGBoost Feature Tuned<br>(Adaboost for feature<br>importance)",
          "XGBoost Feature Tuned<br>(XGBoost for feature<br>importance) + HyperTuned",
          "Stacking Classifier<br>Feature Tuned<br>(XGBoost for<br>feature importance)",
          "CatBoost Feature Tuned<br>(XGBoost for<br>feature importance)",
          "LightGBM Feature Tuned<br>(XGBoost for<br>feature importance)",
          "IsolationForest Feature Tuned<br>(XGBoost for<br>feature importance)",
          "IsolationForest Feature Tuned<br>(Adaboost for<br>feature importance)"
         ],
         "y": [
          0.689,
          0.875,
          0.7959667853,
          0.845,
          0.77,
          0.8468298807,
          0.8857501569365976
         ]
        }
       ],
       "layout": {
        "template": {
         "data": {
          "bar": [
           {
            "error_x": {
             "color": "#2a3f5f"
            },
            "error_y": {
             "color": "#2a3f5f"
            },
            "marker": {
             "line": {
              "color": "#E5ECF6",
              "width": 0.5
             },
             "pattern": {
              "fillmode": "overlay",
              "size": 10,
              "solidity": 0.2
             }
            },
            "type": "bar"
           }
          ],
          "barpolar": [
           {
            "marker": {
             "line": {
              "color": "#E5ECF6",
              "width": 0.5
             },
             "pattern": {
              "fillmode": "overlay",
              "size": 10,
              "solidity": 0.2
             }
            },
            "type": "barpolar"
           }
          ],
          "carpet": [
           {
            "aaxis": {
             "endlinecolor": "#2a3f5f",
             "gridcolor": "white",
             "linecolor": "white",
             "minorgridcolor": "white",
             "startlinecolor": "#2a3f5f"
            },
            "baxis": {
             "endlinecolor": "#2a3f5f",
             "gridcolor": "white",
             "linecolor": "white",
             "minorgridcolor": "white",
             "startlinecolor": "#2a3f5f"
            },
            "type": "carpet"
           }
          ],
          "choropleth": [
           {
            "colorbar": {
             "outlinewidth": 0,
             "ticks": ""
            },
            "type": "choropleth"
           }
          ],
          "contour": [
           {
            "colorbar": {
             "outlinewidth": 0,
             "ticks": ""
            },
            "colorscale": [
             [
              0,
              "#0d0887"
             ],
             [
              0.1111111111111111,
              "#46039f"
             ],
             [
              0.2222222222222222,
              "#7201a8"
             ],
             [
              0.3333333333333333,
              "#9c179e"
             ],
             [
              0.4444444444444444,
              "#bd3786"
             ],
             [
              0.5555555555555556,
              "#d8576b"
             ],
             [
              0.6666666666666666,
              "#ed7953"
             ],
             [
              0.7777777777777778,
              "#fb9f3a"
             ],
             [
              0.8888888888888888,
              "#fdca26"
             ],
             [
              1,
              "#f0f921"
             ]
            ],
            "type": "contour"
           }
          ],
          "contourcarpet": [
           {
            "colorbar": {
             "outlinewidth": 0,
             "ticks": ""
            },
            "type": "contourcarpet"
           }
          ],
          "heatmap": [
           {
            "colorbar": {
             "outlinewidth": 0,
             "ticks": ""
            },
            "colorscale": [
             [
              0,
              "#0d0887"
             ],
             [
              0.1111111111111111,
              "#46039f"
             ],
             [
              0.2222222222222222,
              "#7201a8"
             ],
             [
              0.3333333333333333,
              "#9c179e"
             ],
             [
              0.4444444444444444,
              "#bd3786"
             ],
             [
              0.5555555555555556,
              "#d8576b"
             ],
             [
              0.6666666666666666,
              "#ed7953"
             ],
             [
              0.7777777777777778,
              "#fb9f3a"
             ],
             [
              0.8888888888888888,
              "#fdca26"
             ],
             [
              1,
              "#f0f921"
             ]
            ],
            "type": "heatmap"
           }
          ],
          "heatmapgl": [
           {
            "colorbar": {
             "outlinewidth": 0,
             "ticks": ""
            },
            "colorscale": [
             [
              0,
              "#0d0887"
             ],
             [
              0.1111111111111111,
              "#46039f"
             ],
             [
              0.2222222222222222,
              "#7201a8"
             ],
             [
              0.3333333333333333,
              "#9c179e"
             ],
             [
              0.4444444444444444,
              "#bd3786"
             ],
             [
              0.5555555555555556,
              "#d8576b"
             ],
             [
              0.6666666666666666,
              "#ed7953"
             ],
             [
              0.7777777777777778,
              "#fb9f3a"
             ],
             [
              0.8888888888888888,
              "#fdca26"
             ],
             [
              1,
              "#f0f921"
             ]
            ],
            "type": "heatmapgl"
           }
          ],
          "histogram": [
           {
            "marker": {
             "pattern": {
              "fillmode": "overlay",
              "size": 10,
              "solidity": 0.2
             }
            },
            "type": "histogram"
           }
          ],
          "histogram2d": [
           {
            "colorbar": {
             "outlinewidth": 0,
             "ticks": ""
            },
            "colorscale": [
             [
              0,
              "#0d0887"
             ],
             [
              0.1111111111111111,
              "#46039f"
             ],
             [
              0.2222222222222222,
              "#7201a8"
             ],
             [
              0.3333333333333333,
              "#9c179e"
             ],
             [
              0.4444444444444444,
              "#bd3786"
             ],
             [
              0.5555555555555556,
              "#d8576b"
             ],
             [
              0.6666666666666666,
              "#ed7953"
             ],
             [
              0.7777777777777778,
              "#fb9f3a"
             ],
             [
              0.8888888888888888,
              "#fdca26"
             ],
             [
              1,
              "#f0f921"
             ]
            ],
            "type": "histogram2d"
           }
          ],
          "histogram2dcontour": [
           {
            "colorbar": {
             "outlinewidth": 0,
             "ticks": ""
            },
            "colorscale": [
             [
              0,
              "#0d0887"
             ],
             [
              0.1111111111111111,
              "#46039f"
             ],
             [
              0.2222222222222222,
              "#7201a8"
             ],
             [
              0.3333333333333333,
              "#9c179e"
             ],
             [
              0.4444444444444444,
              "#bd3786"
             ],
             [
              0.5555555555555556,
              "#d8576b"
             ],
             [
              0.6666666666666666,
              "#ed7953"
             ],
             [
              0.7777777777777778,
              "#fb9f3a"
             ],
             [
              0.8888888888888888,
              "#fdca26"
             ],
             [
              1,
              "#f0f921"
             ]
            ],
            "type": "histogram2dcontour"
           }
          ],
          "mesh3d": [
           {
            "colorbar": {
             "outlinewidth": 0,
             "ticks": ""
            },
            "type": "mesh3d"
           }
          ],
          "parcoords": [
           {
            "line": {
             "colorbar": {
              "outlinewidth": 0,
              "ticks": ""
             }
            },
            "type": "parcoords"
           }
          ],
          "pie": [
           {
            "automargin": true,
            "type": "pie"
           }
          ],
          "scatter": [
           {
            "fillpattern": {
             "fillmode": "overlay",
             "size": 10,
             "solidity": 0.2
            },
            "type": "scatter"
           }
          ],
          "scatter3d": [
           {
            "line": {
             "colorbar": {
              "outlinewidth": 0,
              "ticks": ""
             }
            },
            "marker": {
             "colorbar": {
              "outlinewidth": 0,
              "ticks": ""
             }
            },
            "type": "scatter3d"
           }
          ],
          "scattercarpet": [
           {
            "marker": {
             "colorbar": {
              "outlinewidth": 0,
              "ticks": ""
             }
            },
            "type": "scattercarpet"
           }
          ],
          "scattergeo": [
           {
            "marker": {
             "colorbar": {
              "outlinewidth": 0,
              "ticks": ""
             }
            },
            "type": "scattergeo"
           }
          ],
          "scattergl": [
           {
            "marker": {
             "colorbar": {
              "outlinewidth": 0,
              "ticks": ""
             }
            },
            "type": "scattergl"
           }
          ],
          "scattermapbox": [
           {
            "marker": {
             "colorbar": {
              "outlinewidth": 0,
              "ticks": ""
             }
            },
            "type": "scattermapbox"
           }
          ],
          "scatterpolar": [
           {
            "marker": {
             "colorbar": {
              "outlinewidth": 0,
              "ticks": ""
             }
            },
            "type": "scatterpolar"
           }
          ],
          "scatterpolargl": [
           {
            "marker": {
             "colorbar": {
              "outlinewidth": 0,
              "ticks": ""
             }
            },
            "type": "scatterpolargl"
           }
          ],
          "scatterternary": [
           {
            "marker": {
             "colorbar": {
              "outlinewidth": 0,
              "ticks": ""
             }
            },
            "type": "scatterternary"
           }
          ],
          "surface": [
           {
            "colorbar": {
             "outlinewidth": 0,
             "ticks": ""
            },
            "colorscale": [
             [
              0,
              "#0d0887"
             ],
             [
              0.1111111111111111,
              "#46039f"
             ],
             [
              0.2222222222222222,
              "#7201a8"
             ],
             [
              0.3333333333333333,
              "#9c179e"
             ],
             [
              0.4444444444444444,
              "#bd3786"
             ],
             [
              0.5555555555555556,
              "#d8576b"
             ],
             [
              0.6666666666666666,
              "#ed7953"
             ],
             [
              0.7777777777777778,
              "#fb9f3a"
             ],
             [
              0.8888888888888888,
              "#fdca26"
             ],
             [
              1,
              "#f0f921"
             ]
            ],
            "type": "surface"
           }
          ],
          "table": [
           {
            "cells": {
             "fill": {
              "color": "#EBF0F8"
             },
             "line": {
              "color": "white"
             }
            },
            "header": {
             "fill": {
              "color": "#C8D4E3"
             },
             "line": {
              "color": "white"
             }
            },
            "type": "table"
           }
          ]
         },
         "layout": {
          "annotationdefaults": {
           "arrowcolor": "#2a3f5f",
           "arrowhead": 0,
           "arrowwidth": 1
          },
          "autotypenumbers": "strict",
          "coloraxis": {
           "colorbar": {
            "outlinewidth": 0,
            "ticks": ""
           }
          },
          "colorscale": {
           "diverging": [
            [
             0,
             "#8e0152"
            ],
            [
             0.1,
             "#c51b7d"
            ],
            [
             0.2,
             "#de77ae"
            ],
            [
             0.3,
             "#f1b6da"
            ],
            [
             0.4,
             "#fde0ef"
            ],
            [
             0.5,
             "#f7f7f7"
            ],
            [
             0.6,
             "#e6f5d0"
            ],
            [
             0.7,
             "#b8e186"
            ],
            [
             0.8,
             "#7fbc41"
            ],
            [
             0.9,
             "#4d9221"
            ],
            [
             1,
             "#276419"
            ]
           ],
           "sequential": [
            [
             0,
             "#0d0887"
            ],
            [
             0.1111111111111111,
             "#46039f"
            ],
            [
             0.2222222222222222,
             "#7201a8"
            ],
            [
             0.3333333333333333,
             "#9c179e"
            ],
            [
             0.4444444444444444,
             "#bd3786"
            ],
            [
             0.5555555555555556,
             "#d8576b"
            ],
            [
             0.6666666666666666,
             "#ed7953"
            ],
            [
             0.7777777777777778,
             "#fb9f3a"
            ],
            [
             0.8888888888888888,
             "#fdca26"
            ],
            [
             1,
             "#f0f921"
            ]
           ],
           "sequentialminus": [
            [
             0,
             "#0d0887"
            ],
            [
             0.1111111111111111,
             "#46039f"
            ],
            [
             0.2222222222222222,
             "#7201a8"
            ],
            [
             0.3333333333333333,
             "#9c179e"
            ],
            [
             0.4444444444444444,
             "#bd3786"
            ],
            [
             0.5555555555555556,
             "#d8576b"
            ],
            [
             0.6666666666666666,
             "#ed7953"
            ],
            [
             0.7777777777777778,
             "#fb9f3a"
            ],
            [
             0.8888888888888888,
             "#fdca26"
            ],
            [
             1,
             "#f0f921"
            ]
           ]
          },
          "colorway": [
           "#636efa",
           "#EF553B",
           "#00cc96",
           "#ab63fa",
           "#FFA15A",
           "#19d3f3",
           "#FF6692",
           "#B6E880",
           "#FF97FF",
           "#FECB52"
          ],
          "font": {
           "color": "#2a3f5f"
          },
          "geo": {
           "bgcolor": "white",
           "lakecolor": "white",
           "landcolor": "#E5ECF6",
           "showlakes": true,
           "showland": true,
           "subunitcolor": "white"
          },
          "hoverlabel": {
           "align": "left"
          },
          "hovermode": "closest",
          "mapbox": {
           "style": "light"
          },
          "paper_bgcolor": "white",
          "plot_bgcolor": "#E5ECF6",
          "polar": {
           "angularaxis": {
            "gridcolor": "white",
            "linecolor": "white",
            "ticks": ""
           },
           "bgcolor": "#E5ECF6",
           "radialaxis": {
            "gridcolor": "white",
            "linecolor": "white",
            "ticks": ""
           }
          },
          "scene": {
           "xaxis": {
            "backgroundcolor": "#E5ECF6",
            "gridcolor": "white",
            "gridwidth": 2,
            "linecolor": "white",
            "showbackground": true,
            "ticks": "",
            "zerolinecolor": "white"
           },
           "yaxis": {
            "backgroundcolor": "#E5ECF6",
            "gridcolor": "white",
            "gridwidth": 2,
            "linecolor": "white",
            "showbackground": true,
            "ticks": "",
            "zerolinecolor": "white"
           },
           "zaxis": {
            "backgroundcolor": "#E5ECF6",
            "gridcolor": "white",
            "gridwidth": 2,
            "linecolor": "white",
            "showbackground": true,
            "ticks": "",
            "zerolinecolor": "white"
           }
          },
          "shapedefaults": {
           "line": {
            "color": "#2a3f5f"
           }
          },
          "ternary": {
           "aaxis": {
            "gridcolor": "white",
            "linecolor": "white",
            "ticks": ""
           },
           "baxis": {
            "gridcolor": "white",
            "linecolor": "white",
            "ticks": ""
           },
           "bgcolor": "#E5ECF6",
           "caxis": {
            "gridcolor": "white",
            "linecolor": "white",
            "ticks": ""
           }
          },
          "title": {
           "x": 0.05
          },
          "xaxis": {
           "automargin": true,
           "gridcolor": "white",
           "linecolor": "white",
           "ticks": "",
           "title": {
            "standoff": 15
           },
           "zerolinecolor": "white",
           "zerolinewidth": 2
          },
          "yaxis": {
           "automargin": true,
           "gridcolor": "white",
           "linecolor": "white",
           "ticks": "",
           "title": {
            "standoff": 15
           },
           "zerolinecolor": "white",
           "zerolinewidth": 2
          }
         }
        },
        "title": {
         "text": "Optimized Model Scores for Train & Validation Data"
        },
        "width": 1735,
        "xaxis": {
         "title": {
          "text": "Models"
         }
        },
        "yaxis": {
         "title": {
          "text": "Score"
         }
        }
       }
      }
     },
     "metadata": {},
     "output_type": "display_data"
    }
   ],
   "source": [
    "# Create plot for scores of all models for feature tuned and hyperparameter tuned\n",
    "import plotly.graph_objects as go\n",
    "\n",
    "models = [\"XGBoost Feature Tuned<br>(Adaboost for feature<br>importance)\",\n",
    "          \"XGBoost Feature Tuned<br>(XGBoost for feature<br>importance) + HyperTuned\",\n",
    "          \"Stacking Classifier<br>Feature Tuned<br>(XGBoost for<br>feature importance)\",\n",
    "          \"CatBoost Feature Tuned<br>(XGBoost for<br>feature importance)\",\n",
    "          \"LightGBM Feature Tuned<br>(XGBoost for<br>feature importance)\",\n",
    "          \"IsolationForest Feature Tuned<br>(XGBoost for<br>feature importance)\",\n",
    "          \"IsolationForest Feature Tuned<br>(Adaboost for<br>feature importance)\",\n",
    "          ]\n",
    "\n",
    "plot = go.Figure(data=[\n",
    "    go.Bar(\n",
    "    name = \"Train Scores\",\n",
    "    x = models,\n",
    "    y = [0.707, 0.978, 0.9282742223, 0.974, 0.838, 0.8564853556, 0.8914225941422594],\n",
    "    marker_color = 'forestgreen'\n",
    "), go.Bar(\n",
    "    name = \"Validation Scores\",\n",
    "    x = models,\n",
    "    y = [0.689, 0.875, 0.7959667853, 0.845, 0.77, 0.8468298807, 0.8857501569365976],\n",
    "    marker_color = 'goldenrod'\n",
    ")]).update_layout(xaxis_title = \"Models\", yaxis_title = \"Score\", title = \"Optimized Model Scores for Train & Validation Data\", width=1735)\n",
    "\n",
    "\n",
    "\n",
    "plot.show()"
   ]
  },
  {
   "cell_type": "code",
   "execution_count": null,
   "metadata": {},
   "outputs": [
    {
     "data": {
      "application/vnd.plotly.v1+json": {
       "config": {
        "plotlyServerURL": "https://plot.ly"
       },
       "data": [
        {
         "marker": {
          "color": "forestgreen"
         },
         "name": "Train Scores",
         "type": "bar",
         "x": [
          "XGBoost Feature Tuned<br>(Adaboost for feature<br>importance)",
          "XGBoost Feature Tuned<br>(XGBoost for feature<br>importance) + HyperTuned",
          "Stacking Classifier<br>Feature Tuned<br>(XGBoost for<br>feature importance)",
          "CatBoost Feature Tuned<br>(XGBoost for<br>feature importance)",
          "LightGBM Feature Tuned<br>(XGBoost for<br>feature importance)",
          "IsolationForest Feature Tuned<br>(XGBoost for<br>feature importance)",
          "IsolationForest Feature Tuned<br>(Adaboost for<br>feature importance)"
         ],
         "y": [
          0.707,
          0.978,
          0.9282742223,
          0.974,
          0.838,
          0.8564853556,
          0.8914225941422594
         ]
        },
        {
         "marker": {
          "color": "goldenrod"
         },
         "name": "Validation Scores",
         "type": "bar",
         "x": [
          "XGBoost Feature Tuned<br>(Adaboost for feature<br>importance)",
          "XGBoost Feature Tuned<br>(XGBoost for feature<br>importance) + HyperTuned",
          "Stacking Classifier<br>Feature Tuned<br>(XGBoost for<br>feature importance)",
          "CatBoost Feature Tuned<br>(XGBoost for<br>feature importance)",
          "LightGBM Feature Tuned<br>(XGBoost for<br>feature importance)",
          "IsolationForest Feature Tuned<br>(XGBoost for<br>feature importance)",
          "IsolationForest Feature Tuned<br>(Adaboost for<br>feature importance)"
         ],
         "y": [
          0.689,
          0.875,
          0.7959667853,
          0.845,
          0.77,
          0.8468298807,
          0.8857501569365976
         ]
        },
        {
         "marker": {
          "color": "indianred"
         },
         "name": "Test Scores",
         "type": "bar",
         "x": [
          "XGBoost Feature Tuned<br>(Adaboost for feature<br>importance)",
          "XGBoost Feature Tuned<br>(XGBoost for feature<br>importance) + HyperTuned",
          "Stacking Classifier<br>Feature Tuned<br>(XGBoost for<br>feature importance)",
          "CatBoost Feature Tuned<br>(XGBoost for<br>feature importance)",
          "LightGBM Feature Tuned<br>(XGBoost for<br>feature importance)",
          "IsolationForest Feature Tuned<br>(XGBoost for<br>feature importance)",
          "IsolationForest Feature Tuned<br>(Adaboost for<br>feature importance)"
         ],
         "y": [
          0.69,
          0.18,
          0.71,
          0.499,
          0.312,
          0.8005295675,
          0.8923212709620476
         ]
        }
       ],
       "layout": {
        "template": {
         "data": {
          "bar": [
           {
            "error_x": {
             "color": "#2a3f5f"
            },
            "error_y": {
             "color": "#2a3f5f"
            },
            "marker": {
             "line": {
              "color": "#E5ECF6",
              "width": 0.5
             },
             "pattern": {
              "fillmode": "overlay",
              "size": 10,
              "solidity": 0.2
             }
            },
            "type": "bar"
           }
          ],
          "barpolar": [
           {
            "marker": {
             "line": {
              "color": "#E5ECF6",
              "width": 0.5
             },
             "pattern": {
              "fillmode": "overlay",
              "size": 10,
              "solidity": 0.2
             }
            },
            "type": "barpolar"
           }
          ],
          "carpet": [
           {
            "aaxis": {
             "endlinecolor": "#2a3f5f",
             "gridcolor": "white",
             "linecolor": "white",
             "minorgridcolor": "white",
             "startlinecolor": "#2a3f5f"
            },
            "baxis": {
             "endlinecolor": "#2a3f5f",
             "gridcolor": "white",
             "linecolor": "white",
             "minorgridcolor": "white",
             "startlinecolor": "#2a3f5f"
            },
            "type": "carpet"
           }
          ],
          "choropleth": [
           {
            "colorbar": {
             "outlinewidth": 0,
             "ticks": ""
            },
            "type": "choropleth"
           }
          ],
          "contour": [
           {
            "colorbar": {
             "outlinewidth": 0,
             "ticks": ""
            },
            "colorscale": [
             [
              0,
              "#0d0887"
             ],
             [
              0.1111111111111111,
              "#46039f"
             ],
             [
              0.2222222222222222,
              "#7201a8"
             ],
             [
              0.3333333333333333,
              "#9c179e"
             ],
             [
              0.4444444444444444,
              "#bd3786"
             ],
             [
              0.5555555555555556,
              "#d8576b"
             ],
             [
              0.6666666666666666,
              "#ed7953"
             ],
             [
              0.7777777777777778,
              "#fb9f3a"
             ],
             [
              0.8888888888888888,
              "#fdca26"
             ],
             [
              1,
              "#f0f921"
             ]
            ],
            "type": "contour"
           }
          ],
          "contourcarpet": [
           {
            "colorbar": {
             "outlinewidth": 0,
             "ticks": ""
            },
            "type": "contourcarpet"
           }
          ],
          "heatmap": [
           {
            "colorbar": {
             "outlinewidth": 0,
             "ticks": ""
            },
            "colorscale": [
             [
              0,
              "#0d0887"
             ],
             [
              0.1111111111111111,
              "#46039f"
             ],
             [
              0.2222222222222222,
              "#7201a8"
             ],
             [
              0.3333333333333333,
              "#9c179e"
             ],
             [
              0.4444444444444444,
              "#bd3786"
             ],
             [
              0.5555555555555556,
              "#d8576b"
             ],
             [
              0.6666666666666666,
              "#ed7953"
             ],
             [
              0.7777777777777778,
              "#fb9f3a"
             ],
             [
              0.8888888888888888,
              "#fdca26"
             ],
             [
              1,
              "#f0f921"
             ]
            ],
            "type": "heatmap"
           }
          ],
          "heatmapgl": [
           {
            "colorbar": {
             "outlinewidth": 0,
             "ticks": ""
            },
            "colorscale": [
             [
              0,
              "#0d0887"
             ],
             [
              0.1111111111111111,
              "#46039f"
             ],
             [
              0.2222222222222222,
              "#7201a8"
             ],
             [
              0.3333333333333333,
              "#9c179e"
             ],
             [
              0.4444444444444444,
              "#bd3786"
             ],
             [
              0.5555555555555556,
              "#d8576b"
             ],
             [
              0.6666666666666666,
              "#ed7953"
             ],
             [
              0.7777777777777778,
              "#fb9f3a"
             ],
             [
              0.8888888888888888,
              "#fdca26"
             ],
             [
              1,
              "#f0f921"
             ]
            ],
            "type": "heatmapgl"
           }
          ],
          "histogram": [
           {
            "marker": {
             "pattern": {
              "fillmode": "overlay",
              "size": 10,
              "solidity": 0.2
             }
            },
            "type": "histogram"
           }
          ],
          "histogram2d": [
           {
            "colorbar": {
             "outlinewidth": 0,
             "ticks": ""
            },
            "colorscale": [
             [
              0,
              "#0d0887"
             ],
             [
              0.1111111111111111,
              "#46039f"
             ],
             [
              0.2222222222222222,
              "#7201a8"
             ],
             [
              0.3333333333333333,
              "#9c179e"
             ],
             [
              0.4444444444444444,
              "#bd3786"
             ],
             [
              0.5555555555555556,
              "#d8576b"
             ],
             [
              0.6666666666666666,
              "#ed7953"
             ],
             [
              0.7777777777777778,
              "#fb9f3a"
             ],
             [
              0.8888888888888888,
              "#fdca26"
             ],
             [
              1,
              "#f0f921"
             ]
            ],
            "type": "histogram2d"
           }
          ],
          "histogram2dcontour": [
           {
            "colorbar": {
             "outlinewidth": 0,
             "ticks": ""
            },
            "colorscale": [
             [
              0,
              "#0d0887"
             ],
             [
              0.1111111111111111,
              "#46039f"
             ],
             [
              0.2222222222222222,
              "#7201a8"
             ],
             [
              0.3333333333333333,
              "#9c179e"
             ],
             [
              0.4444444444444444,
              "#bd3786"
             ],
             [
              0.5555555555555556,
              "#d8576b"
             ],
             [
              0.6666666666666666,
              "#ed7953"
             ],
             [
              0.7777777777777778,
              "#fb9f3a"
             ],
             [
              0.8888888888888888,
              "#fdca26"
             ],
             [
              1,
              "#f0f921"
             ]
            ],
            "type": "histogram2dcontour"
           }
          ],
          "mesh3d": [
           {
            "colorbar": {
             "outlinewidth": 0,
             "ticks": ""
            },
            "type": "mesh3d"
           }
          ],
          "parcoords": [
           {
            "line": {
             "colorbar": {
              "outlinewidth": 0,
              "ticks": ""
             }
            },
            "type": "parcoords"
           }
          ],
          "pie": [
           {
            "automargin": true,
            "type": "pie"
           }
          ],
          "scatter": [
           {
            "fillpattern": {
             "fillmode": "overlay",
             "size": 10,
             "solidity": 0.2
            },
            "type": "scatter"
           }
          ],
          "scatter3d": [
           {
            "line": {
             "colorbar": {
              "outlinewidth": 0,
              "ticks": ""
             }
            },
            "marker": {
             "colorbar": {
              "outlinewidth": 0,
              "ticks": ""
             }
            },
            "type": "scatter3d"
           }
          ],
          "scattercarpet": [
           {
            "marker": {
             "colorbar": {
              "outlinewidth": 0,
              "ticks": ""
             }
            },
            "type": "scattercarpet"
           }
          ],
          "scattergeo": [
           {
            "marker": {
             "colorbar": {
              "outlinewidth": 0,
              "ticks": ""
             }
            },
            "type": "scattergeo"
           }
          ],
          "scattergl": [
           {
            "marker": {
             "colorbar": {
              "outlinewidth": 0,
              "ticks": ""
             }
            },
            "type": "scattergl"
           }
          ],
          "scattermapbox": [
           {
            "marker": {
             "colorbar": {
              "outlinewidth": 0,
              "ticks": ""
             }
            },
            "type": "scattermapbox"
           }
          ],
          "scatterpolar": [
           {
            "marker": {
             "colorbar": {
              "outlinewidth": 0,
              "ticks": ""
             }
            },
            "type": "scatterpolar"
           }
          ],
          "scatterpolargl": [
           {
            "marker": {
             "colorbar": {
              "outlinewidth": 0,
              "ticks": ""
             }
            },
            "type": "scatterpolargl"
           }
          ],
          "scatterternary": [
           {
            "marker": {
             "colorbar": {
              "outlinewidth": 0,
              "ticks": ""
             }
            },
            "type": "scatterternary"
           }
          ],
          "surface": [
           {
            "colorbar": {
             "outlinewidth": 0,
             "ticks": ""
            },
            "colorscale": [
             [
              0,
              "#0d0887"
             ],
             [
              0.1111111111111111,
              "#46039f"
             ],
             [
              0.2222222222222222,
              "#7201a8"
             ],
             [
              0.3333333333333333,
              "#9c179e"
             ],
             [
              0.4444444444444444,
              "#bd3786"
             ],
             [
              0.5555555555555556,
              "#d8576b"
             ],
             [
              0.6666666666666666,
              "#ed7953"
             ],
             [
              0.7777777777777778,
              "#fb9f3a"
             ],
             [
              0.8888888888888888,
              "#fdca26"
             ],
             [
              1,
              "#f0f921"
             ]
            ],
            "type": "surface"
           }
          ],
          "table": [
           {
            "cells": {
             "fill": {
              "color": "#EBF0F8"
             },
             "line": {
              "color": "white"
             }
            },
            "header": {
             "fill": {
              "color": "#C8D4E3"
             },
             "line": {
              "color": "white"
             }
            },
            "type": "table"
           }
          ]
         },
         "layout": {
          "annotationdefaults": {
           "arrowcolor": "#2a3f5f",
           "arrowhead": 0,
           "arrowwidth": 1
          },
          "autotypenumbers": "strict",
          "coloraxis": {
           "colorbar": {
            "outlinewidth": 0,
            "ticks": ""
           }
          },
          "colorscale": {
           "diverging": [
            [
             0,
             "#8e0152"
            ],
            [
             0.1,
             "#c51b7d"
            ],
            [
             0.2,
             "#de77ae"
            ],
            [
             0.3,
             "#f1b6da"
            ],
            [
             0.4,
             "#fde0ef"
            ],
            [
             0.5,
             "#f7f7f7"
            ],
            [
             0.6,
             "#e6f5d0"
            ],
            [
             0.7,
             "#b8e186"
            ],
            [
             0.8,
             "#7fbc41"
            ],
            [
             0.9,
             "#4d9221"
            ],
            [
             1,
             "#276419"
            ]
           ],
           "sequential": [
            [
             0,
             "#0d0887"
            ],
            [
             0.1111111111111111,
             "#46039f"
            ],
            [
             0.2222222222222222,
             "#7201a8"
            ],
            [
             0.3333333333333333,
             "#9c179e"
            ],
            [
             0.4444444444444444,
             "#bd3786"
            ],
            [
             0.5555555555555556,
             "#d8576b"
            ],
            [
             0.6666666666666666,
             "#ed7953"
            ],
            [
             0.7777777777777778,
             "#fb9f3a"
            ],
            [
             0.8888888888888888,
             "#fdca26"
            ],
            [
             1,
             "#f0f921"
            ]
           ],
           "sequentialminus": [
            [
             0,
             "#0d0887"
            ],
            [
             0.1111111111111111,
             "#46039f"
            ],
            [
             0.2222222222222222,
             "#7201a8"
            ],
            [
             0.3333333333333333,
             "#9c179e"
            ],
            [
             0.4444444444444444,
             "#bd3786"
            ],
            [
             0.5555555555555556,
             "#d8576b"
            ],
            [
             0.6666666666666666,
             "#ed7953"
            ],
            [
             0.7777777777777778,
             "#fb9f3a"
            ],
            [
             0.8888888888888888,
             "#fdca26"
            ],
            [
             1,
             "#f0f921"
            ]
           ]
          },
          "colorway": [
           "#636efa",
           "#EF553B",
           "#00cc96",
           "#ab63fa",
           "#FFA15A",
           "#19d3f3",
           "#FF6692",
           "#B6E880",
           "#FF97FF",
           "#FECB52"
          ],
          "font": {
           "color": "#2a3f5f"
          },
          "geo": {
           "bgcolor": "white",
           "lakecolor": "white",
           "landcolor": "#E5ECF6",
           "showlakes": true,
           "showland": true,
           "subunitcolor": "white"
          },
          "hoverlabel": {
           "align": "left"
          },
          "hovermode": "closest",
          "mapbox": {
           "style": "light"
          },
          "paper_bgcolor": "white",
          "plot_bgcolor": "#E5ECF6",
          "polar": {
           "angularaxis": {
            "gridcolor": "white",
            "linecolor": "white",
            "ticks": ""
           },
           "bgcolor": "#E5ECF6",
           "radialaxis": {
            "gridcolor": "white",
            "linecolor": "white",
            "ticks": ""
           }
          },
          "scene": {
           "xaxis": {
            "backgroundcolor": "#E5ECF6",
            "gridcolor": "white",
            "gridwidth": 2,
            "linecolor": "white",
            "showbackground": true,
            "ticks": "",
            "zerolinecolor": "white"
           },
           "yaxis": {
            "backgroundcolor": "#E5ECF6",
            "gridcolor": "white",
            "gridwidth": 2,
            "linecolor": "white",
            "showbackground": true,
            "ticks": "",
            "zerolinecolor": "white"
           },
           "zaxis": {
            "backgroundcolor": "#E5ECF6",
            "gridcolor": "white",
            "gridwidth": 2,
            "linecolor": "white",
            "showbackground": true,
            "ticks": "",
            "zerolinecolor": "white"
           }
          },
          "shapedefaults": {
           "line": {
            "color": "#2a3f5f"
           }
          },
          "ternary": {
           "aaxis": {
            "gridcolor": "white",
            "linecolor": "white",
            "ticks": ""
           },
           "baxis": {
            "gridcolor": "white",
            "linecolor": "white",
            "ticks": ""
           },
           "bgcolor": "#E5ECF6",
           "caxis": {
            "gridcolor": "white",
            "linecolor": "white",
            "ticks": ""
           }
          },
          "title": {
           "x": 0.05
          },
          "xaxis": {
           "automargin": true,
           "gridcolor": "white",
           "linecolor": "white",
           "ticks": "",
           "title": {
            "standoff": 15
           },
           "zerolinecolor": "white",
           "zerolinewidth": 2
          },
          "yaxis": {
           "automargin": true,
           "gridcolor": "white",
           "linecolor": "white",
           "ticks": "",
           "title": {
            "standoff": 15
           },
           "zerolinecolor": "white",
           "zerolinewidth": 2
          }
         }
        },
        "title": {
         "text": "Optimized Model Score for Test Data"
        },
        "width": 1735,
        "xaxis": {
         "title": {
          "text": "Models"
         }
        },
        "yaxis": {
         "title": {
          "text": "Score"
         }
        }
       }
      }
     },
     "metadata": {},
     "output_type": "display_data"
    }
   ],
   "source": [
    "# Create plot for test score of all models for feature tuned and hyperparameter tuned\n",
    "import plotly.graph_objects as go\n",
    "\n",
    "models = [\"XGBoost Feature Tuned<br>(Adaboost for feature<br>importance)\",\n",
    "          \"XGBoost Feature Tuned<br>(XGBoost for feature<br>importance) + HyperTuned\",\n",
    "          \"Stacking Classifier<br>Feature Tuned<br>(XGBoost for<br>feature importance)\",\n",
    "          \"CatBoost Feature Tuned<br>(XGBoost for<br>feature importance)\",\n",
    "          \"LightGBM Feature Tuned<br>(XGBoost for<br>feature importance)\",\n",
    "          \"IsolationForest Feature Tuned<br>(XGBoost for<br>feature importance)\",\n",
    "          \"IsolationForest Feature Tuned<br>(Adaboost for<br>feature importance)\"\n",
    "          ]\n",
    "\n",
    "plot = go.Figure(data=[\n",
    "    go.Bar(\n",
    "    name = \"Train Scores\",\n",
    "    x = models,\n",
    "    y = [0.707, 0.978, 0.9282742223, 0.974, 0.838, 0.8564853556, 0.8914225941422594],\n",
    "    marker_color = 'forestgreen'\n",
    "), go.Bar(\n",
    "    name = \"Validation Scores\",\n",
    "    x = models,\n",
    "    y = [0.689, 0.875, 0.7959667853, 0.845, 0.77, 0.8468298807, 0.8857501569365976],\n",
    "    marker_color = 'goldenrod'\n",
    "), go.Bar(\n",
    "    name = \"Test Scores\",\n",
    "    x = models,\n",
    "    y = [0.69, 0.18, 0.71, 0.499, 0.312, 0.8005295675, 0.8923212709620476],\n",
    "    marker_color = 'indianred'\n",
    ")]).update_layout(xaxis_title = \"Models\", yaxis_title = \"Score\", title = \"Optimized Model Score for Test Data\", width=1735)\n",
    "\n",
    "\n",
    "\n",
    "plot.show()"
   ]
  }
 ],
 "metadata": {
  "colab": {
   "collapsed_sections": [],
   "name": "forecasting-bitcoin-prices.ipynb",
   "provenance": []
  },
  "kernelspec": {
   "display_name": "dev",
   "language": "python",
   "name": "python3"
  },
  "language_info": {
   "codemirror_mode": {
    "name": "ipython",
    "version": 3
   },
   "file_extension": ".py",
   "mimetype": "text/x-python",
   "name": "python",
   "nbconvert_exporter": "python",
   "pygments_lexer": "ipython3",
   "version": "3.10.14"
  },
  "nteract": {
   "version": "0.28.0"
  }
 },
 "nbformat": 4,
 "nbformat_minor": 1
}
